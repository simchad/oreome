{
 "cells": [
  {
   "cell_type": "code",
   "execution_count": 10,
   "id": "a05a6bd6-f6df-44aa-aff0-a5b6fcffbed4",
   "metadata": {},
   "outputs": [
    {
     "name": "stdout",
     "output_type": "stream",
     "text": [
      "message! >>> 16 Potential contaminant elements are dropped\n",
      "message! >>> 18 reverse elements are dropped\n",
      "message! >>> 1 reverse elements are dropped\n",
      "message! >>> 3 columns are dropped: [Only identified by site], [Reverse], [Potential contaminant]\n",
      "message! >>> C:/Users/Simon/Documents/PDmimic_output/20220719_Ecoli_Global_200ng_60min_1_proteinGroups_v0.txt added.\n",
      "message! >>> Dropped 18 columns\n",
      "\n",
      "message! >>> Protein IDs splited\n",
      "message! >>> Best Ms/MS splited\n",
      "message! >>> C:/Users/Simon/Documents/PDmimic_output/20220719_Ecoli_Global_200ng_60min_1_proteinGroups_v1.txt added.\n",
      "<class 'pandas.core.frame.DataFrame'>\n",
      "RangeIndex: 1560 entries, 0 to 1559\n",
      "Data columns (total 13 columns):\n",
      " #   Column                         Non-Null Count  Dtype  \n",
      "---  ------                         --------------  -----  \n",
      " 0   Protein IDs                    1560 non-null   object \n",
      " 1   Peptide counts (razor+unique)  1560 non-null   object \n",
      " 2   Protein names                  1560 non-null   object \n",
      " 3   Gene names                     1560 non-null   object \n",
      " 4   Number of proteins             1560 non-null   int64  \n",
      " 5   Razor + unique peptides        1560 non-null   int64  \n",
      " 6   Unique sequence coverage [%]   1560 non-null   float64\n",
      " 7   Sequence lengths               1560 non-null   object \n",
      " 8   Score                          1560 non-null   float64\n",
      " 9   Intensity                      1560 non-null   int64  \n",
      " 10  MS/MS count                    1560 non-null   int64  \n",
      " 11  id                             1560 non-null   int64  \n",
      " 12  Best MS/MS                     1560 non-null   object \n",
      "dtypes: float64(2), int64(5), object(6)\n",
      "memory usage: 158.6+ KB\n"
     ]
    }
   ],
   "source": [
    "# proteinGroups.txt / peptides.txt 판독 시행. How?\n",
    "# v0: proteinGroups.txt 로드 후, contam, reverse, only ident 필터링\n",
    "# v1.0: 선택 column제외 필터링 + ';'으로 구분된 데이터 요소 split\n",
    "\n",
    "# 패키지 불러오기\n",
    "import pandas as pd\n",
    "from time import localtime, strftime\n",
    "\n",
    "global txtpath, outpath\n",
    "# txtpath = 'F:/HFX-2022-DATA-Searched/20220719_DU145_Global_200ng_60min_7-28%_1/combined/txt/proteinGroups.txt'\n",
    "txtpath = 'F:/HFX-2022-DATA-Searched/Test-Samples/20220719_Ecoli_Global_200ng_60min_1/combined/txt/proteinGroups.txt'\n",
    "outpath = 'C:/Users/Simon/Documents/PDmimic_output/'\n",
    "\n",
    "class op_address:\n",
    "    def __init__(self, vers):\n",
    "        self.vers = vers\n",
    "        \n",
    "    def pg_address(self):\n",
    "        address = outpath+txtpath[39:74]+'_proteinGroups_v'+str(self.vers)+'.txt'\n",
    "        return address\n",
    "\n",
    "    def pep_address(self):\n",
    "        address = outpath+txtpath[26:65]+'_peptides_v'+str(self.vers)+'.txt'\n",
    "        return address\n",
    "    \n",
    "    def pg_address2(self):\n",
    "        tm = localtime()\n",
    "        ntm = strftime('%Y%m%d_%H%M%S', tm)\n",
    "        address = outpath+'proteinGroups_v'+str(self.vers)+'-'+ntm+'.txt'\n",
    "        return address\n",
    "    \n",
    "    def pep_address2(self):\n",
    "        tm = localtime()\n",
    "        ntm = strftime('%Y%m%d_%H%M%S', tm)\n",
    "        address = outpath+'peptides_v'+str(self.vers)+'-'+ntm+'.txt'\n",
    "        return address\n",
    "\n",
    "\n",
    "# proteinGroups.txt 로드.\n",
    "# ./RawData/TextFiles 경로에 proteinGroups.txt 위치해야.\n",
    "df = pd.read_table(filepath_or_buffer=txtpath)\n",
    "len0 = len(df)\n",
    "\n",
    "\n",
    "# version 0 : Filtered [Potential contaminants], [Reverse], [Only identified by site]\n",
    "df.drop(df[df['Potential contaminant'] == '+'].index, inplace = True)\n",
    "len_contam = len0 - len(df)\n",
    "print('message! >>> '+str(len_contam)+' Potential contaminant elements are dropped')\n",
    "\n",
    "df.drop(df[df['Reverse'] == '+'].index, inplace = True)\n",
    "len_rev = len0-len_contam-len(df)\n",
    "print('message! >>> '+str(len_rev)+' reverse elements are dropped')\n",
    "\n",
    "df.drop(df[df['Only identified by site'] == '+'].index, inplace = True)\n",
    "len_osite = len0-len_contam-len_rev-len(df)\n",
    "print('message! >>> '+str(len_osite)+' reverse elements are dropped')\n",
    "\n",
    "df.drop(columns=['Only identified by site', 'Reverse', 'Potential contaminant'], inplace=True)\n",
    "print('message! >>> 3 columns are dropped: [Only identified by site], [Reverse], [Potential contaminant]')\n",
    "\n",
    "\n",
    "# Generate file: version 0\n",
    "v = op_address(0)\n",
    "df.to_csv(path_or_buf=v.pg_address(), sep='\\t', index=False, encoding='utf-8')\n",
    "print('message! >>> '+v.pg_address()+' added.')\n",
    "\n",
    "\n",
    "# 남겨놓을 column label 제외 필터링.\n",
    "column_names = list(df)\n",
    "rest = {'Protein IDs', 'Peptide counts (razor+unique)', 'Protein names', 'Gene names', 'Number of proteins',\n",
    "        'Razor + unique peptides', 'Unique sequence coverage [%]', 'Sequence lengths' ,'Score', 'Intensity',\n",
    "        'MS/MS count', 'id', 'Best MS/MS'}\n",
    "filt = [ele for ele in column_names if ele not in rest]\n",
    "df.drop(columns=filt, inplace=True)\n",
    "\n",
    "print('message! >>> Dropped '+str(len(filt))+' columns\\n')\n",
    "\n",
    "\n",
    "# version 1.0 : ';'으로 구분된 데이터 요소 split후 첫 요소로 값 교체.\n",
    "# (1) Protein IDs\n",
    "prot = pd.Series(df[\"Protein IDs\"])\n",
    "for ele in prot:\n",
    "    tmp = ele.split(';')[0]\n",
    "    prot.replace(ele, tmp, inplace=True)\n",
    "print('message! >>> Protein IDs splited')\n",
    "\n",
    "# (2) Best MS/MS\n",
    "bmsms = pd.Series(df[\"Best MS/MS\"])\n",
    "for ele in bmsms:\n",
    "    tmp = ele.split(';')[0]\n",
    "    bmsms.replace(ele, tmp, inplace=True)\n",
    "print('message! >>> Best Ms/MS splited')\n",
    "\n",
    "# index 넘버링 초기화\n",
    "df.reset_index(drop=True, inplace=True)\n",
    "\n",
    "# Generate file: version 1\n",
    "v = op_address(1)\n",
    "df.to_csv(path_or_buf=v.pg_address(), sep='\\t', index=False, encoding='utf-8')\n",
    "print('message! >>> '+v.pg_address()+' added.')\n",
    "\n",
    "df.info()"
   ]
  },
  {
   "cell_type": "code",
   "execution_count": 11,
   "id": "484eabea-71b3-4e67-8834-a20094c5dfd7",
   "metadata": {},
   "outputs": [
    {
     "data": {
      "text/plain": [
       "1560"
      ]
     },
     "execution_count": 11,
     "metadata": {},
     "output_type": "execute_result"
    }
   ],
   "source": [
    "len(prot)"
   ]
  },
  {
   "cell_type": "code",
   "execution_count": 12,
   "id": "10861503-763d-4303-8d5d-6f0e49773b7b",
   "metadata": {},
   "outputs": [
    {
     "name": "stdout",
     "output_type": "stream",
     "text": [
      "<class 'pandas.core.frame.DataFrame'>\n",
      "RangeIndex: 1560 entries, 0 to 1559\n",
      "Data columns (total 13 columns):\n",
      " #   Column                         Non-Null Count  Dtype  \n",
      "---  ------                         --------------  -----  \n",
      " 0   Protein IDs                    1560 non-null   object \n",
      " 1   Peptide counts (razor+unique)  1560 non-null   object \n",
      " 2   Protein names                  1560 non-null   object \n",
      " 3   Gene names                     1560 non-null   object \n",
      " 4   Number of proteins             1560 non-null   int64  \n",
      " 5   Razor + unique peptides        1560 non-null   int64  \n",
      " 6   Unique sequence coverage [%]   1560 non-null   float64\n",
      " 7   Sequence lengths               1560 non-null   object \n",
      " 8   Score                          1560 non-null   float64\n",
      " 9   Intensity                      1560 non-null   int64  \n",
      " 10  MS/MS count                    1560 non-null   int64  \n",
      " 11  id                             1560 non-null   int64  \n",
      " 12  Best MS/MS                     1560 non-null   object \n",
      "dtypes: float64(2), int64(5), object(6)\n",
      "memory usage: 158.6+ KB\n"
     ]
    }
   ],
   "source": [
    "df.info()"
   ]
  },
  {
   "cell_type": "code",
   "execution_count": 1,
   "id": "ca5705d1-6f16-423e-9c1c-670860ef2290",
   "metadata": {},
   "outputs": [],
   "source": [
    "word = 'F:/HFX-2022-DATA-Searched/Test-Samples/20220719_Ecoli_Global_200ng_60min_1/combined/txt/proteinGroups.txt'"
   ]
  },
  {
   "cell_type": "code",
   "execution_count": 6,
   "id": "ba23669a-00eb-4e21-a461-f1930ec1fac6",
   "metadata": {},
   "outputs": [
    {
     "data": {
      "text/plain": [
       "'20220719_Ecoli_Global_200ng_60min_1'"
      ]
     },
     "execution_count": 6,
     "metadata": {},
     "output_type": "execute_result"
    }
   ],
   "source": [
    "word[39:74]"
   ]
  },
  {
   "cell_type": "code",
   "execution_count": null,
   "id": "4a850e91-71be-413c-b79e-391aa795724a",
   "metadata": {},
   "outputs": [],
   "source": []
  }
 ],
 "metadata": {
  "kernelspec": {
   "display_name": "Python 3 (ipykernel)",
   "language": "python",
   "name": "python3"
  },
  "language_info": {
   "codemirror_mode": {
    "name": "ipython",
    "version": 3
   },
   "file_extension": ".py",
   "mimetype": "text/x-python",
   "name": "python",
   "nbconvert_exporter": "python",
   "pygments_lexer": "ipython3",
   "version": "3.9.7"
  }
 },
 "nbformat": 4,
 "nbformat_minor": 5
}
