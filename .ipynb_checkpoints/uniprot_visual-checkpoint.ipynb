{
 "cells": [
  {
   "cell_type": "markdown",
   "id": "e173df3d-3850-47ed-a0f7-e4c55aac98de",
   "metadata": {},
   "source": [
    "detect된 sequence,,, unique sequence 위치를 uniprot sequence에서 mapping해서 visual idea.\n"
   ]
  }
 ],
 "metadata": {
  "kernelspec": {
   "display_name": "Python 3 (ipykernel)",
   "language": "python",
   "name": "python3"
  },
  "language_info": {
   "codemirror_mode": {
    "name": "ipython",
    "version": 3
   },
   "file_extension": ".py",
   "mimetype": "text/x-python",
   "name": "python",
   "nbconvert_exporter": "python",
   "pygments_lexer": "ipython3",
   "version": "3.9.7"
  }
 },
 "nbformat": 4,
 "nbformat_minor": 5
}
