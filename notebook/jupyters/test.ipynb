{
 "cells": [
  {
   "cell_type": "code",
   "execution_count": 4,
   "metadata": {},
   "outputs": [
    {
     "data": {
      "text/html": [
       "<div>\n",
       "<style scoped>\n",
       "    .dataframe tbody tr th:only-of-type {\n",
       "        vertical-align: middle;\n",
       "    }\n",
       "\n",
       "    .dataframe tbody tr th {\n",
       "        vertical-align: top;\n",
       "    }\n",
       "\n",
       "    .dataframe thead th {\n",
       "        text-align: right;\n",
       "    }\n",
       "</style>\n",
       "<table border=\"1\" class=\"dataframe\">\n",
       "  <thead>\n",
       "    <tr style=\"text-align: right;\">\n",
       "      <th></th>\n",
       "      <th>Protein IDs</th>\n",
       "      <th>Majority protein IDs</th>\n",
       "      <th>Peptide counts (all)</th>\n",
       "      <th>Peptide counts (razor+unique)</th>\n",
       "      <th>Peptide counts (unique)</th>\n",
       "      <th>Protein names</th>\n",
       "      <th>Gene names</th>\n",
       "      <th>Fasta headers</th>\n",
       "      <th>Number of proteins</th>\n",
       "      <th>Peptides</th>\n",
       "      <th>...</th>\n",
       "      <th>Potential contaminant</th>\n",
       "      <th>id</th>\n",
       "      <th>Peptide IDs</th>\n",
       "      <th>Peptide is razor</th>\n",
       "      <th>Mod. peptide IDs</th>\n",
       "      <th>Evidence IDs</th>\n",
       "      <th>MS/MS IDs</th>\n",
       "      <th>Best MS/MS</th>\n",
       "      <th>Oxidation (M) site IDs</th>\n",
       "      <th>Oxidation (M) site positions</th>\n",
       "    </tr>\n",
       "  </thead>\n",
       "  <tbody>\n",
       "    <tr>\n",
       "      <th>0</th>\n",
       "      <td>A0A075B6H2;Q4LDE5;Q4LDE5-4;A0A075B6H1;Q4LDE5-2...</td>\n",
       "      <td>A0A075B6H2;Q4LDE5;Q4LDE5-4</td>\n",
       "      <td>26;26;15;10;10;6</td>\n",
       "      <td>26;26;15;10;10;6</td>\n",
       "      <td>26;26;15;10;10;6</td>\n",
       "      <td>Sushi, von Willebrand factor type A, EGF and p...</td>\n",
       "      <td>SVEP1</td>\n",
       "      <td>;;</td>\n",
       "      <td>6</td>\n",
       "      <td>26</td>\n",
       "      <td>...</td>\n",
       "      <td>NaN</td>\n",
       "      <td>0</td>\n",
       "      <td>1438;1745;3161;3662;3965;4557;4762;5324;5449;5...</td>\n",
       "      <td>True;True;True;True;True;True;True;True;True;T...</td>\n",
       "      <td>1548;1866;3406;3946;4271;4902;5122;5736;5872;6...</td>\n",
       "      <td>6903;7648;14605;16723;16724;18291;21448;21449;...</td>\n",
       "      <td>9494;10410;19776;22703;22704;24976;29842;29843...</td>\n",
       "      <td>9494;10410;19776;22703;24976;29842;30726;34332...</td>\n",
       "      <td>NaN</td>\n",
       "      <td>NaN</td>\n",
       "    </tr>\n",
       "    <tr>\n",
       "      <th>1</th>\n",
       "      <td>A0A075B6I2;P06318;P06319</td>\n",
       "      <td>A0A075B6I2</td>\n",
       "      <td>5;1;1</td>\n",
       "      <td>5;1;1</td>\n",
       "      <td>5;1;1</td>\n",
       "      <td>NaN</td>\n",
       "      <td>IGLV6-57</td>\n",
       "      <td>NaN</td>\n",
       "      <td>3</td>\n",
       "      <td>5</td>\n",
       "      <td>...</td>\n",
       "      <td>NaN</td>\n",
       "      <td>1</td>\n",
       "      <td>5087;11346;13402;13403;14690</td>\n",
       "      <td>True;True;True;True;True</td>\n",
       "      <td>5476;12397;14603;14604;16014</td>\n",
       "      <td>23585;23586;23587;23588;23589;51196;51197;6066...</td>\n",
       "      <td>32669;32670;32671;32672;32673;68981;68982;8150...</td>\n",
       "      <td>32671;68981;81509;81511;90588</td>\n",
       "      <td>NaN</td>\n",
       "      <td>NaN</td>\n",
       "    </tr>\n",
       "    <tr>\n",
       "      <th>2</th>\n",
       "      <td>A0A075B6K6</td>\n",
       "      <td>A0A075B6K6</td>\n",
       "      <td>1</td>\n",
       "      <td>1</td>\n",
       "      <td>1</td>\n",
       "      <td>NaN</td>\n",
       "      <td>IGLV4-3</td>\n",
       "      <td>NaN</td>\n",
       "      <td>1</td>\n",
       "      <td>1</td>\n",
       "      <td>...</td>\n",
       "      <td>NaN</td>\n",
       "      <td>2</td>\n",
       "      <td>12640</td>\n",
       "      <td>True</td>\n",
       "      <td>13783</td>\n",
       "      <td>56587</td>\n",
       "      <td>76118</td>\n",
       "      <td>76118</td>\n",
       "      <td>NaN</td>\n",
       "      <td>NaN</td>\n",
       "    </tr>\n",
       "    <tr>\n",
       "      <th>3</th>\n",
       "      <td>A0A075B759;F5H284</td>\n",
       "      <td>A0A075B759;F5H284</td>\n",
       "      <td>3;3</td>\n",
       "      <td>1;1</td>\n",
       "      <td>1;1</td>\n",
       "      <td>Peptidyl-prolyl cis-trans isomerase;Peptidyl-p...</td>\n",
       "      <td>PPIAL4E;PPIAL4D</td>\n",
       "      <td>;</td>\n",
       "      <td>2</td>\n",
       "      <td>3</td>\n",
       "      <td>...</td>\n",
       "      <td>NaN</td>\n",
       "      <td>3</td>\n",
       "      <td>7464;13929;15603</td>\n",
       "      <td>False;False;True</td>\n",
       "      <td>8041;8042;15173;17002</td>\n",
       "      <td>35177;35178;35179;35180;35181;35182;35183;3518...</td>\n",
       "      <td>48079;48080;48081;48082;48083;48084;48085;4808...</td>\n",
       "      <td>48090;84667;96330</td>\n",
       "      <td>0</td>\n",
       "      <td>61</td>\n",
       "    </tr>\n",
       "    <tr>\n",
       "      <th>4</th>\n",
       "      <td>A0A075B788;X6R433;P08575-2;P08575</td>\n",
       "      <td>A0A075B788;X6R433;P08575-2;P08575</td>\n",
       "      <td>9;9;9;9</td>\n",
       "      <td>9;9;9;9</td>\n",
       "      <td>9;9;9;9</td>\n",
       "      <td>Protein-tyrosine-phosphatase;Receptor-type tyr...</td>\n",
       "      <td>PTPRC</td>\n",
       "      <td>;;;</td>\n",
       "      <td>4</td>\n",
       "      <td>9</td>\n",
       "      <td>...</td>\n",
       "      <td>NaN</td>\n",
       "      <td>4</td>\n",
       "      <td>228;1497;2056;2621;3731;5036;13804;14225;16484</td>\n",
       "      <td>True;True;True;True;True;True;True;True;True</td>\n",
       "      <td>250;1611;2197;2801;4023;5419;15042;15497;17955</td>\n",
       "      <td>902;7064;8575;11221;16960;23346;23347;62574;62...</td>\n",
       "      <td>1246;9695;11551;15042;23010;32349;32350;84199;...</td>\n",
       "      <td>1246;9695;11551;15042;23010;32349;84201;86094;...</td>\n",
       "      <td>NaN</td>\n",
       "      <td>NaN</td>\n",
       "    </tr>\n",
       "  </tbody>\n",
       "</table>\n",
       "<p>5 rows × 64 columns</p>\n",
       "</div>"
      ],
      "text/plain": [
       "                                         Protein IDs  \\\n",
       "0  A0A075B6H2;Q4LDE5;Q4LDE5-4;A0A075B6H1;Q4LDE5-2...   \n",
       "1                           A0A075B6I2;P06318;P06319   \n",
       "2                                         A0A075B6K6   \n",
       "3                                  A0A075B759;F5H284   \n",
       "4                  A0A075B788;X6R433;P08575-2;P08575   \n",
       "\n",
       "                Majority protein IDs Peptide counts (all)  \\\n",
       "0         A0A075B6H2;Q4LDE5;Q4LDE5-4     26;26;15;10;10;6   \n",
       "1                         A0A075B6I2                5;1;1   \n",
       "2                         A0A075B6K6                    1   \n",
       "3                  A0A075B759;F5H284                  3;3   \n",
       "4  A0A075B788;X6R433;P08575-2;P08575              9;9;9;9   \n",
       "\n",
       "  Peptide counts (razor+unique) Peptide counts (unique)  \\\n",
       "0              26;26;15;10;10;6        26;26;15;10;10;6   \n",
       "1                         5;1;1                   5;1;1   \n",
       "2                             1                       1   \n",
       "3                           1;1                     1;1   \n",
       "4                       9;9;9;9                 9;9;9;9   \n",
       "\n",
       "                                       Protein names       Gene names  \\\n",
       "0  Sushi, von Willebrand factor type A, EGF and p...            SVEP1   \n",
       "1                                                NaN         IGLV6-57   \n",
       "2                                                NaN          IGLV4-3   \n",
       "3  Peptidyl-prolyl cis-trans isomerase;Peptidyl-p...  PPIAL4E;PPIAL4D   \n",
       "4  Protein-tyrosine-phosphatase;Receptor-type tyr...            PTPRC   \n",
       "\n",
       "  Fasta headers  Number of proteins  Peptides  ...  Potential contaminant  id  \\\n",
       "0            ;;                   6        26  ...                    NaN   0   \n",
       "1           NaN                   3         5  ...                    NaN   1   \n",
       "2           NaN                   1         1  ...                    NaN   2   \n",
       "3             ;                   2         3  ...                    NaN   3   \n",
       "4           ;;;                   4         9  ...                    NaN   4   \n",
       "\n",
       "                                         Peptide IDs  \\\n",
       "0  1438;1745;3161;3662;3965;4557;4762;5324;5449;5...   \n",
       "1                       5087;11346;13402;13403;14690   \n",
       "2                                              12640   \n",
       "3                                   7464;13929;15603   \n",
       "4     228;1497;2056;2621;3731;5036;13804;14225;16484   \n",
       "\n",
       "                                    Peptide is razor  \\\n",
       "0  True;True;True;True;True;True;True;True;True;T...   \n",
       "1                           True;True;True;True;True   \n",
       "2                                               True   \n",
       "3                                   False;False;True   \n",
       "4       True;True;True;True;True;True;True;True;True   \n",
       "\n",
       "                                    Mod. peptide IDs  \\\n",
       "0  1548;1866;3406;3946;4271;4902;5122;5736;5872;6...   \n",
       "1                       5476;12397;14603;14604;16014   \n",
       "2                                              13783   \n",
       "3                              8041;8042;15173;17002   \n",
       "4     250;1611;2197;2801;4023;5419;15042;15497;17955   \n",
       "\n",
       "                                        Evidence IDs  \\\n",
       "0  6903;7648;14605;16723;16724;18291;21448;21449;...   \n",
       "1  23585;23586;23587;23588;23589;51196;51197;6066...   \n",
       "2                                              56587   \n",
       "3  35177;35178;35179;35180;35181;35182;35183;3518...   \n",
       "4  902;7064;8575;11221;16960;23346;23347;62574;62...   \n",
       "\n",
       "                                           MS/MS IDs  \\\n",
       "0  9494;10410;19776;22703;22704;24976;29842;29843...   \n",
       "1  32669;32670;32671;32672;32673;68981;68982;8150...   \n",
       "2                                              76118   \n",
       "3  48079;48080;48081;48082;48083;48084;48085;4808...   \n",
       "4  1246;9695;11551;15042;23010;32349;32350;84199;...   \n",
       "\n",
       "                                          Best MS/MS  Oxidation (M) site IDs  \\\n",
       "0  9494;10410;19776;22703;24976;29842;30726;34332...                     NaN   \n",
       "1                      32671;68981;81509;81511;90588                     NaN   \n",
       "2                                              76118                     NaN   \n",
       "3                                  48090;84667;96330                       0   \n",
       "4  1246;9695;11551;15042;23010;32349;84201;86094;...                     NaN   \n",
       "\n",
       "   Oxidation (M) site positions  \n",
       "0                           NaN  \n",
       "1                           NaN  \n",
       "2                           NaN  \n",
       "3                            61  \n",
       "4                           NaN  \n",
       "\n",
       "[5 rows x 64 columns]"
      ]
     },
     "execution_count": 4,
     "metadata": {},
     "output_type": "execute_result"
    }
   ],
   "source": [
    "import pandas as pd\n",
    "df = pd.read_csv(filepath_or_buffer='../../example/maxquant_opendata/dataset_TMT/proteinGroups.txt', sep='\\t', encoding='-utf-8')\n",
    "df.head()"
   ]
  },
  {
   "cell_type": "code",
   "execution_count": 10,
   "metadata": {},
   "outputs": [
    {
     "data": {
      "text/plain": [
       "'Protein IDs'"
      ]
     },
     "execution_count": 10,
     "metadata": {},
     "output_type": "execute_result"
    }
   ],
   "source": [
    "col_name = df.columns.values.tolist()\n",
    "col_name[0]\n",
    "# 'Protein IDs'"
   ]
  },
  {
   "cell_type": "code",
   "execution_count": 14,
   "metadata": {},
   "outputs": [],
   "source": [
    "import re\n",
    "r = re.compile(\"Reporter\")\n",
    "reporters = list(filter(r.match, col_name))"
   ]
  },
  {
   "cell_type": "code",
   "execution_count": null,
   "metadata": {},
   "outputs": [],
   "source": [
    "# regex로 corrected, count 찾아도 됨.\n",
    "# corrected, normal, count 이렇게 세 개 타입이 세트로 나오기 때문에.\n",
    "# 세 셋트. 3으로 나눠서 앞 1/3은 corrected, 뒤 1/3은 count로 줘도 됨.\n",
    "# 순서 바뀌지 않는다는 가정하에...\n",
    "#\n",
    "# 만약에 순서 바뀔 거 생각하면 regex로 조져야."
   ]
  },
  {
   "cell_type": "code",
   "execution_count": 27,
   "metadata": {},
   "outputs": [
    {
     "name": "stdout",
     "output_type": "stream",
     "text": [
      "['Reporter intensity 0', 'Reporter intensity 1', 'Reporter intensity 2', 'Reporter intensity 3', 'Reporter intensity 4', 'Reporter intensity 5', 'Reporter intensity 6', 'Reporter intensity 7', 'Reporter intensity 8', 'Reporter intensity 9']\n"
     ]
    }
   ],
   "source": [
    "r_corrected = re.compile(\"corrected\")\n",
    "r_count = re.compile(\"count\")\n",
    "\n",
    "reporter_corrected = list(filter(r_corrected.search, reporters))\n",
    "reporter_count = list(filter(r_count.search, reporters))\n",
    "\n",
    "reporter = sorted(list((set(reporters)-set(reporter_corrected))-set(reporter_count)))\n",
    "print(reporter)"
   ]
  },
  {
   "cell_type": "code",
   "execution_count": 25,
   "metadata": {},
   "outputs": [
    {
     "data": {
      "text/plain": [
       "['Reporter intensity corrected 0',\n",
       " 'Reporter intensity corrected 1',\n",
       " 'Reporter intensity corrected 2',\n",
       " 'Reporter intensity corrected 3',\n",
       " 'Reporter intensity corrected 4',\n",
       " 'Reporter intensity corrected 5',\n",
       " 'Reporter intensity corrected 6',\n",
       " 'Reporter intensity corrected 7',\n",
       " 'Reporter intensity corrected 8',\n",
       " 'Reporter intensity corrected 9']"
      ]
     },
     "execution_count": 25,
     "metadata": {},
     "output_type": "execute_result"
    }
   ],
   "source": [
    "reporter_corrected"
   ]
  },
  {
   "cell_type": "code",
   "execution_count": 28,
   "metadata": {},
   "outputs": [
    {
     "data": {
      "text/plain": [
       "['Reporter intensity 0',\n",
       " 'Reporter intensity 1',\n",
       " 'Reporter intensity 2',\n",
       " 'Reporter intensity 3',\n",
       " 'Reporter intensity 4',\n",
       " 'Reporter intensity 5',\n",
       " 'Reporter intensity 6',\n",
       " 'Reporter intensity 7',\n",
       " 'Reporter intensity 8',\n",
       " 'Reporter intensity 9']"
      ]
     },
     "execution_count": 28,
     "metadata": {},
     "output_type": "execute_result"
    }
   ],
   "source": [
    "reporter\n",
    "# 여기서 재밌는 사실. regex.search는 순차로 찾는데\n",
    "# set으로 빼고 list 로 바꾸면 순서가 엉망진창.\n",
    "# 양방향으로 찾는다는 것. 나중에 정렬해주면 좋음."
   ]
  },
  {
   "cell_type": "code",
   "execution_count": 32,
   "metadata": {},
   "outputs": [
    {
     "ename": "ModuleNotFoundError",
     "evalue": "No module named 'pyFiles'",
     "output_type": "error",
     "traceback": [
      "\u001b[1;31m---------------------------------------------------------------------------\u001b[0m",
      "\u001b[1;31mModuleNotFoundError\u001b[0m                       Traceback (most recent call last)",
      "Cell \u001b[1;32mIn[32], line 1\u001b[0m\n\u001b[1;32m----> 1\u001b[0m \u001b[39mfrom\u001b[39;00m \u001b[39mpyFiles\u001b[39;00m\u001b[39m.\u001b[39;00m\u001b[39mmy_lib\u001b[39;00m \u001b[39mimport\u001b[39;00m preprocessing\n\u001b[0;32m      3\u001b[0m reporter \u001b[39m=\u001b[39m preprocessing\u001b[39m.\u001b[39mcolumn_tmt_reporter(df, \u001b[39mtype\u001b[39m\u001b[39m=\u001b[39m\u001b[39mNone\u001b[39;00m)\n\u001b[0;32m      4\u001b[0m \u001b[39mprint\u001b[39m(reporter)\n",
      "\u001b[1;31mModuleNotFoundError\u001b[0m: No module named 'pyFiles'"
     ]
    }
   ],
   "source": [
    "from pyFiles.my_lib import preprocessing\n",
    "\n",
    "reporter = preprocessing.column_tmt_reporter(df, type=None)\n",
    "print(reporter)"
   ]
  }
 ],
 "metadata": {
  "kernelspec": {
   "display_name": "Python 3",
   "language": "python",
   "name": "python3"
  },
  "language_info": {
   "codemirror_mode": {
    "name": "ipython",
    "version": 3
   },
   "file_extension": ".py",
   "mimetype": "text/x-python",
   "name": "python",
   "nbconvert_exporter": "python",
   "pygments_lexer": "ipython3",
   "version": "3.10.9"
  },
  "orig_nbformat": 4
 },
 "nbformat": 4,
 "nbformat_minor": 2
}
