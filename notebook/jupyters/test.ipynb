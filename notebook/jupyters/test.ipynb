{
 "cells": [
  {
   "cell_type": "code",
   "execution_count": 5,
   "metadata": {},
   "outputs": [
    {
     "data": {
      "text/plain": [
       "{126, 127, 128, 'a', 'b'}"
      ]
     },
     "execution_count": 5,
     "metadata": {},
     "output_type": "execute_result"
    }
   ],
   "source": [
    "base_cols = ['a', 'b']\n",
    "rest_tmt = [126, 127, 128]\n",
    "\n",
    "# Case TMT\n",
    "\n",
    "rest_cols = set(base_cols) | set(rest_tmt)\n",
    "\n",
    "rest_cols"
   ]
  },
  {
   "cell_type": "code",
   "execution_count": 4,
   "metadata": {},
   "outputs": [
    {
     "ename": "ValueError",
     "evalue": "",
     "output_type": "error",
     "traceback": [
      "\u001b[1;31m---------------------------------------------------------------------------\u001b[0m",
      "\u001b[1;31mValueError\u001b[0m                                Traceback (most recent call last)",
      "Cell \u001b[1;32mIn[4], line 1\u001b[0m\n\u001b[1;32m----> 1\u001b[0m abc(\u001b[39m17\u001b[39;49m)\n",
      "Cell \u001b[1;32mIn[3], line 3\u001b[0m, in \u001b[0;36mabc\u001b[1;34m(target)\u001b[0m\n\u001b[0;32m      1\u001b[0m \u001b[39mdef\u001b[39;00m \u001b[39mabc\u001b[39m(target: \u001b[39mstr\u001b[39m\u001b[39m=\u001b[39m\u001b[39mNone\u001b[39;00m):\n\u001b[0;32m      2\u001b[0m     \u001b[39mif\u001b[39;00m target \u001b[39mnot\u001b[39;00m \u001b[39min\u001b[39;00m [\u001b[39m\"\u001b[39m\u001b[39mprot\u001b[39m\u001b[39m\"\u001b[39m,\u001b[39m\"\u001b[39m\u001b[39mpep\u001b[39m\u001b[39m\"\u001b[39m]:\n\u001b[1;32m----> 3\u001b[0m             \u001b[39mraise\u001b[39;00m \u001b[39mValueError\u001b[39;00m\n\u001b[0;32m      4\u001b[0m     \u001b[39melse\u001b[39;00m:\n\u001b[0;32m      5\u001b[0m           \u001b[39mprint\u001b[39m(target)\n",
      "\u001b[1;31mValueError\u001b[0m: "
     ]
    }
   ],
   "source": [
    "abc(17)"
   ]
  },
  {
   "cell_type": "code",
   "execution_count": 10,
   "metadata": {},
   "outputs": [
    {
     "data": {
      "text/plain": [
       "'Protein IDs'"
      ]
     },
     "execution_count": 10,
     "metadata": {},
     "output_type": "execute_result"
    }
   ],
   "source": [
    "col_name = df.columns.values.tolist()\n",
    "col_name[0]\n",
    "# 'Protein IDs'"
   ]
  },
  {
   "cell_type": "code",
   "execution_count": 14,
   "metadata": {},
   "outputs": [],
   "source": [
    "import re\n",
    "r = re.compile(\"Reporter\")\n",
    "reporters = list(filter(r.match, col_name))"
   ]
  },
  {
   "cell_type": "code",
   "execution_count": null,
   "metadata": {},
   "outputs": [],
   "source": [
    "# regex로 corrected, count 찾아도 됨.\n",
    "# corrected, normal, count 이렇게 세 개 타입이 세트로 나오기 때문에.\n",
    "# 세 셋트. 3으로 나눠서 앞 1/3은 corrected, 뒤 1/3은 count로 줘도 됨.\n",
    "# 순서 바뀌지 않는다는 가정하에...\n",
    "#\n",
    "# 만약에 순서 바뀔 거 생각하면 regex로 조져야."
   ]
  },
  {
   "cell_type": "code",
   "execution_count": 27,
   "metadata": {},
   "outputs": [
    {
     "name": "stdout",
     "output_type": "stream",
     "text": [
      "['Reporter intensity 0', 'Reporter intensity 1', 'Reporter intensity 2', 'Reporter intensity 3', 'Reporter intensity 4', 'Reporter intensity 5', 'Reporter intensity 6', 'Reporter intensity 7', 'Reporter intensity 8', 'Reporter intensity 9']\n"
     ]
    }
   ],
   "source": [
    "r_corrected = re.compile(\"corrected\")\n",
    "r_count = re.compile(\"count\")\n",
    "\n",
    "reporter_corrected = list(filter(r_corrected.search, reporters))\n",
    "reporter_count = list(filter(r_count.search, reporters))\n",
    "\n",
    "reporter = sorted(list((set(reporters)-set(reporter_corrected))-set(reporter_count)))\n",
    "print(reporter)"
   ]
  },
  {
   "cell_type": "code",
   "execution_count": 25,
   "metadata": {},
   "outputs": [
    {
     "data": {
      "text/plain": [
       "['Reporter intensity corrected 0',\n",
       " 'Reporter intensity corrected 1',\n",
       " 'Reporter intensity corrected 2',\n",
       " 'Reporter intensity corrected 3',\n",
       " 'Reporter intensity corrected 4',\n",
       " 'Reporter intensity corrected 5',\n",
       " 'Reporter intensity corrected 6',\n",
       " 'Reporter intensity corrected 7',\n",
       " 'Reporter intensity corrected 8',\n",
       " 'Reporter intensity corrected 9']"
      ]
     },
     "execution_count": 25,
     "metadata": {},
     "output_type": "execute_result"
    }
   ],
   "source": [
    "reporter_corrected"
   ]
  },
  {
   "cell_type": "code",
   "execution_count": 28,
   "metadata": {},
   "outputs": [
    {
     "data": {
      "text/plain": [
       "['Reporter intensity 0',\n",
       " 'Reporter intensity 1',\n",
       " 'Reporter intensity 2',\n",
       " 'Reporter intensity 3',\n",
       " 'Reporter intensity 4',\n",
       " 'Reporter intensity 5',\n",
       " 'Reporter intensity 6',\n",
       " 'Reporter intensity 7',\n",
       " 'Reporter intensity 8',\n",
       " 'Reporter intensity 9']"
      ]
     },
     "execution_count": 28,
     "metadata": {},
     "output_type": "execute_result"
    }
   ],
   "source": [
    "reporter\n",
    "# 여기서 재밌는 사실. regex.search는 순차로 찾는데\n",
    "# set으로 빼고 list 로 바꾸면 순서가 엉망진창.\n",
    "# 양방향으로 찾는다는 것. 나중에 정렬해주면 좋음."
   ]
  },
  {
   "cell_type": "code",
   "execution_count": 32,
   "metadata": {},
   "outputs": [
    {
     "ename": "ModuleNotFoundError",
     "evalue": "No module named 'pyFiles'",
     "output_type": "error",
     "traceback": [
      "\u001b[1;31m---------------------------------------------------------------------------\u001b[0m",
      "\u001b[1;31mModuleNotFoundError\u001b[0m                       Traceback (most recent call last)",
      "Cell \u001b[1;32mIn[32], line 1\u001b[0m\n\u001b[1;32m----> 1\u001b[0m \u001b[39mfrom\u001b[39;00m \u001b[39mpyFiles\u001b[39;00m\u001b[39m.\u001b[39;00m\u001b[39mmy_lib\u001b[39;00m \u001b[39mimport\u001b[39;00m preprocessing\n\u001b[0;32m      3\u001b[0m reporter \u001b[39m=\u001b[39m preprocessing\u001b[39m.\u001b[39mcolumn_tmt_reporter(df, \u001b[39mtype\u001b[39m\u001b[39m=\u001b[39m\u001b[39mNone\u001b[39;00m)\n\u001b[0;32m      4\u001b[0m \u001b[39mprint\u001b[39m(reporter)\n",
      "\u001b[1;31mModuleNotFoundError\u001b[0m: No module named 'pyFiles'"
     ]
    }
   ],
   "source": [
    "from pyFiles.my_lib import preprocessing\n",
    "\n",
    "reporter = preprocessing.column_tmt_reporter(df, type=None)\n",
    "print(reporter)"
   ]
  }
 ],
 "metadata": {
  "kernelspec": {
   "display_name": "Python 3",
   "language": "python",
   "name": "python3"
  },
  "language_info": {
   "codemirror_mode": {
    "name": "ipython",
    "version": 3
   },
   "file_extension": ".py",
   "mimetype": "text/x-python",
   "name": "python",
   "nbconvert_exporter": "python",
   "pygments_lexer": "ipython3",
   "version": "3.10.9"
  },
  "orig_nbformat": 4
 },
 "nbformat": 4,
 "nbformat_minor": 2
}
