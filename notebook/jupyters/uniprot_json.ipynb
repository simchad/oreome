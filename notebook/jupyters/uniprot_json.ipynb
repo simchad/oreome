{
 "cells": [
  {
   "cell_type": "code",
   "execution_count": 1,
   "metadata": {},
   "outputs": [],
   "source": [
    "# 2023.07.20. THR\n",
    "\n",
    "import json\n",
    "\n",
    "with open('../../example/idmapping_2023_07_20.json', 'r') as f:\n",
    "    json_data = json.load(f)"
   ]
  },
  {
   "cell_type": "code",
   "execution_count": 28,
   "metadata": {},
   "outputs": [
    {
     "name": "stdout",
     "output_type": "stream",
     "text": [
      "Complex I intermediate-associated protein 30, mitochondrial\n"
     ]
    }
   ],
   "source": [
    "# Recommended Name (5, )\n",
    "pr_name = json_data['results'][4]['to']['proteinDescription']['recommendedName']['fullName']['value']\n",
    "print(pr_name)"
   ]
  },
  {
   "cell_type": "code",
   "execution_count": 29,
   "metadata": {},
   "outputs": [
    {
     "name": "stdout",
     "output_type": "stream",
     "text": [
      "NADH dehydrogenase [ubiquinone] 1 alpha subcomplex assembly factor 1\n"
     ]
    }
   ],
   "source": [
    "# Alternative Name (4, )\n",
    "pr_name = json_data['results'][4]['to']['proteinDescription']['alternativeNames'][0]['fullName']['value']\n",
    "print(pr_name)"
   ]
  },
  {
   "cell_type": "code",
   "execution_count": 30,
   "metadata": {},
   "outputs": [
    {
     "ename": "KeyError",
     "evalue": "'submissionNames'",
     "output_type": "error",
     "traceback": [
      "\u001b[1;31m---------------------------------------------------------------------------\u001b[0m",
      "\u001b[1;31mKeyError\u001b[0m                                  Traceback (most recent call last)",
      "Cell \u001b[1;32mIn[30], line 2\u001b[0m\n\u001b[0;32m      1\u001b[0m \u001b[39m# Submission Name (0, )\u001b[39;00m\n\u001b[1;32m----> 2\u001b[0m \u001b[39mprint\u001b[39m(json_data[\u001b[39m'\u001b[39;49m\u001b[39mresults\u001b[39;49m\u001b[39m'\u001b[39;49m][\u001b[39m4\u001b[39;49m][\u001b[39m'\u001b[39;49m\u001b[39mto\u001b[39;49m\u001b[39m'\u001b[39;49m][\u001b[39m'\u001b[39;49m\u001b[39mproteinDescription\u001b[39;49m\u001b[39m'\u001b[39;49m][\u001b[39m'\u001b[39;49m\u001b[39msubmissionNames\u001b[39;49m\u001b[39m'\u001b[39;49m][\u001b[39m0\u001b[39m][\u001b[39m'\u001b[39m\u001b[39mfullName\u001b[39m\u001b[39m'\u001b[39m][\u001b[39m'\u001b[39m\u001b[39mvalue\u001b[39m\u001b[39m'\u001b[39m])\n",
      "\u001b[1;31mKeyError\u001b[0m: 'submissionNames'"
     ]
    }
   ],
   "source": [
    "# Submission Name (0, )\n",
    "print(json_data['results'][4]['to']['proteinDescription']['submissionNames'][0]['fullName']['value'])"
   ]
  },
  {
   "cell_type": "code",
   "execution_count": 48,
   "metadata": {},
   "outputs": [
    {
     "ename": "KeyError",
     "evalue": "'submissionNames'",
     "output_type": "error",
     "traceback": [
      "\u001b[1;31m---------------------------------------------------------------------------\u001b[0m",
      "\u001b[1;31mKeyError\u001b[0m                                  Traceback (most recent call last)",
      "Cell \u001b[1;32mIn[48], line 5\u001b[0m\n\u001b[0;32m      3\u001b[0m rec_name \u001b[39m=\u001b[39m json_data[\u001b[39m'\u001b[39m\u001b[39mresults\u001b[39m\u001b[39m'\u001b[39m][row_num][\u001b[39m'\u001b[39m\u001b[39mto\u001b[39m\u001b[39m'\u001b[39m][\u001b[39m'\u001b[39m\u001b[39mproteinDescription\u001b[39m\u001b[39m'\u001b[39m][\u001b[39m'\u001b[39m\u001b[39mrecommendedName\u001b[39m\u001b[39m'\u001b[39m][\u001b[39m'\u001b[39m\u001b[39mfullName\u001b[39m\u001b[39m'\u001b[39m][\u001b[39m'\u001b[39m\u001b[39mvalue\u001b[39m\u001b[39m'\u001b[39m]\n\u001b[0;32m      4\u001b[0m alt_name \u001b[39m=\u001b[39m json_data[\u001b[39m'\u001b[39m\u001b[39mresults\u001b[39m\u001b[39m'\u001b[39m][row_num][\u001b[39m'\u001b[39m\u001b[39mto\u001b[39m\u001b[39m'\u001b[39m][\u001b[39m'\u001b[39m\u001b[39mproteinDescription\u001b[39m\u001b[39m'\u001b[39m][\u001b[39m'\u001b[39m\u001b[39malternativeNames\u001b[39m\u001b[39m'\u001b[39m][\u001b[39m0\u001b[39m][\u001b[39m'\u001b[39m\u001b[39mfullName\u001b[39m\u001b[39m'\u001b[39m][\u001b[39m'\u001b[39m\u001b[39mvalue\u001b[39m\u001b[39m'\u001b[39m]\n\u001b[1;32m----> 5\u001b[0m sub_name \u001b[39m=\u001b[39m json_data[\u001b[39m'\u001b[39;49m\u001b[39mresults\u001b[39;49m\u001b[39m'\u001b[39;49m][row_num][\u001b[39m'\u001b[39;49m\u001b[39mto\u001b[39;49m\u001b[39m'\u001b[39;49m][\u001b[39m'\u001b[39;49m\u001b[39mproteinDescription\u001b[39;49m\u001b[39m'\u001b[39;49m][\u001b[39m'\u001b[39;49m\u001b[39msubmissionNames\u001b[39;49m\u001b[39m'\u001b[39;49m][\u001b[39m0\u001b[39m][\u001b[39m'\u001b[39m\u001b[39mfullName\u001b[39m\u001b[39m'\u001b[39m][\u001b[39m'\u001b[39m\u001b[39mvalue\u001b[39m\u001b[39m'\u001b[39m]\n\u001b[0;32m      7\u001b[0m \u001b[39mprint\u001b[39m(rec_name)\n\u001b[0;32m      8\u001b[0m \u001b[39mprint\u001b[39m(alt_name)\n",
      "\u001b[1;31mKeyError\u001b[0m: 'submissionNames'"
     ]
    }
   ],
   "source": [
    "# Protein Names\n",
    "row_num = 98\n",
    "rec_name = json_data['results'][row_num]['to']['proteinDescription']['recommendedName']['fullName']['value']\n",
    "alt_name = json_data['results'][row_num]['to']['proteinDescription']['alternativeNames'][0]['fullName']['value']\n",
    "sub_name = json_data['results'][row_num]['to']['proteinDescription']['submissionNames'][0]['fullName']['value']\n",
    "\n",
    "print(rec_name)\n",
    "print(alt_name)\n",
    "print(sub_name)"
   ]
  },
  {
   "cell_type": "code",
   "execution_count": 3,
   "metadata": {},
   "outputs": [
    {
     "name": "stdout",
     "output_type": "stream",
     "text": [
      "R4GML4\n"
     ]
    }
   ],
   "source": [
    "pr_from = json_data['results'][99]['from']\n",
    "print(pr_from)"
   ]
  },
  {
   "cell_type": "code",
   "execution_count": 190,
   "metadata": {},
   "outputs": [
    {
     "name": "stdout",
     "output_type": "stream",
     "text": [
      "17242355\n",
      "18630941\n",
      "19144319\n",
      "19468303\n",
      "21183079\n",
      "CI-20IMGCHMHIQ52\n"
     ]
    }
   ],
   "source": [
    "\"\"\"\n",
    "# json_data['results'][int]['from']\n",
    "# json_data['results'][int]['to']['proteinDescription']['recommendedName']['fullName']['value']\n",
    "# json_data['results'][int]['to']['proteinDescription']['alternativeNames'][0]['fullName']['value']\n",
    "# json_data['results'][int]['to']['proteinDescription']['submissionNames'][0]['fullName']['value']\n",
    "\n",
    "Uniprot .json file structure by keys\n",
    "\n",
    "results\n",
    "    from\n",
    "        Uniprot Accession ID\n",
    "    to\n",
    "        'entryType' : 'UniProtKB reviewed (Swiss-Prot)' OR 'UniProtKB unreviewed (TrEMBL)'\n",
    "        'primaryAccession' : (Primary Accession ID)\n",
    "        'uniProtkbId' : UniprotKB_MOUSE\n",
    "        'entryAudit'\n",
    "        'annotationScore'\n",
    "        'organism'\n",
    "            'scientificName'\n",
    "            'commonName'\n",
    "            'taxonId'\n",
    "            'evidences'\n",
    "                ['evidenceCode', 'source', 'id']\n",
    "            'lineage'\n",
    "        'proteinExistence'\n",
    "        'proteinDescription'\n",
    "            'recommendedName'\n",
    "                'fullName'\n",
    "                    'evidences'\n",
    "                    ['evidenceCode', 'source', 'id'],\n",
    "                    'value' <-- ***\n",
    "            'alternativeNames'\n",
    "            [\n",
    "            'fullName'\n",
    "                'evidences'\n",
    "                ['evidenceCode', 'source', 'id'],\n",
    "                'value' <-- ***\n",
    "            ]\n",
    "            'submissionNames'\n",
    "            [\n",
    "            'fullName'\n",
    "                'evidences'\n",
    "                ['evidenceCode', 'source', 'id']\n",
    "                'value' <-- ***\n",
    "            ]\n",
    "        'genes'\n",
    "        [\n",
    "        'geneName'\n",
    "            'evidences'\n",
    "            ['evidenceCode', 'source', 'id'],\n",
    "            'value'\n",
    "        ]\n",
    "        'features'\n",
    "        'keywords'\n",
    "        'references' <-- # of N from ['references'].__len__() \n",
    "        [\n",
    "        'citation'\n",
    "            'id'\n",
    "            'citationType'\n",
    "            'authors'\n",
    "            'citationCrossReferences'\n",
    "            'title'\n",
    "            'publicationDate'\n",
    "            'journal'\n",
    "            'firstPage'\n",
    "            'lastPage'\n",
    "            'volume'\n",
    "        'referencePositions'\n",
    "        'referencecomments'\n",
    "        'evidences'\n",
    "        ]\n",
    "        'uniProtKBCrossReferences'\n",
    "        'sequence'\n",
    "            'value' <-- ***\n",
    "            'length'\n",
    "            'molWeight'\n",
    "            'crc64'\n",
    "            'md5'\n",
    "        'extraAttributes'\n",
    "\"\"\""
   ]
  },
  {
   "cell_type": "code",
   "execution_count": 4,
   "metadata": {},
   "outputs": [
    {
     "name": "stdout",
     "output_type": "stream",
     "text": [
      "17242355\n",
      "18630941\n",
      "19144319\n",
      "19468303\n",
      "21183079\n",
      "CI-20IMGCHMHIQ52\n"
     ]
    }
   ],
   "source": [
    "num_sublist = json_data['results'][1]['to']['references'].__len__()\n",
    "\n",
    "for i in range(num_sublist):\n",
    "    keynames = json_data['results'][1]['to']['references'][i]['citation']\n",
    "    PMID = keynames['id']\n",
    "    print(PMID)\n",
    "\n",
    "pr_names = json_data['results'][1]['to']['references'][0]['citation']\n",
    "#print(pr_names)"
   ]
  }
 ],
 "metadata": {
  "kernelspec": {
   "display_name": "Python 3",
   "language": "python",
   "name": "python3"
  },
  "language_info": {
   "codemirror_mode": {
    "name": "ipython",
    "version": 3
   },
   "file_extension": ".py",
   "mimetype": "text/x-python",
   "name": "python",
   "nbconvert_exporter": "python",
   "pygments_lexer": "ipython3",
   "version": "3.10.11"
  },
  "orig_nbformat": 4
 },
 "nbformat": 4,
 "nbformat_minor": 2
}
