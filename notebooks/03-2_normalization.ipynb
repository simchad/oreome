{
 "cells": [
  {
   "cell_type": "code",
   "execution_count": 1,
   "metadata": {},
   "outputs": [],
   "source": [
    "# Get current login user name & change directory to home.\n",
    "import os\n",
    "tmp = os.getlogin()\n",
    "homedir = 'c:/Users/'+os.getlogin()+'/Documents/GitHub/Proteome-tool/'\n",
    "os.chdir(homedir)"
   ]
  },
  {
   "cell_type": "code",
   "execution_count": 2,
   "metadata": {},
   "outputs": [],
   "source": [
    "# import library\n",
    "import pandas as pd\n",
    "import numpy as np\n",
    "import seaborn as sns\n",
    "import matplotlib.pyplot as plt\n",
    "#from scipy.stats import poisson\n",
    "\n",
    "df1 = pd.read_csv(filepath_or_buffer='./raw/PG_lncap-rwpe1_v1.csv', encoding='utf-8')\n",
    "#df2 = pd.read_csv(filepath_or_buffer='./raw/(1)Protein_Groups_PCa_lncap2.csv', encoding='utf-8')\n",
    "\n",
    "#g1 = df1['LNCaP/RWPE-1 normalized 1st'].tolist()\n",
    "#g2 = df2['LNCaP/RWPE-1 normalized median-scaling 1st'].tolist()\n",
    "\n",
    "# Divide every element in list to specific number\n",
    "#g1[:] = [math.log2(x) for x in g1]\n",
    "\n",
    "# Drop some columns\n",
    "filt = ['Protein IDs', 'Protein names', 'Gene Names']\n",
    "new_df = df1.drop(columns=filt, inplace=False)\n",
    "\n",
    "# rename column names\n",
    "cnames = {'LNCaP/RWPE-1 normalized 1st':'1st',\n",
    "          'LNCaP/RWPE-1 normalized 2nd':'2nd',\n",
    "          'LNCaP/RWPE-1 normalized 3rd':'3rd'}\n",
    "new_df.rename(columns = cnames, inplace=True)\n",
    "\n",
    "# Transform log2 scale\n",
    "new_df_log2 = np.log2(new_df)"
   ]
  },
  {
   "cell_type": "code",
   "execution_count": null,
   "metadata": {},
   "outputs": [],
   "source": [
    "# Boxplot\n",
    "sns.boxplot(data=new_df)\n",
    "\n",
    "# set x-axis label\n",
    "plt.xlabel(\"Batch\", size=14)\n",
    "\n",
    "# set y-axis label\n",
    "plt.ylabel(\"DEP ratio\", size=14)\n",
    "\n",
    "# set title\n",
    "plt.title(\"Boxplot of rawdata before Normalization\", size=18)\n",
    "\n",
    "# resize the figure\n",
    "fig = plt.gcf()\n",
    "fig.set_size_inches(4, 12)\n",
    "\n",
    "plt.show()"
   ]
  },
  {
   "cell_type": "code",
   "execution_count": null,
   "metadata": {},
   "outputs": [],
   "source": [
    "# Kernel Density Estimate Plot\n",
    "sns.kdeplot(data=new_df)\n",
    "#new_df.plot.density(linewidth=1)\n",
    "\n",
    "# set x-axis label\n",
    "plt.xlabel(\"Difference\", size=14)\n",
    "\n",
    "# set y-axis label\n",
    "plt.ylabel(\"Density\", size=14)\n",
    "\n",
    "# set title\n",
    "plt.title(\"density plot of rawdata before Normalization\", size=18)\n",
    "\n",
    "fig = plt.gcf()\n",
    "fig.set_size_inches(15, 5)\n",
    "\n",
    "plt.show()"
   ]
  },
  {
   "cell_type": "code",
   "execution_count": null,
   "metadata": {},
   "outputs": [],
   "source": [
    "# Median normalization\n",
    "# Huan et al. (2013) Nature Methods, 10(5), 390-393\n",
    "\n",
    "new_df_median = new_df.div(new_df.median(axis=0), axis=1)\n",
    "#new_df_median.plot.density(linewidth=1)\n",
    "\n",
    "# Transform log2 scale\n",
    "new_df_median_log2 = np.log2(new_df_median)\n",
    "\n",
    "# Kernel Density Estimate Plot\n",
    "sns.kdeplot(data=new_df_median_log2)\n",
    "#new_df.plot.density(linewidth=1)\n",
    "\n",
    "# set x-axis label\n",
    "plt.xlabel(\"Difference\", size=14)\n",
    "\n",
    "# set y-axis label\n",
    "plt.ylabel(\"Density\", size=14)\n",
    "\n",
    "# set title\n",
    "plt.title(\"Density plot of Median-normalized\", size=18)\n",
    "\n",
    "fig = plt.gcf()\n",
    "fig.set_size_inches(15, 5)\n",
    "\n",
    "plt.show()"
   ]
  },
  {
   "cell_type": "code",
   "execution_count": null,
   "metadata": {},
   "outputs": [],
   "source": [
    "# Shapiro test\n",
    "from scipy.stats import shapiro\n",
    "\n",
    "tmp_df = new_df_median_log2\n",
    "\n",
    "for col in tmp_df.columns:\n",
    "    vals = tmp_df[col].values\n",
    "\n",
    "    stat, p = shapiro(vals)\n",
    "\n",
    "    print(f\"Column '{col}': statistic={stat:.4f}, p-value={p:.4f}\")"
   ]
  },
  {
   "cell_type": "code",
   "execution_count": 3,
   "metadata": {},
   "outputs": [
    {
     "name": "stdout",
     "output_type": "stream",
     "text": [
      "F-statistic:  0.25722067001141075\n",
      "P-value:  0.7732073561018324\n"
     ]
    }
   ],
   "source": [
    "# One-way ANOVA (n=3)\n",
    "import scipy.stats as stats\n",
    "\n",
    "# Set Protein IDs to index\n",
    "df1.set_index('Protein IDs', inplace=True)\n",
    "\n",
    "# Drop columns\n",
    "filt = ['Protein names', 'Gene Names']\n",
    "data = df1.drop(columns=filt)\n",
    "\n",
    "# rename column names\n",
    "cnames = {'LNCaP/RWPE-1 normalized 1st':'1st',\n",
    "          'LNCaP/RWPE-1 normalized 2nd':'2nd',\n",
    "          'LNCaP/RWPE-1 normalized 3rd':'3rd'}\n",
    "\n",
    "data.rename(columns = cnames, inplace=True)\n",
    "\n",
    "# Transform log2 scale\n",
    "data_log2 = np.log2(data)\n",
    "\n",
    "# Perform one-way ANOVA test\n",
    "# P-value > 0.05 : H0 ; No difference between in each group\n",
    "# P-value < 0.05 : H1 ; There are difference --> post hoc turkey test\n",
    "\n",
    "f_stat, p_value = stats.f_oneway(data['1st'], data['2nd'], data['3rd'])\n",
    "\n",
    "# Display results\n",
    "print(\"F-statistic: \", f_stat)\n",
    "print(\"P-value: \", p_value)"
   ]
  },
  {
   "cell_type": "code",
   "execution_count": null,
   "metadata": {},
   "outputs": [],
   "source": [
    "# Quantile Normalization (Often used in microarray analysis)\n",
    "df_sorted = pd.DataFrame(np.sort(new_df.values, axis=0), index = new_df.index, columns = new_df.columns)\n",
    "df_mean = df_sorted.mean(axis=1)\n",
    "df_mean.head()\n",
    "\n",
    "df_mean.index = np.arange(1, len(df_mean) + 1)\n",
    "df_mean.head()\n",
    "\n",
    "# 동시에, 원본데이터프레임으로 부터 그룹별로 rank를 매김.\n",
    "new_df.rank(method='min').astype(int)\n",
    "\n",
    "# 원본 랭크를 토대로 ...\n",
    "new_df.rank(method='min').stack().astype(int)\n",
    "\n",
    "# Critical Step\n",
    "df_qn = new_df.rank(method='min').stack().astype(int).map(df_mean).unstack()\n",
    "df_qn.head()\n",
    "\n",
    "def quantile_normalize(df):\n",
    "    \"\"\"\n",
    "    input: dataframe with numerical columns\n",
    "    output: dataframe with quantile normalized values\n",
    "    \"\"\"\n",
    "    df_mean = df.mean(axis=1)\n",
    "    df_mean.index = np.arange(1, len(df_mean) + 1)\n",
    "    df_qn = df.rank(method='min').stack().astype(int).map(df_mean).unstack()\n",
    "    return df_qn"
   ]
  },
  {
   "cell_type": "code",
   "execution_count": null,
   "metadata": {},
   "outputs": [],
   "source": [
    "# z-score normlize and shapiro normality test\n",
    "from scipy.stats import zscore, shapiro\n",
    "df_zscore = zscore(a=new_df, axis=0)\n",
    "z1 = df_zscore['1st'].tolist()\n",
    "shapiro(z1)"
   ]
  },
  {
   "cell_type": "code",
   "execution_count": null,
   "metadata": {},
   "outputs": [],
   "source": [
    "l1 = df_log['1st'].tolist()"
   ]
  },
  {
   "cell_type": "code",
   "execution_count": null,
   "metadata": {},
   "outputs": [],
   "source": [
    "from scipy.stats import shapiro\n",
    "shapiro(l1)"
   ]
  },
  {
   "cell_type": "code",
   "execution_count": null,
   "metadata": {},
   "outputs": [],
   "source": [
    "# Histogram after-quantile norm\n",
    "import numpy as np\n",
    "import matplotlib.pyplot as plt\n",
    "import math\n",
    "\n",
    "plt.style.use('_mpl-gallery')\n",
    "px = 1/plt.rcParams['figure.dpi'] # pixel in inches\n",
    "\n",
    "# data\n",
    "x = z1\n",
    "\n",
    "# plot\n",
    "fig, ax = plt.subplots(figsize=(600*px, 300*px)) # subplots(n, n, figsize)\n",
    "\n",
    "ax.hist(x, bins=30, linewidth=0.3, edgecolor=\"black\")\n",
    "ax.set(xlim=(-5,5), xticks=np.arange(-5,5,step=1))\n",
    "plt.show()"
   ]
  },
  {
   "cell_type": "code",
   "execution_count": null,
   "metadata": {},
   "outputs": [],
   "source": [
    "from scipy.stats import shapiro\n",
    "s = shapiro(x)\n",
    "s"
   ]
  },
  {
   "cell_type": "code",
   "execution_count": null,
   "metadata": {},
   "outputs": [],
   "source": [
    "# import library\n",
    "import math\n",
    "from scipy.stats import shapiro\n",
    "import pandas as pd\n",
    "\n",
    "g1 = new_df['1st'].tolist()\n",
    "g1[:] = [math.log2(x) for x in g1]\n",
    "\n",
    "s = shapiro(g1)\n",
    "s\n",
    "\n",
    "#ShapiroResult(statistic=0.9992809295654297, pvalue=0.9748974442481995)\n",
    "# p-value < 0.05 -> H0 reject = not normal\n",
    "# p-value > 0.05 -> H1 reject = Normal"
   ]
  }
 ],
 "metadata": {
  "kernelspec": {
   "display_name": "Python 3",
   "language": "python",
   "name": "python3"
  },
  "language_info": {
   "codemirror_mode": {
    "name": "ipython",
    "version": 3
   },
   "file_extension": ".py",
   "mimetype": "text/x-python",
   "name": "python",
   "nbconvert_exporter": "python",
   "pygments_lexer": "ipython3",
   "version": "3.10.10"
  },
  "orig_nbformat": 4,
  "vscode": {
   "interpreter": {
    "hash": "ff040a19fb8f3cc0ff33c07a0177304119f3f10f85c9d1b2925a05bef76ad144"
   }
  }
 },
 "nbformat": 4,
 "nbformat_minor": 2
}
