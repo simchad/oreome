{
 "cells": [
  {
   "cell_type": "code",
   "execution_count": null,
   "metadata": {},
   "outputs": [],
   "source": [
    "# 이 방식은, 파이썬 스크립트에서 동작할 것.\n",
    "# \n",
    "if __name__ == '__main__':\n",
    "    if __package__ is None:\n",
    "        import sys\n",
    "        from os import path\n",
    "        print(path.dirname(path.dirname(path.abspath(__file__))))\n",
    "        sys.path.append(path.dirname(path.dirname(path.abspath(__file__))))\n",
    "        from 상위패키지.하위패키지 import 함수\n",
    "    else:\n",
    "        from .하위패키지 import 함수"
   ]
  },
  {
   "cell_type": "code",
   "execution_count": 1,
   "metadata": {},
   "outputs": [
    {
     "data": {
      "text/plain": [
       "'C:\\\\Users\\\\simhc\\\\Documents\\\\Github\\\\proteome-tool'"
      ]
     },
     "execution_count": 1,
     "metadata": {},
     "output_type": "execute_result"
    }
   ],
   "source": [
    "# current working directory 변경! 필수 !\n",
    "import os\n",
    "os.chdir('C:/Users/simhc/Documents/Github/proteome-tool/')\n",
    "os.getcwd()"
   ]
  },
  {
   "cell_type": "code",
   "execution_count": 4,
   "metadata": {},
   "outputs": [
    {
     "name": "stdout",
     "output_type": "stream",
     "text": [
      "message! >>> 82 (2.10%) entries were dropped, [Potential contaminant] column removed.\n",
      "message! >>> 75 (1.96%) entries were dropped, [Reverse] column removed.\n",
      "message! >>> 64 (1.71%) entries were dropped, [Only identified by site] column removed.\n",
      "message! >>> 995 (27.02%) entries were dropped. [Razor + unique peptides = 1]\n",
      "message! >>> 2687 entries left.\n",
      "message! >>> [Protein IDs] elements were splitted\n",
      "message! >>> [Best MS/MS] elements were splitted\n",
      "message! >>> file created... C:\\Users\\simhc\\Documents\\Github\\proteome-tool\\output\\proteinGroups_base_20230128-223929.csv\n"
     ]
    },
    {
     "data": {
      "text/plain": [
       "'C:\\\\Users\\\\simhc\\\\Documents\\\\Github\\\\proteome-tool\\\\output\\\\proteinGroups_base_20230128-223929.csv'"
      ]
     },
     "execution_count": 4,
     "metadata": {},
     "output_type": "execute_result"
    }
   ],
   "source": [
    "# proteinGroups 전처리\n",
    "import pandas as pd\n",
    "from jobs import processing_base\n",
    "\n",
    "txtpath = './raw/TestSample/202212/THP1/'\n",
    "\n",
    "job = processing_base.process_base(txtpath)\n",
    "job.proteinGroups_base()"
   ]
  },
  {
   "cell_type": "code",
   "execution_count": 7,
   "metadata": {},
   "outputs": [
    {
     "data": {
      "text/html": [
       "<div>\n",
       "<style scoped>\n",
       "    .dataframe tbody tr th:only-of-type {\n",
       "        vertical-align: middle;\n",
       "    }\n",
       "\n",
       "    .dataframe tbody tr th {\n",
       "        vertical-align: top;\n",
       "    }\n",
       "\n",
       "    .dataframe thead th {\n",
       "        text-align: right;\n",
       "    }\n",
       "</style>\n",
       "<table border=\"1\" class=\"dataframe\">\n",
       "  <thead>\n",
       "    <tr style=\"text-align: right;\">\n",
       "      <th></th>\n",
       "      <th>Protein IDs</th>\n",
       "      <th>Protein names</th>\n",
       "      <th>Gene names</th>\n",
       "      <th>Razor + unique peptides</th>\n",
       "      <th>Unique sequence coverage [%]</th>\n",
       "      <th>Mol. weight [kDa]</th>\n",
       "      <th>Sequence length</th>\n",
       "      <th>Q-value</th>\n",
       "      <th>Score</th>\n",
       "      <th>Reporter intensity 1 1st</th>\n",
       "      <th>...</th>\n",
       "      <th>Reporter intensity 2 2nd</th>\n",
       "      <th>Reporter intensity 2 3rd</th>\n",
       "      <th>Reporter intensity 3 1st</th>\n",
       "      <th>Reporter intensity 3 2nd</th>\n",
       "      <th>Reporter intensity 3 3rd</th>\n",
       "      <th>Intensity</th>\n",
       "      <th>id</th>\n",
       "      <th>Peptide IDs</th>\n",
       "      <th>Evidence IDs</th>\n",
       "      <th>Best MS/MS</th>\n",
       "    </tr>\n",
       "  </thead>\n",
       "  <tbody>\n",
       "    <tr>\n",
       "      <th>0</th>\n",
       "      <td>A0A024R1R8</td>\n",
       "      <td>Translation machinery-associated protein 7 (Co...</td>\n",
       "      <td>LOC112268293 hCG_2014768</td>\n",
       "      <td>2</td>\n",
       "      <td>15.6</td>\n",
       "      <td>7.0913</td>\n",
       "      <td>64</td>\n",
       "      <td>0.0</td>\n",
       "      <td>4.0342</td>\n",
       "      <td>202580.0</td>\n",
       "      <td>...</td>\n",
       "      <td>131210.0</td>\n",
       "      <td>156110.0</td>\n",
       "      <td>123550.0</td>\n",
       "      <td>97243.0</td>\n",
       "      <td>122350.0</td>\n",
       "      <td>2.227900e+09</td>\n",
       "      <td>0</td>\n",
       "      <td>8730;8731</td>\n",
       "      <td>42282;42283;42284;42285;42286;42287;42288;4228...</td>\n",
       "      <td>43675</td>\n",
       "    </tr>\n",
       "    <tr>\n",
       "      <th>1</th>\n",
       "      <td>P0DPI2</td>\n",
       "      <td>Glutamine amidotransferase-like class 1 domain...</td>\n",
       "      <td>GATD3 C21orf33 GATD3A</td>\n",
       "      <td>7</td>\n",
       "      <td>44.4</td>\n",
       "      <td>28.1700</td>\n",
       "      <td>268</td>\n",
       "      <td>0.0</td>\n",
       "      <td>108.4800</td>\n",
       "      <td>100730.0</td>\n",
       "      <td>...</td>\n",
       "      <td>99731.0</td>\n",
       "      <td>115360.0</td>\n",
       "      <td>91946.0</td>\n",
       "      <td>83797.0</td>\n",
       "      <td>87734.0</td>\n",
       "      <td>7.672900e+08</td>\n",
       "      <td>2</td>\n",
       "      <td>4589;7774;9375;9376;10948;18915;19067</td>\n",
       "      <td>21947;37643;37644;37645;37646;45441;45442;4544...</td>\n",
       "      <td>22695</td>\n",
       "    </tr>\n",
       "    <tr>\n",
       "      <th>2</th>\n",
       "      <td>A0A590UK10</td>\n",
       "      <td>Rho guanine nucleotide exchange factor 18</td>\n",
       "      <td>ARHGEF18</td>\n",
       "      <td>2</td>\n",
       "      <td>3.8</td>\n",
       "      <td>121.9900</td>\n",
       "      <td>1089</td>\n",
       "      <td>0.0</td>\n",
       "      <td>6.1945</td>\n",
       "      <td>8537.3</td>\n",
       "      <td>...</td>\n",
       "      <td>1469.0</td>\n",
       "      <td>0.0</td>\n",
       "      <td>7771.6</td>\n",
       "      <td>1165.3</td>\n",
       "      <td>0.0</td>\n",
       "      <td>2.073300e+07</td>\n",
       "      <td>3</td>\n",
       "      <td>10362;12125</td>\n",
       "      <td>50640;50641;58724</td>\n",
       "      <td>52316</td>\n",
       "    </tr>\n",
       "    <tr>\n",
       "      <th>3</th>\n",
       "      <td>A0AV96</td>\n",
       "      <td>RNA-binding protein 47 (RNA-binding motif prot...</td>\n",
       "      <td>RBM47</td>\n",
       "      <td>2</td>\n",
       "      <td>8.9</td>\n",
       "      <td>64.0980</td>\n",
       "      <td>593</td>\n",
       "      <td>0.0</td>\n",
       "      <td>5.4207</td>\n",
       "      <td>6950.4</td>\n",
       "      <td>...</td>\n",
       "      <td>0.0</td>\n",
       "      <td>0.0</td>\n",
       "      <td>6727.4</td>\n",
       "      <td>0.0</td>\n",
       "      <td>0.0</td>\n",
       "      <td>7.561900e+06</td>\n",
       "      <td>5</td>\n",
       "      <td>3935;7819</td>\n",
       "      <td>18832;37850</td>\n",
       "      <td>19488</td>\n",
       "    </tr>\n",
       "    <tr>\n",
       "      <th>4</th>\n",
       "      <td>A0AVT1</td>\n",
       "      <td>Ubiquitin-like modifier-activating enzyme 6 (U...</td>\n",
       "      <td>UBA6 MOP4 UBE1L2</td>\n",
       "      <td>13</td>\n",
       "      <td>19.2</td>\n",
       "      <td>117.9700</td>\n",
       "      <td>1052</td>\n",
       "      <td>0.0</td>\n",
       "      <td>78.6310</td>\n",
       "      <td>114000.0</td>\n",
       "      <td>...</td>\n",
       "      <td>113860.0</td>\n",
       "      <td>95207.0</td>\n",
       "      <td>96242.0</td>\n",
       "      <td>84145.0</td>\n",
       "      <td>96418.0</td>\n",
       "      <td>4.302100e+08</td>\n",
       "      <td>6</td>\n",
       "      <td>1191;2735;2999;4356;4923;6548;8556;10353;10829...</td>\n",
       "      <td>5370;5371;5372;12960;14219;14220;20897;20898;2...</td>\n",
       "      <td>5549</td>\n",
       "    </tr>\n",
       "  </tbody>\n",
       "</table>\n",
       "<p>5 rows × 23 columns</p>\n",
       "</div>"
      ],
      "text/plain": [
       "  Protein IDs                                      Protein names  \\\n",
       "0  A0A024R1R8  Translation machinery-associated protein 7 (Co...   \n",
       "1      P0DPI2  Glutamine amidotransferase-like class 1 domain...   \n",
       "2  A0A590UK10          Rho guanine nucleotide exchange factor 18   \n",
       "3      A0AV96  RNA-binding protein 47 (RNA-binding motif prot...   \n",
       "4      A0AVT1  Ubiquitin-like modifier-activating enzyme 6 (U...   \n",
       "\n",
       "                 Gene names  Razor + unique peptides  \\\n",
       "0  LOC112268293 hCG_2014768                        2   \n",
       "1     GATD3 C21orf33 GATD3A                        7   \n",
       "2                  ARHGEF18                        2   \n",
       "3                     RBM47                        2   \n",
       "4          UBA6 MOP4 UBE1L2                       13   \n",
       "\n",
       "   Unique sequence coverage [%]  Mol. weight [kDa]  Sequence length  Q-value  \\\n",
       "0                          15.6             7.0913               64      0.0   \n",
       "1                          44.4            28.1700              268      0.0   \n",
       "2                           3.8           121.9900             1089      0.0   \n",
       "3                           8.9            64.0980              593      0.0   \n",
       "4                          19.2           117.9700             1052      0.0   \n",
       "\n",
       "      Score  Reporter intensity 1 1st  ...  Reporter intensity 2 2nd  \\\n",
       "0    4.0342                  202580.0  ...                  131210.0   \n",
       "1  108.4800                  100730.0  ...                   99731.0   \n",
       "2    6.1945                    8537.3  ...                    1469.0   \n",
       "3    5.4207                    6950.4  ...                       0.0   \n",
       "4   78.6310                  114000.0  ...                  113860.0   \n",
       "\n",
       "   Reporter intensity 2 3rd  Reporter intensity 3 1st  \\\n",
       "0                  156110.0                  123550.0   \n",
       "1                  115360.0                   91946.0   \n",
       "2                       0.0                    7771.6   \n",
       "3                       0.0                    6727.4   \n",
       "4                   95207.0                   96242.0   \n",
       "\n",
       "   Reporter intensity 3 2nd  Reporter intensity 3 3rd     Intensity  id  \\\n",
       "0                   97243.0                  122350.0  2.227900e+09   0   \n",
       "1                   83797.0                   87734.0  7.672900e+08   2   \n",
       "2                    1165.3                       0.0  2.073300e+07   3   \n",
       "3                       0.0                       0.0  7.561900e+06   5   \n",
       "4                   84145.0                   96418.0  4.302100e+08   6   \n",
       "\n",
       "                                         Peptide IDs  \\\n",
       "0                                          8730;8731   \n",
       "1              4589;7774;9375;9376;10948;18915;19067   \n",
       "2                                        10362;12125   \n",
       "3                                          3935;7819   \n",
       "4  1191;2735;2999;4356;4923;6548;8556;10353;10829...   \n",
       "\n",
       "                                        Evidence IDs  Best MS/MS  \n",
       "0  42282;42283;42284;42285;42286;42287;42288;4228...       43675  \n",
       "1  21947;37643;37644;37645;37646;45441;45442;4544...       22695  \n",
       "2                                  50640;50641;58724       52316  \n",
       "3                                        18832;37850       19488  \n",
       "4  5370;5371;5372;12960;14219;14220;20897;20898;2...        5549  \n",
       "\n",
       "[5 rows x 23 columns]"
      ]
     },
     "execution_count": 7,
     "metadata": {},
     "output_type": "execute_result"
    }
   ],
   "source": [
    "# os.getcwd()\n",
    "# >>> C:\\\\Users\\\\simhc\\\\Documents\\\\Github\\\\proteome-tool\n",
    "df_base = pd.read_csv(filepath_or_buffer='./output/proteinGroups_base_20230128-223929.csv', encoding='utf-8')\n",
    "df_base.head()"
   ]
  },
  {
   "cell_type": "code",
   "execution_count": 12,
   "metadata": {},
   "outputs": [
    {
     "data": {
      "text/plain": [
       "Index(['Protein IDs', 'Protein names', 'Gene names', 'Razor + unique peptides',\n",
       "       'Unique sequence coverage [%]', 'Mol. weight [kDa]', 'Sequence length',\n",
       "       'Q-value', 'Score', 'Reporter intensity 1 1st',\n",
       "       'Reporter intensity 1 2nd', 'Reporter intensity 1 3rd',\n",
       "       'Reporter intensity 2 1st', 'Reporter intensity 2 2nd',\n",
       "       'Reporter intensity 2 3rd', 'Reporter intensity 3 1st',\n",
       "       'Reporter intensity 3 2nd', 'Reporter intensity 3 3rd', 'Intensity',\n",
       "       'id', 'Peptide IDs', 'Evidence IDs', 'Best MS/MS'],\n",
       "      dtype='object')"
      ]
     },
     "execution_count": 12,
     "metadata": {},
     "output_type": "execute_result"
    }
   ],
   "source": [
    "# Reporter intensity 1 --> Control\n",
    "# Reporter intensity 2 --> Low\n",
    "# Reporter intensity 3 --> High\n",
    "# Reporter intensity x --> xxx ...\n",
    "# df_base.rename(columns={'old':'new'}, inplace=True)\n",
    "def new_name_col():\n",
    "    import re\n",
    "    base_cols = pd.Index(df_base.columns).tolist()\n",
    "    for col in base_cols:\n",
    "        if re.search('Reporter', col)"
   ]
  },
  {
   "cell_type": "code",
   "execution_count": 31,
   "metadata": {},
   "outputs": [
    {
     "data": {
      "text/plain": [
       "'1'"
      ]
     },
     "execution_count": 31,
     "metadata": {},
     "output_type": "execute_result"
    }
   ],
   "source": [
    "s = 'Reporter intensity 1 1st'\n",
    "s[19]"
   ]
  },
  {
   "cell_type": "code",
   "execution_count": 27,
   "metadata": {},
   "outputs": [
    {
     "name": "stdout",
     "output_type": "stream",
     "text": [
      "Reporter intensity 1 1st\n",
      "Reporter intensity 1 2nd\n",
      "Reporter intensity 1 3rd\n",
      "Reporter intensity 2 1st\n",
      "Reporter intensity 2 2nd\n",
      "Reporter intensity 2 3rd\n",
      "Reporter intensity 3 1st\n",
      "Reporter intensity 3 2nd\n",
      "Reporter intensity 3 3rd\n"
     ]
    }
   ],
   "source": [
    "import re\n",
    "new_name = {\n",
    "    'Reporter intensity 1' : 'Contorl',\n",
    "    'Reporter intensity 2' : 'Low',\n",
    "    'Reporter intensity 3' : 'High'\n",
    "}\n",
    "base_cols = pd.Index(df_base.columns).tolist()\n",
    "for col in base_cols:\n",
    "    if re.search('Reporter', col):\n",
    "        "
   ]
  },
  {
   "cell_type": "code",
   "execution_count": 23,
   "metadata": {},
   "outputs": [
    {
     "name": "stdout",
     "output_type": "stream",
     "text": [
      "None\n",
      "None\n",
      "None\n",
      "None\n",
      "None\n",
      "None\n",
      "None\n",
      "None\n",
      "None\n",
      "<re.Match object; span=(0, 21), match='Reporter intensity 1 '>\n",
      "<re.Match object; span=(0, 21), match='Reporter intensity 1 '>\n",
      "<re.Match object; span=(0, 21), match='Reporter intensity 1 '>\n",
      "<re.Match object; span=(0, 21), match='Reporter intensity 2 '>\n",
      "<re.Match object; span=(0, 21), match='Reporter intensity 2 '>\n",
      "<re.Match object; span=(0, 21), match='Reporter intensity 2 '>\n",
      "<re.Match object; span=(0, 21), match='Reporter intensity 3 '>\n",
      "<re.Match object; span=(0, 21), match='Reporter intensity 3 '>\n",
      "<re.Match object; span=(0, 21), match='Reporter intensity 3 '>\n",
      "None\n",
      "None\n",
      "None\n",
      "None\n",
      "None\n"
     ]
    }
   ],
   "source": [
    "import re\n",
    "base_cols = pd.Index(df_base.columns).tolist()\n",
    "for col in base_cols:\n",
    "    p = re.compile('[a-zA-z]*\\s[a-z]*\\s[0-9]\\s')\n",
    "    m = re.search(p, col)\n",
    "    print(m)"
   ]
  }
 ],
 "metadata": {
  "kernelspec": {
   "display_name": "Python 3",
   "language": "python",
   "name": "python3"
  },
  "language_info": {
   "codemirror_mode": {
    "name": "ipython",
    "version": 3
   },
   "file_extension": ".py",
   "mimetype": "text/x-python",
   "name": "python",
   "nbconvert_exporter": "python",
   "pygments_lexer": "ipython3",
   "version": "3.10.9"
  },
  "orig_nbformat": 4,
  "vscode": {
   "interpreter": {
    "hash": "a7375e9c5370fa55767b7eac5a91a8d6f1a77984b73ce1bb80d1f6e6831e5e1e"
   }
  }
 },
 "nbformat": 4,
 "nbformat_minor": 2
}
