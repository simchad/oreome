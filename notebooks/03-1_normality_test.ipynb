{
 "cells": [
  {
   "cell_type": "code",
   "execution_count": null,
   "metadata": {},
   "outputs": [],
   "source": [
    "# Get current login user name & change directory to home.\n",
    "import os\n",
    "tmp = os.getlogin()\n",
    "homedir = 'c:/Users/'+os.getlogin()+'/Documents/GitHub/Proteome-tool/'\n",
    "os.chdir(homedir)"
   ]
  },
  {
   "cell_type": "code",
   "execution_count": null,
   "metadata": {},
   "outputs": [],
   "source": [
    "# import library\n",
    "import math\n",
    "from scipy.stats import shapiro\n",
    "import pandas as pd\n",
    "df1 = pd.read_csv(filepath_or_buffer='./raw/PG_lncap-rwpe1_v1.csv', encoding='utf-8')\n",
    "#df2 = pd.read_csv(filepath_or_buffer='./raw/(1)Protein_Groups_PCa_lncap2.csv', encoding='utf-8')\n",
    "\n",
    "# g1 = df1['LNCaP/RWPE-1 normalized 1st'].tolist()\n",
    "g1 = df1['LNCaP/RWPE-1 normalized 1st'].tolist()"
   ]
  },
  {
   "cell_type": "code",
   "execution_count": null,
   "metadata": {},
   "outputs": [],
   "source": [
    "# Transformed all values to log2\n",
    "import numpy as np\n",
    "df1 = np.log2(df1)"
   ]
  },
  {
   "cell_type": "code",
   "execution_count": null,
   "metadata": {},
   "outputs": [],
   "source": [
    "# Histogram non-normalize\n",
    "import numpy as np\n",
    "import matplotlib.pyplot as plt\n",
    "\n",
    "plt.style.use('_mpl-gallery')\n",
    "px = 1/plt.rcParams['figure.dpi'] # pixel in inches\n",
    "\n",
    "# data\n",
    "x = g1\n",
    "\n",
    "# plot\n",
    "fig, ax = plt.subplots(figsize=(800*px, 1600*px)) # subplots(n, n, figsize)\n",
    "\n",
    "ax.hist(x, bins=50, linewidth=0.3, edgecolor=\"black\")\n",
    "ax.set(xlim=(-4,4), xticks=np.arange(-4,4,step=1))\n",
    "plt.show()"
   ]
  },
  {
   "cell_type": "code",
   "execution_count": null,
   "metadata": {},
   "outputs": [],
   "source": [
    "s = shapiro(g1)[1]\n",
    "print('%.20f' %s)"
   ]
  },
  {
   "cell_type": "code",
   "execution_count": null,
   "metadata": {},
   "outputs": [],
   "source": [
    "# Normality test = Random\n",
    "import numpy as np\n",
    "from scipy import stats\n",
    "rng = np.random.default_rng()\n",
    "x = stats.norm.rvs(loc=5, scale=3, size=100, random_state=rng)\n",
    "shapiro_test = stats.shapiro(x)\n",
    "shapiro_test"
   ]
  },
  {
   "cell_type": "code",
   "execution_count": null,
   "metadata": {},
   "outputs": [],
   "source": [
    "# Normality test = Normal set\n",
    "import numpy as np\n",
    "from scipy import stats\n",
    "s = np.random.normal(0, 0.1, 1000)\n",
    "shapiro_test = stats.shapiro(s)\n",
    "shapiro_test\n",
    "\n",
    "#ShapiroResult(statistic=0.9992809295654297, pvalue=0.9748974442481995)\n",
    "# p-value < 0.05 -> H0 reject = not normal\n",
    "# p-value > 0.05 -> H1 reject = Normal"
   ]
  },
  {
   "cell_type": "code",
   "execution_count": null,
   "metadata": {},
   "outputs": [],
   "source": [
    "# Histogram non-normalize\n",
    "import numpy as np\n",
    "import matplotlib.pyplot as plt\n",
    "\n",
    "plt.style.use('_mpl-gallery')\n",
    "px = 1/plt.rcParams['figure.dpi'] # pixel in inches\n",
    "\n",
    "# data\n",
    "x = s\n",
    "\n",
    "# plot\n",
    "fig, ax = plt.subplots(figsize=(800*px, 450*px)) # subplots(n, n, figsize)\n",
    "\n",
    "ax.hist(x, bins=30, linewidth=0.3, edgecolor=\"black\")\n",
    "ax.set(xlim=(-0.4,0.4), xticks=np.arange(-0.4, 0.4, step=0.1))\n",
    "plt.show()"
   ]
  }
 ],
 "metadata": {
  "kernelspec": {
   "display_name": "Python 3",
   "language": "python",
   "name": "python3"
  },
  "language_info": {
   "codemirror_mode": {
    "name": "ipython",
    "version": 3
   },
   "file_extension": ".py",
   "mimetype": "text/x-python",
   "name": "python",
   "nbconvert_exporter": "python",
   "pygments_lexer": "ipython3",
   "version": "3.10.10"
  },
  "orig_nbformat": 4,
  "vscode": {
   "interpreter": {
    "hash": "ff040a19fb8f3cc0ff33c07a0177304119f3f10f85c9d1b2925a05bef76ad144"
   }
  }
 },
 "nbformat": 4,
 "nbformat_minor": 2
}
