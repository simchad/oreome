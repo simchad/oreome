{
 "cells": [
  {
   "cell_type": "code",
   "execution_count": 1,
   "metadata": {},
   "outputs": [
    {
     "ename": "ModuleNotFoundError",
     "evalue": "No module named 'jobs'",
     "output_type": "error",
     "traceback": [
      "\u001b[1;31m---------------------------------------------------------------------------\u001b[0m",
      "\u001b[1;31mModuleNotFoundError\u001b[0m                       Traceback (most recent call last)",
      "Cell \u001b[1;32mIn[1], line 4\u001b[0m\n\u001b[0;32m      1\u001b[0m \u001b[39m# Reporter instensity 만 남김. corrected, count 는 drop.\u001b[39;00m\n\u001b[0;32m      3\u001b[0m \u001b[39mimport\u001b[39;00m \u001b[39mpandas\u001b[39;00m \u001b[39mas\u001b[39;00m \u001b[39mpd\u001b[39;00m\n\u001b[1;32m----> 4\u001b[0m \u001b[39mimport\u001b[39;00m \u001b[39mjobs\u001b[39;00m\u001b[39m.\u001b[39;00m\u001b[39mprocessing_base\u001b[39;00m \u001b[39mas\u001b[39;00m \u001b[39mprob\u001b[39;00m\n\u001b[0;32m      6\u001b[0m drop \u001b[39m=\u001b[39m []\n\u001b[0;32m      7\u001b[0m txtpath \u001b[39m=\u001b[39m \u001b[39m'\u001b[39m\u001b[39m..\u001b[39m\u001b[39m\\\\\u001b[39;00m\u001b[39mraw_files\u001b[39m\u001b[39m\\\\\u001b[39;00m\u001b[39mTestSample\u001b[39m\u001b[39m\\\\\u001b[39;00m\u001b[39m202212_DKU\u001b[39m\u001b[39m\\\\\u001b[39;00m\u001b[39mTHP1\u001b[39m\u001b[39m\\\\\u001b[39;00m\u001b[39mproteinGroups.txt\u001b[39m\u001b[39m'\u001b[39m\n",
      "\u001b[1;31mModuleNotFoundError\u001b[0m: No module named 'jobs'"
     ]
    }
   ],
   "source": [
    "# Reporter instensity 만 남김. corrected, count 는 drop.\n",
    "\n",
    "import pandas as pd\n",
    "import jobs.processing_base as prob\n",
    "\n",
    "drop = []\n",
    "txtpath = '..\\\\raw_files\\\\TestSample\\\\202212_DKU\\\\THP1\\\\proteinGroups.txt'\n",
    "\n",
    "df = pd.read_table(filepath_or_buffer=txtpath, index_col=False)\n",
    "\n",
    "base_filter = {'Potential contaminant':'+', 'Reverse':'+', 'Only identified by site':'+', 'Razor + unique peptides':1}\n",
    "split_cnames = ('Protein IDs', 'Best MS/MS')\n",
    "rest_base = [\n",
    "    'Protein IDs', 'Protein names', 'Gene names', 'Razor + unique peptides',\n",
    "    'Unique sequence coverage [%]', 'Mol. weight [kDa]','Sequence length',\n",
    "    'Q-value', 'Score', 'Intensity', 'id', 'Peptide IDs', 'Evidence IDs',\n",
    "    'Best MS/MS'\n",
    "]\n",
    "\n",
    "f1 = prob.process_base_tools(df, target='proteinGroups')\n",
    "f1.isDrop(**base_filter)\n",
    "f1.split_items(*split_cnames)\n",
    "repos = f1.det_corrected_or_count()"
   ]
  },
  {
   "cell_type": "code",
   "execution_count": null,
   "metadata": {},
   "outputs": [],
   "source": [
    "rest_base.index('Score')"
   ]
  },
  {
   "cell_type": "code",
   "execution_count": 2,
   "metadata": {},
   "outputs": [
    {
     "data": {
      "text/plain": [
       "['Protein IDs',\n",
       " 'Protein names',\n",
       " 'Gene names',\n",
       " 'Razor + unique peptides',\n",
       " 'Unique sequence coverage [%]',\n",
       " 'Mol. weight [kDa]',\n",
       " 'Sequence length',\n",
       " 'Q-value',\n",
       " 'Score',\n",
       " 'Reporter intensity 1 1st',\n",
       " 'Reporter intensity 1 2nd',\n",
       " 'Reporter intensity 1 3rd',\n",
       " 'Reporter intensity 2 1st',\n",
       " 'Reporter intensity 2 2nd',\n",
       " 'Reporter intensity 2 3rd',\n",
       " 'Reporter intensity 3 1st',\n",
       " 'Reporter intensity 3 2nd',\n",
       " 'Reporter intensity 3 3rd',\n",
       " 'Intensity',\n",
       " 'id',\n",
       " 'Peptide IDs',\n",
       " 'Evidence IDs',\n",
       " 'Best MS/MS']"
      ]
     },
     "execution_count": 2,
     "metadata": {},
     "output_type": "execute_result"
    }
   ],
   "source": [
    "rest = f1.base_cols(rest_base, repos)\n",
    "rest"
   ]
  },
  {
   "cell_type": "code",
   "execution_count": null,
   "metadata": {},
   "outputs": [],
   "source": [
    "# repo intensity를 원래 자리에 두는게 좋지않을까.\n",
    "tmp = rest_base.index('Score')\n",
    "rest = rest_base[:tmp] + repos + rest_base[tmp:]\n",
    "rest"
   ]
  },
  {
   "cell_type": "code",
   "execution_count": null,
   "metadata": {},
   "outputs": [],
   "source": [
    "# 가져갈 것들\n",
    "# 일차적으로는 reporter intensity.\n",
    "# 이차적으로는 버리지 않고 reporter intensity 가져가되, 가시화 할 수 있도록. (inplace=False 혹은 다른파일로 저장.)"
   ]
  },
  {
   "cell_type": "code",
   "execution_count": null,
   "metadata": {},
   "outputs": [],
   "source": [
    "# Reporter intensity 에서 corrected, count 찾기 (1)\n",
    "import pandas as pd\n",
    "import re\n",
    "\n",
    "def det_corrected_or_count(df):\n",
    "    drop_cols =[]\n",
    "    cols = pd.Index(df.columns).tolist()\n",
    "    for col in cols:\n",
    "        if re.search(('corrected|intensity count'), col):\n",
    "            drop_cols.append(col)\n",
    "    return (cols, drop_cols)\n",
    "\n",
    "d = det_corrected_or_count(df)\n",
    "d[1]"
   ]
  },
  {
   "cell_type": "code",
   "execution_count": null,
   "metadata": {},
   "outputs": [],
   "source": [
    "# Reporter intensity 에서 corrected, count 찾기 (2)\n",
    "import pandas as pd\n",
    "import re\n",
    "\n",
    "def det_corrected_or_count(df):\n",
    "    drop_cols =[]\n",
    "    idx = pd.Index(df.columns)\n",
    "    cols = idx.tolist()\n",
    "    for col in cols:\n",
    "        if re.search('corrected', col):\n",
    "            drop_cols.append(col)\n",
    "        elif re.search('intensity count', col):\n",
    "            drop_cols.append(col)\n",
    "        else:\n",
    "            pass\n",
    "    return (cols, drop_cols)\n",
    "\n",
    "d = det_corrected_or_count(df)\n",
    "d[1]"
   ]
  },
  {
   "cell_type": "code",
   "execution_count": null,
   "metadata": {},
   "outputs": [],
   "source": [
    "# (3) Reporter intensity 모조리 찾고, corrected, count 따로 return.\n",
    "import pandas as pd\n",
    "import re\n",
    "\n",
    "def det_corrected_or_count(df):\n",
    "    reporter = []\n",
    "    reporter_drop =[]\n",
    "    cols = pd.Index(df.columns).tolist()\n",
    "    for col in cols:\n",
    "        if re.search('Reporter', col):\n",
    "            reporter.append(col)\n",
    "    for repo in reporter:\n",
    "        if re.search(('corrected|count'), repo):\n",
    "            reporter_drop.append(repo)\n",
    "    reporter = sorted(list(set(reporter) - set(reporter_drop)))\n",
    "    return (reporter, reporter_drop)\n",
    "\n",
    "d = det_corrected_or_count(df)\n",
    "d[0]"
   ]
  },
  {
   "cell_type": "code",
   "execution_count": null,
   "metadata": {},
   "outputs": [],
   "source": [
    "rest_base = [\n",
    "    'Protein IDs', 'Protein names', 'Gene names', 'Razor + unique peptides',\n",
    "    'Unique sequence coverage [%]', 'Mol. weight [kDa]','Sequence length',\n",
    "    'Q-value', 'Score', 'Intensity', 'id', 'Peptide IDs', 'Evidence IDs',\n",
    "    'Best MS/MS'\n",
    "]"
   ]
  },
  {
   "cell_type": "code",
   "execution_count": null,
   "metadata": {},
   "outputs": [],
   "source": [
    "rest_base += d[0]\n",
    "rest_base"
   ]
  },
  {
   "cell_type": "code",
   "execution_count": null,
   "metadata": {},
   "outputs": [],
   "source": [
    "# Replication이 많을 때 replication 수 판단하고 그룹핑하기.\n",
    "# 공통된 부분 제외하면 남는 부분으로 추론되지 않을까"
   ]
  },
  {
   "cell_type": "code",
   "execution_count": null,
   "metadata": {},
   "outputs": [],
   "source": [
    "def det_corrected_or_count(self):\n",
    "        reporter = []\n",
    "        reporter_drop = []\n",
    "        cols = pd.Index(self.df.columns).tolist()\n",
    "        for col in cols:\n",
    "            if re.search('Reporter', col):\n",
    "                reporter.append(col)\n",
    "        for repo in reporter:\n",
    "            if re.search(('corrected|count'), repo):\n",
    "                reporter_drop.append(col)\n",
    "        reporters = sorted(list(set(reporter) - set(reporter_drop)))\n",
    "        return (reporters, reporter_drop)"
   ]
  }
 ],
 "metadata": {
  "kernelspec": {
   "display_name": "Python 3",
   "language": "python",
   "name": "python3"
  },
  "language_info": {
   "codemirror_mode": {
    "name": "ipython",
    "version": 3
   },
   "file_extension": ".py",
   "mimetype": "text/x-python",
   "name": "python",
   "nbconvert_exporter": "python",
   "pygments_lexer": "ipython3",
   "version": "3.9.13"
  },
  "orig_nbformat": 4,
  "vscode": {
   "interpreter": {
    "hash": "596c9d63e29fcbf91eba4fd757e6e698bf89c9e1b516a0889b14eef5ff86a8c4"
   }
  }
 },
 "nbformat": 4,
 "nbformat_minor": 2
}
