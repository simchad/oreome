{
 "cells": [
  {
   "cell_type": "code",
   "execution_count": 17,
   "id": "08e4d9f3-d382-455b-945a-64093380efa9",
   "metadata": {},
   "outputs": [
    {
     "name": "stdout",
     "output_type": "stream",
     "text": [
      "Set2 has 2843 elements\n",
      "Set3 has 2825 elements\n"
     ]
    },
    {
     "data": {
      "image/png": "[encoded data removed]",
      "text/plain": [
       "<Figure size 432x288 with 1 Axes>"
      ]
     },
     "metadata": {},
     "output_type": "display_data"
    },
    {
     "data": {
      "text/plain": [
       "\"\\nvenn3_unweighted([set1, set2, set3], ('Set1', 'Set2', 'Set3'))\\ntitle_font = {\\n    'fontsize': 16,\\n    'fontweight': 'bold'\\n}\\nplt.title('DU145_Global_100ng_60min', fontdict=title_font, loc='center')\\nplt.savefig(address+'_unweighted_diagram'+ntm+'.png', dpi=200, facecolor='#ffffff', edgecolor='black')\\nplt.show()\\n\""
      ]
     },
     "execution_count": 17,
     "metadata": {},
     "output_type": "execute_result"
    }
   ],
   "source": [
    "'''\n",
    "Comment (2023.01.18.)\n",
    "\n",
    "Draw Venn diagrams and export its elements\n",
    "'''\n",
    "\n",
    "# conda install -c conda-forge matplotlib-venn\n",
    "import pandas as pd\n",
    "import matplotlib.pyplot as plt\n",
    "from matplotlib_venn import venn2_unweighted, venn3_unweighted\n",
    "from time import localtime, strftime\n",
    "\n",
    "\n",
    "# output 파일 위한 naming: 경로+현재시간\n",
    "tm = localtime()\n",
    "ntm = strftime('%Y%m%d_%H%M%S', tm)\n",
    "address = './outputs/venn'\n",
    "\n",
    "\n",
    "# N = 3, Triplicate\n",
    "#path1 = './outputs/20220615_DU145_Global_500ng_60min_7-28%_1_proteinGroups_v1.txt'\n",
    "path2 = './outputs/20220615_DU145_Global_500ng_60min_7-28%_2_proteinGroups_v1.txt'\n",
    "path3 = './outputs/20220615_DU145_Global_500ng_60min_7-28%_3_proteinGroups_v1.txt'\n",
    "\n",
    "\n",
    "# set: 집합 선언\n",
    "'''\n",
    "df1 = pd.read_table(filepath_or_buffer=path1)\n",
    "set1 = set(pd.Series(df1[\"Protein IDs\"]))\n",
    "print('Set1 has '+str(len(set1))+' elements')\n",
    "'''\n",
    "df2 = pd.read_table(filepath_or_buffer=path2)\n",
    "set2 = set(pd.Series(df2[\"Protein IDs\"]))\n",
    "print('Set2 has '+str(len(set2))+' elements')\n",
    "\n",
    "df3 = pd.read_table(filepath_or_buffer=path3)\n",
    "set3 = set(pd.Series(df3[\"Protein IDs\"]))\n",
    "print('Set3 has '+str(len(set3))+' elements')\n",
    "\n",
    "\n",
    "# venn2_unweighted\n",
    "\n",
    "venn2_unweighted([set2, set3], ('Set2', 'Set3'))\n",
    "title_font = {\n",
    "    'fontsize': 16,\n",
    "    'fontweight': 'bold'\n",
    "}\n",
    "plt.title('DU145_Global_500ng_60min', fontdict=title_font, loc='center')\n",
    "plt.savefig(address+'_unweighted_diagram'+ntm+'.png', dpi=200, facecolor='#ffffff', edgecolor='black')\n",
    "plt.show()\n",
    "\n",
    "\n",
    "\n",
    "\n",
    "# venn3_unweighted\n",
    "'''\n",
    "venn3_unweighted([set1, set2, set3], ('Set1', 'Set2', 'Set3'))\n",
    "title_font = {\n",
    "    'fontsize': 16,\n",
    "    'fontweight': 'bold'\n",
    "}\n",
    "plt.title('DU145_Global_100ng_60min', fontdict=title_font, loc='center')\n",
    "plt.savefig(address+'_unweighted_diagram'+ntm+'.png', dpi=200, facecolor='#ffffff', edgecolor='black')\n",
    "plt.show()\n",
    "'''"
   ]
  },
  {
   "cell_type": "code",
   "execution_count": 13,
   "id": "5b401b3c-ed65-461d-af7a-704f5e8a5c62",
   "metadata": {},
   "outputs": [],
   "source": [
    "i123_100ng = set1 & set2 & set3"
   ]
  },
  {
   "cell_type": "code",
   "execution_count": 2,
   "id": "660b3858-8ce4-4bb9-9af4-c210b876224f",
   "metadata": {},
   "outputs": [],
   "source": [
    "i123_200ng = set1 & set2 & set3"
   ]
  },
  {
   "cell_type": "code",
   "execution_count": 18,
   "id": "9929faa3-1f56-48ad-82fc-2106196f1f8e",
   "metadata": {},
   "outputs": [],
   "source": [
    "i123_500ng = set2 & set3"
   ]
  },
  {
   "cell_type": "code",
   "execution_count": 7,
   "id": "4061282f-7431-4057-bef4-61aac27d8a7f",
   "metadata": {},
   "outputs": [],
   "source": [
    "i123_1000ng = set1 & set2"
   ]
  },
  {
   "cell_type": "code",
   "execution_count": 10,
   "id": "3008d8bf-d6e7-4578-867c-eebb0ac8eb8b",
   "metadata": {},
   "outputs": [],
   "source": [
    "i123_1000ng2 = set1 & set2"
   ]
  },
  {
   "cell_type": "code",
   "execution_count": 21,
   "id": "0fcc2e29-6d90-436d-8f5e-ced33d6f2d52",
   "metadata": {},
   "outputs": [
    {
     "name": "stdout",
     "output_type": "stream",
     "text": [
      "message! >>> All columns are merged\n",
      "message! >>> ./outputs/elements_20220627_184658.txt added.\n"
     ]
    }
   ],
   "source": [
    "column_name1 = ['100ng', '200ng', '500ng', '1000ng_60min', '1000ng_120min']\n",
    "column_name2 = [i123_100ng, i123_200ng, i123_500ng, i123_1000ng, i123_1000ng2]\n",
    "df = pd.DataFrame({'100ng': list(i123_100ng)})\n",
    "\n",
    "for i in range (4):\n",
    "    add = pd.DataFrame({column_name1[i+1]: list(column_name2[i+1])})\n",
    "    df = pd.concat([df, add], axis=1)\n",
    "    \n",
    "print('message! >>> All columns are merged')\n",
    "\n",
    "# tab 으로 구분된 파일 내보내기\n",
    "df.to_csv(path_or_buf='./outputs/elements_'+ntm+'.txt', sep='\\t', index=False, encoding='utf-8')\n",
    "print('message! >>> '+'./outputs/elements_'+ntm+'.txt added.')"
   ]
  },
  {
   "cell_type": "code",
   "execution_count": 22,
   "id": "85bd9c07-c004-4586-8b90-14443813ad8c",
   "metadata": {},
   "outputs": [
    {
     "name": "stdout",
     "output_type": "stream",
     "text": [
      "<class 'pandas.core.frame.DataFrame'>\n",
      "Int64Index: 3351 entries, 0 to 3350\n",
      "Data columns (total 5 columns):\n",
      " #   Column         Non-Null Count  Dtype \n",
      "---  ------         --------------  ----- \n",
      " 0   100ng          1095 non-null   object\n",
      " 1   200ng          1926 non-null   object\n",
      " 2   500ng          2537 non-null   object\n",
      " 3   1000ng_60min   2752 non-null   object\n",
      " 4   1000ng_120min  3351 non-null   object\n",
      "dtypes: object(5)\n",
      "memory usage: 157.1+ KB\n"
     ]
    }
   ],
   "source": [
    "df.info()"
   ]
  },
  {
   "cell_type": "code",
   "execution_count": null,
   "id": "c8013ebc-6754-4fd0-8ead-9a64a20b55be",
   "metadata": {},
   "outputs": [],
   "source": []
  }
 ],
 "metadata": {
  "kernelspec": {
   "display_name": "Python 3",
   "language": "python",
   "name": "python3"
  },
  "language_info": {
   "codemirror_mode": {
    "name": "ipython",
    "version": 3
   },
   "file_extension": ".py",
   "mimetype": "text/x-python",
   "name": "python",
   "nbconvert_exporter": "python",
   "pygments_lexer": "ipython3",
   "version": "3.9.10 (tags/v3.9.10:f2f3f53, Jan 17 2022, 15:14:21) [MSC v.1929 64 bit (AMD64)]"
  },
  "vscode": {
   "interpreter": {
    "hash": "4c37b9e9e27a0f58f1f76daeb0795aad7529a8acf1100c521e915f00a9c40e89"
   }
  }
 },
 "nbformat": 4,
 "nbformat_minor": 5
}
