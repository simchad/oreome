{
 "cells": [
  {
   "cell_type": "code",
   "execution_count": 1,
   "id": "747e52d5-b9fc-4924-b8fe-89c79ff43cf7",
   "metadata": {},
   "outputs": [
    {
     "name": "stdout",
     "output_type": "stream",
     "text": [
      "<class 'pandas.core.frame.DataFrame'>\n",
      "RangeIndex: 3351 entries, 0 to 3350\n",
      "Data columns (total 5 columns):\n",
      " #   Column         Non-Null Count  Dtype \n",
      "---  ------         --------------  ----- \n",
      " 0   100ng          1095 non-null   object\n",
      " 1   200ng          1926 non-null   object\n",
      " 2   500ng          2537 non-null   object\n",
      " 3   1000ng_60min   2752 non-null   object\n",
      " 4   1000ng_120min  3351 non-null   object\n",
      "dtypes: object(5)\n",
      "memory usage: 131.0+ KB\n"
     ]
    }
   ],
   "source": [
    "'''\n",
    "Comment (2023.01.18.)\n",
    "After version of \"app_02_01.ipynb\" .venn2, venn3 package used.\n",
    "'''\n",
    "\n",
    "# conda install -c conda-forge matplotlib-venn\n",
    "import pandas as pd\n",
    "import matplotlib.pyplot as plt\n",
    "from matplotlib_venn import venn2_unweighted, venn3_unweighted\n",
    "from time import localtime, strftime\n",
    "\n",
    "\n",
    "# output 파일 위한 naming: 경로+현재시간\n",
    "tm = localtime()\n",
    "ntm = strftime('%Y%m%d_%H%M%S', tm)\n",
    "address = './outputs/venn'\n",
    "\n",
    "\n",
    "# N = 3, Triplicate\n",
    "path = './outputs/elements_20220627_184658.txt'\n",
    "df = pd.read_table(filepath_or_buffer=path)\n",
    "df.info()\n",
    "\n",
    "\n",
    "# set: 집합 선언\n",
    "set1 = set(pd.Series(df[\"100ng\"]))\n",
    "set2 = set(pd.Series(df[\"200ng\"]))\n",
    "set3 = set(pd.Series(df[\"500ng\"]))\n",
    "set4 = set(pd.Series(df[\"1000ng_60min\"]))\n",
    "set5 = set(pd.Series(df[\"1000ng_120min\"]))"
   ]
  },
  {
   "cell_type": "code",
   "execution_count": 14,
   "id": "0e7a614c-7b80-4538-8663-bcc55f1ee5b8",
   "metadata": {},
   "outputs": [
    {
     "data": {
      "image/png": "[encoded data removed]",
      "text/plain": [
       "<Figure size 432x288 with 1 Axes>"
      ]
     },
     "metadata": {},
     "output_type": "display_data"
    },
    {
     "data": {
      "text/plain": [
       "\"\\nvenn3_unweighted([set1, set2, set3], ('Set1', 'Set2', 'Set3'))\\ntitle_font = {\\n    'fontsize': 16,\\n    'fontweight': 'bold'\\n}\\nplt.title('DU145_Global_100ng_60min', fontdict=title_font, loc='center')\\nplt.savefig(address+'_unweighted_diagram'+ntm+'.png', dpi=200, facecolor='#ffffff', edgecolor='black')\\nplt.show()\\n\""
      ]
     },
     "execution_count": 14,
     "metadata": {},
     "output_type": "execute_result"
    }
   ],
   "source": [
    "# venn2_unweighted\n",
    "\n",
    "venn2_unweighted([set1, set2], ('Set1', 'Set2'))\n",
    "title_font = {\n",
    "    'fontsize': 16,\n",
    "    'fontweight': 'bold'\n",
    "}\n",
    "#plt.title('set1 & set2', fontdict=title_font, loc='center')\n",
    "#plt.savefig(address+'_unweighted_diagram'+ntm+'.png', dpi=200, facecolor='#ffffff', edgecolor='black')\n",
    "plt.show()\n",
    "\n",
    "\n",
    "\n",
    "\n",
    "# venn3_unweighted\n",
    "'''\n",
    "venn3_unweighted([set1, set2, set3], ('Set1', 'Set2', 'Set3'))\n",
    "title_font = {\n",
    "    'fontsize': 16,\n",
    "    'fontweight': 'bold'\n",
    "}\n",
    "plt.title('DU145_Global_100ng_60min', fontdict=title_font, loc='center')\n",
    "plt.savefig(address+'_unweighted_diagram'+ntm+'.png', dpi=200, facecolor='#ffffff', edgecolor='black')\n",
    "plt.show()\n",
    "'''\n"
   ]
  },
  {
   "cell_type": "code",
   "execution_count": 11,
   "id": "c8013ebc-6754-4fd0-8ead-9a64a20b55be",
   "metadata": {},
   "outputs": [
    {
     "data": {
      "text/plain": [
       "1048"
      ]
     },
     "execution_count": 11,
     "metadata": {},
     "output_type": "execute_result"
    }
   ],
   "source": [
    "i12345 = set1 & set2 & set3 & set4\n",
    "len(i1234)"
   ]
  },
  {
   "cell_type": "code",
   "execution_count": 12,
   "id": "de6e2956-ca04-461a-9a19-04fd8748801e",
   "metadata": {},
   "outputs": [
    {
     "data": {
      "text/plain": [
       "1054"
      ]
     },
     "execution_count": 12,
     "metadata": {},
     "output_type": "execute_result"
    }
   ],
   "source": [
    "i123 = set1 & set2 & set3\n",
    "len(i123)"
   ]
  },
  {
   "cell_type": "code",
   "execution_count": 13,
   "id": "2dc11344-5e45-4583-9cf1-0b81cb8839db",
   "metadata": {},
   "outputs": [
    {
     "data": {
      "text/plain": [
       "1061"
      ]
     },
     "execution_count": 13,
     "metadata": {},
     "output_type": "execute_result"
    }
   ],
   "source": [
    "i12 = set1 & set2\n",
    "len(i12)"
   ]
  },
  {
   "cell_type": "code",
   "execution_count": null,
   "id": "a58bf227-ab6f-49d3-97d7-2ec13909d70c",
   "metadata": {},
   "outputs": [],
   "source": []
  },
  {
   "cell_type": "code",
   "execution_count": null,
   "id": "10f93d3b-ee5e-4347-913d-4138a5cc1147",
   "metadata": {},
   "outputs": [],
   "source": []
  },
  {
   "cell_type": "code",
   "execution_count": null,
   "id": "05162fe1-0cd6-412c-90de-a6472c243e4e",
   "metadata": {},
   "outputs": [],
   "source": [
    "# DataFrame\n",
    "'''\n",
    "column_name1 = ['100ng', '200ng', '500ng', '1000ng_60min', '1000ng_120min']\n",
    "column_name2 = [i123_100ng, i123_200ng, i123_500ng, i123_1000ng, i123_1000ng2]\n",
    "df = pd.DataFrame({'100ng': list(i123_100ng)})\n",
    "\n",
    "for i in range (4):\n",
    "    add = pd.DataFrame({column_name1[i+1]: list(column_name2[i+1])})\n",
    "    df = pd.concat([df, add], axis=1)\n",
    "    \n",
    "print('message! >>> All columns are merged')\n",
    "\n",
    "# tab 으로 구분된 파일 내보내기\n",
    "df.to_csv(path_or_buf='./outputs/elements_'+ntm+'.txt', sep='\\t', index=False, encoding='utf-8')\n",
    "print('message! >>> '+'./outputs/elements_'+ntm+'.txt added.')\n",
    "'''"
   ]
  }
 ],
 "metadata": {
  "kernelspec": {
   "display_name": "Python 3",
   "language": "python",
   "name": "python3"
  },
  "language_info": {
   "codemirror_mode": {
    "name": "ipython",
    "version": 3
   },
   "file_extension": ".py",
   "mimetype": "text/x-python",
   "name": "python",
   "nbconvert_exporter": "python",
   "pygments_lexer": "ipython3",
   "version": "3.9.10 (tags/v3.9.10:f2f3f53, Jan 17 2022, 15:14:21) [MSC v.1929 64 bit (AMD64)]"
  },
  "vscode": {
   "interpreter": {
    "hash": "4c37b9e9e27a0f58f1f76daeb0795aad7529a8acf1100c521e915f00a9c40e89"
   }
  }
 },
 "nbformat": 4,
 "nbformat_minor": 5
}
