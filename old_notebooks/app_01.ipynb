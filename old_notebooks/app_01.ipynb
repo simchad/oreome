{
 "cells": [
  {
   "cell_type": "code",
   "execution_count": 1,
   "id": "81222a21-f5fd-461c-9d87-cee81e572b73",
   "metadata": {},
   "outputs": [
    {
     "ename": "SystemExit",
     "evalue": "0",
     "output_type": "error",
     "traceback": [
      "An exception has occurred, use %tb to see the full traceback.\n",
      "\u001b[1;31mSystemExit\u001b[0m\u001b[1;31m:\u001b[0m 0\n"
     ]
    },
    {
     "name": "stderr",
     "output_type": "stream",
     "text": [
      "C:\\Users\\Simon\\anaconda3\\lib\\site-packages\\IPython\\core\\interactiveshell.py:3405: UserWarning: To exit: use 'exit', 'quit', or Ctrl-D.\n",
      "  warn(\"To exit: use 'exit', 'quit', or Ctrl-D.\", stacklevel=1)\n"
     ]
    }
   ],
   "source": [
    "'''\n",
    "Comment (2023.01.18.)\n",
    "\n",
    "PyQt5 사용한 GUI 연습.\n",
    "\n",
    "계획 변경점: app 이 아닌 web-based 로 하기. django 사용.\n",
    "'''\n",
    "\n",
    "# 창 띄우기.\n",
    "\n",
    "import sys\n",
    "from PyQt5.QtWidgets import QApplication, QWidget, QCheckBox\n",
    "from PyQt5.QtGui import QIcon\n",
    "from PyQt5.QtCore import Qt, QCoreApplication\n",
    "\n",
    "\n",
    "class MyApp(QWidget):\n",
    "\n",
    "    def __init__(self):\n",
    "        super().__init__()\n",
    "        self.initUI()\n",
    "\n",
    "    def initUI(self):\n",
    "        # 03) QCheckBox\n",
    "        cb1 = QCheckBox('Show title', self)\n",
    "        cb1.move(20, 20)\n",
    "        \n",
    "        # 체크박스 default:un-checked 된 상태\n",
    "        # cb1.toggle()\n",
    "        \n",
    "        self.setWindowTitle('App01')\n",
    "        self.setWindowIcon(QIcon('./Files/logo_python.png'))\n",
    "        self.move(300, 300)\n",
    "        self.resize(400, 200)\n",
    "        self.show()\n",
    "\n",
    "\n",
    "if __name__ == '__main__':\n",
    "   app = QApplication(sys.argv)\n",
    "   ex = MyApp()\n",
    "   sys.exit(app.exec_())"
   ]
  },
  {
   "cell_type": "code",
   "execution_count": null,
   "id": "ed4d78e1-0dd2-4d25-b235-2837e493d30c",
   "metadata": {},
   "outputs": [],
   "source": []
  },
  {
   "cell_type": "code",
   "execution_count": null,
   "id": "9d818a3b-8e12-48ae-9f72-48b85e686f44",
   "metadata": {},
   "outputs": [],
   "source": []
  }
 ],
 "metadata": {
  "kernelspec": {
   "display_name": "Python 3",
   "language": "python",
   "name": "python3"
  },
  "language_info": {
   "codemirror_mode": {
    "name": "ipython",
    "version": 3
   },
   "file_extension": ".py",
   "mimetype": "text/x-python",
   "name": "python",
   "nbconvert_exporter": "python",
   "pygments_lexer": "ipython3",
   "version": "3.9.10 (tags/v3.9.10:f2f3f53, Jan 17 2022, 15:14:21) [MSC v.1929 64 bit (AMD64)]"
  },
  "vscode": {
   "interpreter": {
    "hash": "4c37b9e9e27a0f58f1f76daeb0795aad7529a8acf1100c521e915f00a9c40e89"
   }
  }
 },
 "nbformat": 4,
 "nbformat_minor": 5
}
