{
 "cells": [
  {
   "cell_type": "code",
   "execution_count": 4,
   "id": "08e4d9f3-d382-455b-945a-64093380efa9",
   "metadata": {
    "tags": []
   },
   "outputs": [
    {
     "name": "stdout",
     "output_type": "stream",
     "text": [
      "Set1 has 3228 elements\n",
      "Set2 has 3050 elements\n"
     ]
    },
    {
     "data": {
      "image/png": "[encoded data removed]",
      "text/plain": [
       "<Figure size 432x288 with 1 Axes>"
      ]
     },
     "metadata": {},
     "output_type": "display_data"
    }
   ],
   "source": [
    "# conda install -c conda-forge matplotlib-venn\n",
    "\n",
    "import os\n",
    "import pandas as pd\n",
    "import matplotlib.pyplot as plt\n",
    "from matplotlib_venn import venn2\n",
    "from matplotlib_venn import venn2_unweighted\n",
    "from time import localtime, strftime\n",
    "\n",
    "\n",
    "# output 파일 위한 naming: 경로+현재시간\n",
    "wd = os.getcwd()\n",
    "tm = localtime()\n",
    "ntm = strftime('%Y%m%d_%H%M%S', tm)\n",
    "address = './outputs/venn2'\n",
    "\n",
    "\n",
    "# N = 2\n",
    "path1 = './outputs/20220713_DU145_Global_1ug_180min_7-28%_1_proteinGroups_v1.txt'\n",
    "path2 = './outputs/20220713_DU145_Global_1ug_180min_7-28%_2_proteinGroups_v1.txt'\n",
    "\n",
    "\n",
    "# set: 집합 선언\n",
    "df1 = pd.read_table(filepath_or_buffer=path1)\n",
    "set1 = set(pd.Series(df1[\"Protein IDs\"]))\n",
    "print('Set1 has '+str(len(set1))+' elements')\n",
    "\n",
    "df2 = pd.read_table(filepath_or_buffer=path2)\n",
    "set2 = set(pd.Series(df2[\"Protein IDs\"]))\n",
    "print('Set2 has '+str(len(set2))+' elements')\n",
    "\n",
    "\n",
    "# Visualization 1\n",
    "'''\n",
    "venn2([set1, set2], ('Set1', 'Set2'))\n",
    "title_font = {\n",
    "    'fontsize': 16,\n",
    "    'fontweight': 'bold'\n",
    "}\n",
    "plt.title('Venn2 diagram', fontdict=title_font, loc='center')\n",
    "plt.savefig(address+'_diagram'+ntm+'.png', dpi=200, facecolor='#ffffff', edgecolor='black')\n",
    "plt.show()\n",
    "'''\n",
    "\n",
    "# Visualization 2\n",
    "out = venn2_unweighted([set1, set2], ('Set1', 'Set2'))\n",
    "\n",
    "for text in out.set_labels:\n",
    "    text.set_fontsize(15)\n",
    "for x in range(len(out.subset_labels)):\n",
    "    if out.subset_labels[x] is not None:\n",
    "        out.subset_labels[x].set_fontsize(15)\n",
    "    \n",
    "title_font = {\n",
    "    'fontsize': 16,\n",
    "    'fontweight': 'bold'\n",
    "}\n",
    "# title: path에서 특정 위치 지정.(outputs 뒤부터~ proteinGroups 앞까지)\n",
    "plt.title('DU145_Global_1ug_180min', fontdict=title_font, loc='center')\n",
    "plt.savefig(address+'_unweighted_diagram'+ntm+'.png', dpi=200, facecolor='#ffffff', edgecolor='black')\n",
    "plt.show()"
   ]
  },
  {
   "cell_type": "code",
   "execution_count": 2,
   "id": "f423adc2-31b6-4fb4-9c82-ee143c42ba3a",
   "metadata": {},
   "outputs": [
    {
     "name": "stdout",
     "output_type": "stream",
     "text": [
      "inter12: 1129\n",
      "differ1: 116\n",
      "differ2: 182\n"
     ]
    }
   ],
   "source": [
    "# 집합에 해당하는 요소들 불러오기!\n",
    "# N 수가 2 의 경우, 3개의 집합이 존재.\n",
    "# 집합 연산자 사용!\n",
    "\n",
    "# inter: intersection (교집합) / differ: difference (차집합)\n",
    "\n",
    "# (1) 집합 1과 집합 2의 합집합\n",
    "inter12 = set1 & set2\n",
    "print('inter12: '+str(len(inter12)))\n",
    "\n",
    "# (2-1) 집합 1에대한 집합2의 차집합\n",
    "differ1 = set1 - set2\n",
    "print('differ1: '+str(len(differ1)))\n",
    "\n",
    "# (2-2) 집합 2에대한 집합 1의 차집합\n",
    "differ2 = set2 - set1\n",
    "print('differ2: '+str(len(differ2)))"
   ]
  },
  {
   "cell_type": "code",
   "execution_count": 4,
   "id": "76f11446-093e-46c6-ae93-533f0cc8133f",
   "metadata": {},
   "outputs": [
    {
     "name": "stdout",
     "output_type": "stream",
     "text": [
      "message! >>> All columns are merged\n",
      "message! >>> ./outputs/venn2_elements-20220622_171259.txt added.\n"
     ]
    },
    {
     "data": {
      "text/html": [
       "<div>\n",
       "<style scoped>\n",
       "    .dataframe tbody tr th:only-of-type {\n",
       "        vertical-align: middle;\n",
       "    }\n",
       "\n",
       "    .dataframe tbody tr th {\n",
       "        vertical-align: top;\n",
       "    }\n",
       "\n",
       "    .dataframe thead th {\n",
       "        text-align: right;\n",
       "    }\n",
       "</style>\n",
       "<table border=\"1\" class=\"dataframe\">\n",
       "  <thead>\n",
       "    <tr style=\"text-align: right;\">\n",
       "      <th></th>\n",
       "      <th>1AND2</th>\n",
       "      <th>(1-2)</th>\n",
       "      <th>(2-1)</th>\n",
       "    </tr>\n",
       "  </thead>\n",
       "  <tbody>\n",
       "    <tr>\n",
       "      <th>0</th>\n",
       "      <td>P19784</td>\n",
       "      <td>P49189</td>\n",
       "      <td>P35658</td>\n",
       "    </tr>\n",
       "    <tr>\n",
       "      <th>1</th>\n",
       "      <td>P17931</td>\n",
       "      <td>Q13451</td>\n",
       "      <td>Q99615</td>\n",
       "    </tr>\n",
       "    <tr>\n",
       "      <th>2</th>\n",
       "      <td>P13674</td>\n",
       "      <td>Q9UIW2</td>\n",
       "      <td>Q99614</td>\n",
       "    </tr>\n",
       "    <tr>\n",
       "      <th>3</th>\n",
       "      <td>Q12907</td>\n",
       "      <td>P83916</td>\n",
       "      <td>P60891</td>\n",
       "    </tr>\n",
       "    <tr>\n",
       "      <th>4</th>\n",
       "      <td>P25788</td>\n",
       "      <td>Q9Y696</td>\n",
       "      <td>Q9UBB9</td>\n",
       "    </tr>\n",
       "    <tr>\n",
       "      <th>...</th>\n",
       "      <td>...</td>\n",
       "      <td>...</td>\n",
       "      <td>...</td>\n",
       "    </tr>\n",
       "    <tr>\n",
       "      <th>1124</th>\n",
       "      <td>O60313</td>\n",
       "      <td>NaN</td>\n",
       "      <td>NaN</td>\n",
       "    </tr>\n",
       "    <tr>\n",
       "      <th>1125</th>\n",
       "      <td>P35249</td>\n",
       "      <td>NaN</td>\n",
       "      <td>NaN</td>\n",
       "    </tr>\n",
       "    <tr>\n",
       "      <th>1126</th>\n",
       "      <td>P26006</td>\n",
       "      <td>NaN</td>\n",
       "      <td>NaN</td>\n",
       "    </tr>\n",
       "    <tr>\n",
       "      <th>1127</th>\n",
       "      <td>P63000</td>\n",
       "      <td>NaN</td>\n",
       "      <td>NaN</td>\n",
       "    </tr>\n",
       "    <tr>\n",
       "      <th>1128</th>\n",
       "      <td>P50990</td>\n",
       "      <td>NaN</td>\n",
       "      <td>NaN</td>\n",
       "    </tr>\n",
       "  </tbody>\n",
       "</table>\n",
       "<p>1129 rows × 3 columns</p>\n",
       "</div>"
      ],
      "text/plain": [
       "       1AND2   (1-2)   (2-1)\n",
       "0     P19784  P49189  P35658\n",
       "1     P17931  Q13451  Q99615\n",
       "2     P13674  Q9UIW2  Q99614\n",
       "3     Q12907  P83916  P60891\n",
       "4     P25788  Q9Y696  Q9UBB9\n",
       "...      ...     ...     ...\n",
       "1124  O60313     NaN     NaN\n",
       "1125  P35249     NaN     NaN\n",
       "1126  P26006     NaN     NaN\n",
       "1127  P63000     NaN     NaN\n",
       "1128  P50990     NaN     NaN\n",
       "\n",
       "[1129 rows x 3 columns]"
      ]
     },
     "execution_count": 4,
     "metadata": {},
     "output_type": "execute_result"
    }
   ],
   "source": [
    "# 각 그룹의 요소들 데이터 프레임으로 만들고 csv로 내보내기.\n",
    "import os\n",
    "from time import localtime, strftime\n",
    "\n",
    "\n",
    "# output 파일 위한 naming: 경로+현재시간\n",
    "wd = os.getcwd()\n",
    "tm = localtime()\n",
    "ntm = strftime('%Y%m%d_%H%M%S', tm)\n",
    "address = './outputs/venn2_elements-'+ntm+'.txt'\n",
    "\n",
    "\n",
    "# Merge columns and assembling DataFrame\n",
    "column_name1 = ['(1AND2)', '(1-2)', '(2-1)']\n",
    "column_name2 = [inter12, differ1, differ2]\n",
    "df = pd.DataFrame({'1AND2': list(inter12)})\n",
    "\n",
    "for i in range (2):\n",
    "    add = pd.DataFrame({column_name1[i+1]: list(column_name2[i+1])})\n",
    "    df = pd.concat([df, add], axis=1)\n",
    "    \n",
    "print('message! >>> All columns are merged')\n",
    "\n",
    "# tab 으로 구분된 파일 내보내기\n",
    "df.to_csv(path_or_buf=address+'_elements'+ntm+'.txt', sep='\\t', index=False, encoding='utf-8')\n",
    "print('message! >>> '+address+'_elements'+ntm+'.txt added.')\n",
    "\n",
    "df"
   ]
  },
  {
   "cell_type": "code",
   "execution_count": 61,
   "id": "5b401b3c-ed65-461d-af7a-704f5e8a5c62",
   "metadata": {},
   "outputs": [
    {
     "name": "stdout",
     "output_type": "stream",
     "text": [
      "<class 'pandas.core.frame.DataFrame'>\n",
      "Int64Index: 1169 entries, 0 to 1168\n",
      "Data columns (total 10 columns):\n",
      " #   Column     Non-Null Count  Dtype \n",
      "---  ------     --------------  ----- \n",
      " 0   1AND2AND3  1095 non-null   object\n",
      " 1   (1AND2)    1129 non-null   object\n",
      " 2   (1AND3)    1150 non-null   object\n",
      " 3   (2AND3)    1169 non-null   object\n",
      " 4   (1AND2)-3  34 non-null     object\n",
      " 5   (1AND3)-2  55 non-null     object\n",
      " 6   (2AND3)-1  74 non-null     object\n",
      " 7   1-(2AND3)  61 non-null     object\n",
      " 8   2-(1AND3)  108 non-null    object\n",
      " 9   3-(1AND2)  65 non-null     object\n",
      "dtypes: object(10)\n",
      "memory usage: 100.5+ KB\n"
     ]
    }
   ],
   "source": [
    "df.info()"
   ]
  },
  {
   "cell_type": "code",
   "execution_count": null,
   "id": "7405c205-7bad-472b-9867-e6f1e746f369",
   "metadata": {},
   "outputs": [],
   "source": []
  }
 ],
 "metadata": {
  "kernelspec": {
   "display_name": "Python 3",
   "language": "python",
   "name": "python3"
  },
  "language_info": {
   "codemirror_mode": {
    "name": "ipython",
    "version": 3
   },
   "file_extension": ".py",
   "mimetype": "text/x-python",
   "name": "python",
   "nbconvert_exporter": "python",
   "pygments_lexer": "ipython3",
   "version": "3.9.13 (tags/v3.9.13:6de2ca5, May 17 2022, 16:36:42) [MSC v.1929 64 bit (AMD64)]"
  },
  "vscode": {
   "interpreter": {
    "hash": "596c9d63e29fcbf91eba4fd757e6e698bf89c9e1b516a0889b14eef5ff86a8c4"
   }
  }
 },
 "nbformat": 4,
 "nbformat_minor": 5
}
