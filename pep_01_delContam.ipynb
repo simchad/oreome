{
 "cells": [
  {
   "cell_type": "code",
   "execution_count": 1,
   "id": "c122da83-db8c-4ad1-85e3-7e8e20bb249b",
   "metadata": {
    "tags": []
   },
   "outputs": [],
   "source": [
    "import os\n",
    "import pandas as pd\n",
    "from time import localtime, strftime\n",
    "\n",
    "# output 파일 위한 naming 함수: 경로+버전+현재시간\n",
    "def op_address(vers):\n",
    "    wd = os.getcwd()\n",
    "    tm = localtime()\n",
    "    ntm = strftime('%Y%m%d_%H%M%S', tm)\n",
    "    address = wd+'/outputs/peptides_v'+str(vers)+'-'+ntm+'.txt'\n",
    "    return address\n"
   ]
  },
  {
   "cell_type": "code",
   "execution_count": 4,
   "id": "954de9d2-d1a6-4e4a-8895-5926b4deb37e",
   "metadata": {},
   "outputs": [
    {
     "name": "stdout",
     "output_type": "stream",
     "text": [
      "message! >>> 82 potential contaminant elements are dropped\n",
      "message! >>> 36 reverse elements are dropped\n",
      "message! >>> 2 columns are dropped: [Reverse] [Potential contaminant]\n",
      "message! >>> C:\\Users\\Simon\\Documents\\PDmimic/outputs/peptides_v0-20220622_122000.txt added.\n",
      "<class 'pandas.core.frame.DataFrame'>\n",
      "Int64Index: 11440 entries, 0 to 11557\n",
      "Data columns (total 54 columns):\n",
      " #   Column                  Non-Null Count  Dtype  \n",
      "---  ------                  --------------  -----  \n",
      " 0   Sequence                11440 non-null  object \n",
      " 1   N-term cleavage window  11440 non-null  object \n",
      " 2   C-term cleavage window  11440 non-null  object \n",
      " 3   Amino acid before       11440 non-null  object \n",
      " 4   First amino acid        11440 non-null  object \n",
      " 5   Second amino acid       11440 non-null  object \n",
      " 6   Second last amino acid  11440 non-null  object \n",
      " 7   Last amino acid         11440 non-null  object \n",
      " 8   Amino acid after        11440 non-null  object \n",
      " 9   A Count                 11440 non-null  int64  \n",
      " 10  R Count                 11440 non-null  int64  \n",
      " 11  N Count                 11440 non-null  int64  \n",
      " 12  D Count                 11440 non-null  int64  \n",
      " 13  C Count                 11440 non-null  int64  \n",
      " 14  Q Count                 11440 non-null  int64  \n",
      " 15  E Count                 11440 non-null  int64  \n",
      " 16  G Count                 11440 non-null  int64  \n",
      " 17  H Count                 11440 non-null  int64  \n",
      " 18  I Count                 11440 non-null  int64  \n",
      " 19  L Count                 11440 non-null  int64  \n",
      " 20  K Count                 11440 non-null  int64  \n",
      " 21  M Count                 11440 non-null  int64  \n",
      " 22  F Count                 11440 non-null  int64  \n",
      " 23  P Count                 11440 non-null  int64  \n",
      " 24  S Count                 11440 non-null  int64  \n",
      " 25  T Count                 11440 non-null  int64  \n",
      " 26  W Count                 11440 non-null  int64  \n",
      " 27  Y Count                 11440 non-null  int64  \n",
      " 28  V Count                 11440 non-null  int64  \n",
      " 29  U Count                 11440 non-null  int64  \n",
      " 30  O Count                 11440 non-null  int64  \n",
      " 31  Length                  11440 non-null  int64  \n",
      " 32  Missed cleavages        11440 non-null  int64  \n",
      " 33  Mass                    11440 non-null  float64\n",
      " 34  Proteins                11440 non-null  object \n",
      " 35  Leading razor protein   11440 non-null  object \n",
      " 36  Start position          11440 non-null  float64\n",
      " 37  End position            11440 non-null  float64\n",
      " 38  Gene names              11434 non-null  object \n",
      " 39  Protein names           11431 non-null  object \n",
      " 40  Unique (Groups)         11440 non-null  object \n",
      " 41  Unique (Proteins)       11440 non-null  object \n",
      " 42  Charges                 11440 non-null  object \n",
      " 43  PEP                     11440 non-null  float64\n",
      " 44  Score                   11440 non-null  float64\n",
      " 45  Intensity               11440 non-null  int64  \n",
      " 46  id                      11440 non-null  int64  \n",
      " 47  Protein group IDs       11440 non-null  object \n",
      " 48  Mod. peptide IDs        11440 non-null  object \n",
      " 49  Evidence IDs            11440 non-null  object \n",
      " 50  MS/MS IDs               11440 non-null  object \n",
      " 51  Best MS/MS              11440 non-null  int64  \n",
      " 52  Oxidation (M) site IDs  1733 non-null   object \n",
      " 53  MS/MS Count             11440 non-null  int64  \n",
      "dtypes: float64(5), int64(28), object(21)\n",
      "memory usage: 4.8+ MB\n"
     ]
    }
   ],
   "source": [
    "# peptides.txt 로드.\n",
    "df = pd.read_table('./RawData/TextFiles/peptides.txt')\n",
    "len0 = len(df)\n",
    "\n",
    "# contam, reverse, only site 필터링 후 column drop\n",
    "df.drop(df[df['Potential contaminant'] == '+'].index, inplace = True)\n",
    "len_contam = len0 - len(df)\n",
    "print('message! >>> '+str(len_contam)+' Potential contaminant elements are dropped')\n",
    "\n",
    "\n",
    "df.drop(df[df['Reverse'] == '+'].index, inplace = True)\n",
    "len_rev = len0-len_contam-len(df)\n",
    "print('message! >>> '+str(len_rev)+' reverse elements are dropped')\n",
    "      \n",
    "df.drop(columns=['Reverse', 'Potential contaminant'], inplace=True)\n",
    "print('message! >>> 2 columns are dropped: [Reverse] [Potential contaminant]')\n",
    "\n",
    "df.to_csv(path_or_buf=op_address('0'), sep='\\t', index=False, encoding='utf-8')\n",
    "print('message! >>> '+op_address('0')+' added.')\n",
    "\n",
    "df.info()"
   ]
  },
  {
   "cell_type": "code",
   "execution_count": 14,
   "id": "c7070773-29df-4e04-9e59-7f06a0d610ec",
   "metadata": {},
   "outputs": [
    {
     "data": {
      "text/plain": [
       "82"
      ]
     },
     "execution_count": 14,
     "metadata": {},
     "output_type": "execute_result"
    }
   ],
   "source": [
    "# amino acid 카운트 column drop. >>> find 메서드로 시퀀스에서 찾는 기능 도입하면 돼. df 크기 줄이는 목적.\n",
    "\n",
    "# Length drop: len(df[row, 'column_label'])메서드 사용.\n",
    "# ex) len(df.loc[0, 'Sequence'])\n",
    "\n",
    "# Fisrt amino acid / Second amino acid / Second last amino acid / Last amino acid 컬럼 drop\n",
    "# Sequence에서 앞뒤 첫,두번째 아미노산 의미.\n",
    "# ex) df.loc[0, 'Sequence'].count('A')"
   ]
  },
  {
   "cell_type": "code",
   "execution_count": 5,
   "id": "f306b233-35b1-4433-83d4-7548d6b5575b",
   "metadata": {},
   "outputs": [
    {
     "name": "stdout",
     "output_type": "stream",
     "text": [
      "message! >>> 27 columns are dropped\n",
      "message! >>> C:\\Users\\Simon\\Documents\\PDmimic/outputs/peptides_v1-20220622_122007.txt added.\n",
      "<class 'pandas.core.frame.DataFrame'>\n",
      "RangeIndex: 11440 entries, 0 to 11439\n",
      "Data columns (total 27 columns):\n",
      " #   Column                  Non-Null Count  Dtype  \n",
      "---  ------                  --------------  -----  \n",
      " 0   Sequence                11440 non-null  object \n",
      " 1   N-term cleavage window  11440 non-null  object \n",
      " 2   C-term cleavage window  11440 non-null  object \n",
      " 3   Amino acid before       11440 non-null  object \n",
      " 4   Amino acid after        11440 non-null  object \n",
      " 5   Missed cleavages        11440 non-null  int64  \n",
      " 6   Mass                    11440 non-null  float64\n",
      " 7   Proteins                11440 non-null  object \n",
      " 8   Leading razor protein   11440 non-null  object \n",
      " 9   Start position          11440 non-null  float64\n",
      " 10  End position            11440 non-null  float64\n",
      " 11  Gene names              11434 non-null  object \n",
      " 12  Protein names           11431 non-null  object \n",
      " 13  Unique (Groups)         11440 non-null  object \n",
      " 14  Unique (Proteins)       11440 non-null  object \n",
      " 15  Charges                 11440 non-null  object \n",
      " 16  PEP                     11440 non-null  float64\n",
      " 17  Score                   11440 non-null  float64\n",
      " 18  Intensity               11440 non-null  int64  \n",
      " 19  id                      11440 non-null  int64  \n",
      " 20  Protein group IDs       11440 non-null  object \n",
      " 21  Mod. peptide IDs        11440 non-null  object \n",
      " 22  Evidence IDs            11440 non-null  object \n",
      " 23  MS/MS IDs               11440 non-null  object \n",
      " 24  Best MS/MS              11440 non-null  int64  \n",
      " 25  Oxidation (M) site IDs  1733 non-null   object \n",
      " 26  MS/MS Count             11440 non-null  int64  \n",
      "dtypes: float64(5), int64(5), object(17)\n",
      "memory usage: 2.4+ MB\n"
     ]
    }
   ],
   "source": [
    "filt = ['First amino acid', 'Second amino acid', 'Second last amino acid', 'Last amino acid',\n",
    "        'A Count', 'R Count', 'N Count', 'D Count', 'C Count', 'Q Count', 'E Count', 'G Count', 'H Count', 'I Count', 'L Count',\n",
    "        'K Count', 'M Count', 'F Count', 'P Count', 'S Count', 'T Count', 'W Count', 'Y Count', 'V Count', 'U Count', 'O Count', 'Length']\n",
    "\n",
    "df.drop(columns=filt, inplace=True)\n",
    "print('message! >>> 27 columns are dropped')\n",
    "\n",
    "df.to_csv(path_or_buf=op_address('1'), sep='\\t', index=False, encoding='utf-8')\n",
    "print('message! >>> '+op_address('1')+' added.')\n",
    "\n",
    "# index 넘버링 초기화\n",
    "df.reset_index(drop=True, inplace=True)\n",
    "\n",
    "df.info()"
   ]
  },
  {
   "cell_type": "code",
   "execution_count": null,
   "id": "cf275f60-7a14-41f5-9e7b-9bc3d65f2e46",
   "metadata": {
    "tags": []
   },
   "outputs": [],
   "source": [
    "'''\n",
    "\n",
    "# filt = ['First amino acid', 'Second amino acid', 'Second last amino acid', 'Last amino acid',\n",
    "# 'A Count', 'R Count', 'N Count', 'D Count', 'C Count', 'Q Count', 'E Count', 'G Count', 'H Count', 'I Count', 'L Count',\n",
    "# 'K Count', 'M Count', 'F Count', 'P Count', 'S Count', 'T Count', 'W Count', 'Y Count', 'V Count', 'U Count', 'O Count', 'Length']\n",
    "\n",
    "# filt 요소 구현\n",
    "\n",
    "# (1-2) Nth order amino acid\n",
    "tmp = df.loc[0, 'Sequence']\n",
    "tmp[N-1]\n",
    "\n",
    "# (3-4) Nth order last amino acid\n",
    "tmp = df.loc[0, 'Sequence']\n",
    "tmp[-N]\n",
    "\n",
    "# (5-26) Count specific amino acid in sequence\n",
    "df.loc[0, 'Sequence'].count('A')\n",
    "\n",
    "# (27) Length of Sequence\n",
    "len(df.loc[0, 'Sequence'])\n",
    "\n",
    "'''"
   ]
  },
  {
   "cell_type": "code",
   "execution_count": null,
   "id": "10292400-c299-4aac-a0b1-475ba4524ed3",
   "metadata": {},
   "outputs": [],
   "source": []
  },
  {
   "cell_type": "code",
   "execution_count": null,
   "id": "59ae7fb1-41da-46f9-abc5-26239dabdc1b",
   "metadata": {},
   "outputs": [],
   "source": []
  }
 ],
 "metadata": {
  "kernelspec": {
   "display_name": "Python 3 (ipykernel)",
   "language": "python",
   "name": "python3"
  },
  "language_info": {
   "codemirror_mode": {
    "name": "ipython",
    "version": 3
   },
   "file_extension": ".py",
   "mimetype": "text/x-python",
   "name": "python",
   "nbconvert_exporter": "python",
   "pygments_lexer": "ipython3",
   "version": "3.9.7"
  }
 },
 "nbformat": 4,
 "nbformat_minor": 5
}
