{
 "cells": [
  {
   "cell_type": "code",
   "execution_count": 9,
   "metadata": {},
   "outputs": [],
   "source": [
    "# Load packages.\n",
    "from os import getcwd\n",
    "import pandas as pd\n",
    "import re\n",
    "from time import localtime, strftime\n",
    "from proteometool.api_request import requests_uniprot\n",
    "from proteometool.api_request import _api_uniprot\n",
    "\n",
    "\n",
    "ids = ['P09429', 'P00338', 'P10275', 'P60709']\n",
    "\n",
    "#link = requests_uniprot._execute_id_mapping(id_series=ids)\n",
    "\n",
    "json_data = _api_uniprot.get_id_mapping_results_stream(\"https://rest.uniprot.org/idmapping/uniprotkb/results/ad13fd7c2f54490e2bbd36006fd61cf56ba9db31\")"
   ]
  },
  {
   "cell_type": "code",
   "execution_count": 8,
   "metadata": {},
   "outputs": [
    {
     "name": "stdout",
     "output_type": "stream",
     "text": [
      "4\n"
     ]
    }
   ],
   "source": [
    "num_sublist = data_json['results'].__len__()\n",
    "print(num_sublist)"
   ]
  },
  {
   "cell_type": "code",
   "execution_count": 10,
   "metadata": {},
   "outputs": [
    {
     "name": "stdout",
     "output_type": "stream",
     "text": [
      "Processing... 0 : P09429\n",
      "Protein Name Joined...\n",
      "Processing... 1 : P00338\n",
      "Protein Name Joined...\n",
      "Processing... 2 : P10275\n",
      "Protein Name Joined...\n",
      "Processing... 3 : P60709\n",
      "Protein Name Joined...\n"
     ]
    }
   ],
   "source": [
    "# Number of entries (from)\n",
    "num_sublist = json_data['results'].__len__()\n",
    "\n",
    "category_name = []\n",
    "pr_names = []\n",
    "entry_from = []\n",
    "\n",
    "for n_try in range(num_sublist):\n",
    "    data_dict = json_data[\"results\"][n_try]\n",
    "    name_dict = data_dict[\"to\"]\n",
    "    phrase = \"Protein Name Joined...\"\n",
    "\n",
    "    print('Processing... %d : %s'%(n_try, data_dict[\"from\"]))\n",
    "\n",
    "    if name_dict.get(\"proteinDescription\") == None:\n",
    "        entry_from.append(data_dict[\"from\"])\n",
    "        category_name.append(\"Deleted\")\n",
    "        pr_names.append('Deleted')\n",
    "        print(phrase)\n",
    "\n",
    "    else:\n",
    "        try:\n",
    "            pr_name = name_dict['proteinDescription']['recommendedName']['fullName']['value']\n",
    "            entry_from.append(data_dict[\"from\"])\n",
    "            category_name.append('recommendedName')\n",
    "            pr_names.append(pr_name)\n",
    "            print(phrase)\n",
    "        except:\n",
    "            pr_name =name_dict['proteinDescription']['submissionNames'][0]['fullName']['value']\n",
    "            entry_from.append(data_dict[\"from\"])\n",
    "            category_name.append('submissionNames')\n",
    "            pr_names.append(pr_name)\n",
    "            print(phrase)\n",
    "\n",
    "df_protname = pd.DataFrame({'From': entry_from,\n",
    "                            'Category': category_name,\n",
    "                            'Protein Name': pr_names\n",
    "                            })\n",
    "\n",
    "df_protname.to_csv(path_or_buf='C:/Users/simhc/Downloads/ProteinName_20241014.CSV', index=None, encoding='utf-8')"
   ]
  }
 ],
 "metadata": {
  "kernelspec": {
   "display_name": "Python 3",
   "language": "python",
   "name": "python3"
  },
  "language_info": {
   "codemirror_mode": {
    "name": "ipython",
    "version": 3
   },
   "file_extension": ".py",
   "mimetype": "text/x-python",
   "name": "python",
   "nbconvert_exporter": "python",
   "pygments_lexer": "ipython3",
   "version": "3.9.13"
  }
 },
 "nbformat": 4,
 "nbformat_minor": 2
}
