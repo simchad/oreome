{
 "cells": [
  {
   "cell_type": "code",
   "execution_count": null,
   "metadata": {},
   "outputs": [],
   "source": [
    "# Comment (2023.01.18.)\n",
    "\n",
    "# - MQpy/old_notebooks/pg_03_3_processing.ipynb 에서 시작.\n",
    "# - 복붙 x. 타이핑 해가며 기억 깨우기...!\n",
    "# - directory 달라져서 변경해야함. raw_files 폴더 위치 파일 사용하기.\n",
    "\n",
    "\n",
    "# Scope\n",
    "\n",
    "# - proteinGroups.txt 로드 후 다음의 column data를 필터함.\n",
    "# : contaminants, reverse, only identified site, uniquepeptide = 1 entries\n",
    "# - protein names, Best MS/MS 항목에서 세미콜론(;) 구분된 데이터 요소를 split.\n",
    "# - filter가 된 것을 *_base.xlsx 로 저장함.\n",
    "\n",
    "\n",
    "# vscode 터미널에서 pip 안될때\n",
    "\n",
    "# 원인: python 옳게 설치했더라도 윈도우 클래스에서 pip 위치를 알지 못하기에 발생.\n",
    "# python3 부터는 pip 내장이므로 python.exe 디렉터리 연결하면 됨.\n",
    "# C:\\Users\\Simon\\AppData\\Local\\Programs\\Python\\Python39\\Scipts 를 다음에 추가하면됨.\n",
    "# (고급 시스템 설정 보기) - (환경변수 탭) - (사용자에 대한 사용자 변수 및 시스템 변수의 path에 추가)\n",
    "\n",
    "\n",
    "# 다른 설정들\n",
    "# 셀 라인 표시 shift + L"
   ]
  },
  {
   "cell_type": "code",
   "execution_count": 1,
   "metadata": {},
   "outputs": [
    {
     "data": {
      "text/plain": [
       "'c:\\\\Users\\\\Simon\\\\Documents\\\\MQpy\\\\jobs\\\\stage1'"
      ]
     },
     "execution_count": 1,
     "metadata": {},
     "output_type": "execute_result"
    }
   ],
   "source": [
    "import os\n",
    "os.getcwd()"
   ]
  },
  {
   "cell_type": "code",
   "execution_count": 11,
   "metadata": {},
   "outputs": [
    {
     "name": "stdout",
     "output_type": "stream",
     "text": [
      "<class 'pandas.core.frame.DataFrame'>\n",
      "RangeIndex: 1194 entries, 0 to 1193\n",
      "Data columns (total 34 columns):\n",
      " #   Column                                Non-Null Count  Dtype  \n",
      "---  ------                                --------------  -----  \n",
      " 0   Protein IDs                           1194 non-null   object \n",
      " 1   Majority protein IDs                  1194 non-null   object \n",
      " 2   Peptide counts (all)                  1194 non-null   object \n",
      " 3   Peptide counts (razor+unique)         1194 non-null   object \n",
      " 4   Peptide counts (unique)               1194 non-null   object \n",
      " 5   Protein names                         1176 non-null   object \n",
      " 6   Gene names                            1176 non-null   object \n",
      " 7   Fasta headers                         1190 non-null   object \n",
      " 8   Number of proteins                    1194 non-null   int64  \n",
      " 9   Peptides                              1194 non-null   int64  \n",
      " 10  Razor + unique peptides               1194 non-null   int64  \n",
      " 11  Unique peptides                       1194 non-null   int64  \n",
      " 12  Sequence coverage [%]                 1194 non-null   float64\n",
      " 13  Unique + razor sequence coverage [%]  1194 non-null   float64\n",
      " 14  Unique sequence coverage [%]          1194 non-null   float64\n",
      " 15  Mol. weight [kDa]                     1194 non-null   float64\n",
      " 16  Sequence length                       1194 non-null   int64  \n",
      " 17  Sequence lengths                      1194 non-null   object \n",
      " 18  Q-value                               1194 non-null   float64\n",
      " 19  Score                                 1194 non-null   float64\n",
      " 20  Intensity                             1194 non-null   int64  \n",
      " 21  MS/MS count                           1194 non-null   int64  \n",
      " 22  Only identified by site               26 non-null     object \n",
      " 23  Reverse                               12 non-null     object \n",
      " 24  Potential contaminant                 11 non-null     object \n",
      " 25  id                                    1194 non-null   int64  \n",
      " 26  Peptide IDs                           1194 non-null   object \n",
      " 27  Peptide is razor                      1194 non-null   object \n",
      " 28  Mod. peptide IDs                      1194 non-null   object \n",
      " 29  Evidence IDs                          1194 non-null   object \n",
      " 30  MS/MS IDs                             1194 non-null   object \n",
      " 31  Best MS/MS                            1194 non-null   object \n",
      " 32  Oxidation (M) site IDs                97 non-null     object \n",
      " 33  Oxidation (M) site positions          97 non-null     object \n",
      "dtypes: float64(6), int64(8), object(20)\n",
      "memory usage: 317.3+ KB\n"
     ]
    }
   ],
   "source": [
    "# Load packages\n",
    "import pandas as pd\n",
    "from time import localtime, strftime\n",
    "\n",
    "# Set test sample path\n",
    "global txtpath\n",
    "txtpath = 'C:\\\\Users\\\\Simon\\Documents\\\\MQpy\\\\raw_files\\\\TestSample\\\\LTQ_QC_DU145\\\\proteinGroups.txt'\n",
    "\n",
    "\n",
    "# Load proteinGroups.txt\n",
    "df = pd.read_table(filepath_or_buffer=txtpath)\n",
    "\n",
    "df.info()"
   ]
  },
  {
   "cell_type": "code",
   "execution_count": null,
   "metadata": {},
   "outputs": [],
   "source": []
  }
 ],
 "metadata": {
  "kernelspec": {
   "display_name": "Python 3",
   "language": "python",
   "name": "python3"
  },
  "language_info": {
   "codemirror_mode": {
    "name": "ipython",
    "version": 3
   },
   "file_extension": ".py",
   "mimetype": "text/x-python",
   "name": "python",
   "nbconvert_exporter": "python",
   "pygments_lexer": "ipython3",
   "version": "3.9.10"
  },
  "orig_nbformat": 4,
  "vscode": {
   "interpreter": {
    "hash": "4c37b9e9e27a0f58f1f76daeb0795aad7529a8acf1100c521e915f00a9c40e89"
   }
  }
 },
 "nbformat": 4,
 "nbformat_minor": 2
}
