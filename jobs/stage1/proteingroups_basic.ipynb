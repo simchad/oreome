{
 "cells": [
  {
   "cell_type": "code",
   "execution_count": null,
   "metadata": {},
   "outputs": [],
   "source": [
    "# Comment (2023.01.18.)\n",
    "\n",
    "# - MQpy/old_notebooks/pg_03_3_processing.ipynb 에서 시작.\n",
    "# - 복붙 x. 타이핑 해가며 기억 깨우기...!\n",
    "# - directory 달라져서 변경해야함. raw_files 폴더 위치 파일 사용하기.\n",
    "\n",
    "\n",
    "# Scope\n",
    "\n",
    "# - proteinGroups.txt 로드 후 다음의 column data를 필터함.\n",
    "# : contaminants, reverse, only identified site, uniquepeptide = 1 entries\n",
    "# - protein names, Best MS/MS 항목에서 세미콜론(;) 구분된 데이터 요소를 split.\n",
    "# - filter가 된 것을 *_base.xlsx 로 저장함.\n",
    "\n",
    "\n",
    "# vscode 터미널에서 pip 안될때\n",
    "\n",
    "# 원인: python 옳게 설치했더라도 윈도우 클래스에서 pip 위치를 알지 못하기에 발생.\n",
    "# python3 부터는 pip 내장이므로 python.exe 디렉터리 연결하면 됨.\n",
    "# C:\\Users\\Simon\\AppData\\Local\\Programs\\Python\\Python39\\Scipts 를 다음에 추가하면됨.\n",
    "# (고급 시스템 설정 보기) - (환경변수 탭) - (사용자에 대한 사용자 변수 및 시스템 변수의 path에 추가)\n",
    "\n",
    "\n",
    "# 다른 설정들\n",
    "# 셀 라인 표시 shift + L"
   ]
  },
  {
   "cell_type": "code",
   "execution_count": 1,
   "metadata": {},
   "outputs": [],
   "source": [
    "# Load packages\n",
    "# from os import getcwd\n",
    "import pandas as pd\n",
    "from time import localtime, strftime\n",
    "\n",
    "\n",
    "\n",
    "# Set test sample path\n",
    "global txtpath\n",
    "txtpath = '..\\\\..\\\\raw_files\\\\TestSample\\\\LTQ_QC_DU145\\\\proteinGroups.txt'\n",
    "\n",
    "\n",
    "class drop_column:\n",
    "    def __init__(self, c_name=None, id_str=None, id_num=None):\n",
    "        self.c_name = c_name\n",
    "        self.id_str = id_str\n",
    "        self.id_num = id_num\n",
    "\n",
    "    def drop_by_chracter(self):\n",
    "        tmp = len(df[df[self.c_name] == str(self.id_str)]) \n",
    "        df.drop(df[df[self.c_name] == str(self.id_str)].index, inplace = True)\n",
    "        df.drop(columns=[self.c_name], inplace=True)\n",
    "        ratio = (100*tmp)/(tmp+len(df))\n",
    "        return print('message! >>> '+str(tmp)+' ['+self.c_name+'] (%.2f%%) of entries were dropped' %ratio)\n",
    "            \n",
    "    \n",
    "    def drop_by_identifier(self):\n",
    "        #if self.\n",
    "        tmp = len(df[df[self.c_name] == float(self.id_num)])\n",
    "        df.drop(df[df[self.c_name] == float(self.id_num)].index, inplace = True)\n",
    "        ratio = (100*tmp)/(tmp+len(df))\n",
    "        return print('message! >>> '+str(tmp)+' ['+self.c_name+'] (%.2f%%) of entries were dropped' %ratio)\n",
    "    \n",
    "\n",
    "\n",
    "# read txt file.\n",
    "df = pd.read_table(filepath_or_buffer=txtpath, index_col=False)\n",
    "len0 = len(df)\n"
   ]
  },
  {
   "cell_type": "code",
   "execution_count": 2,
   "metadata": {},
   "outputs": [
    {
     "name": "stdout",
     "output_type": "stream",
     "text": [
      "message! >>> 11 [Potential contaminant] (0.92%) of entries were dropped\n"
     ]
    }
   ],
   "source": [
    "f1 = drop_column(c_name='Potential contaminant', id_str='+')\n",
    "\n",
    "f1.drop_by_chracter()\n",
    "\n",
    "# 실행 확인. c_name for문으로 돌리기.\n"
   ]
  },
  {
   "cell_type": "code",
   "execution_count": null,
   "metadata": {},
   "outputs": [],
   "source": [
    "# Drop: Positive value for (Potential contaminant), (Reverse), (Only identified by site)\n",
    "# Drop : 1 (Razor + unique peptides)\n",
    "\n",
    "# Drop: Positive value for (Potential contaminant), and drop the column\n",
    "len_tmp = len(df[df['Potential contaminant'] == '+'])\n",
    "df.drop(df[df['Potential contaminant'] == '+'].index, inplace = True)\n",
    "df.drop(columns=['Potential contaminant'], inplace=True)\n",
    "print('message! >>> '+str(len_tmp)+' Potential contaminant entries were dropped')\n",
    "\n",
    "\n",
    "# Drop: Positive value for (Reverse), and drop the column\n",
    "len_tmp = len(df[df['Reverse'] == '+'])\n",
    "df.drop(df[df['Reverse'] == '+'].index, inplace = True)\n",
    "df.drop(columns=['Reverse'], inplace=True)\n",
    "print('message! >>> '+str(len_tmp)+' [Reverse entries] were dropped')\n",
    "\n",
    "\n",
    "# Drop: Positive value for (Only identified by site), and drop the column\n",
    "len_tmp = len(df[df['Only identified by site'] == '+'])\n",
    "df.drop(df[df['Only identified by site'] == '+'].index, inplace = True)\n",
    "df.drop(columns=['Only identified by site'], inplace=True)\n",
    "print('message! >>> '+str(len_tmp)+' [Only identified by site] entries were dropped')\n",
    "\n",
    "\n",
    "# Drop: (Razor + unique peptides = 1), and drop the column\n",
    "len_tmp = len(df[df['Razor + unique peptides'] == 1])\n",
    "df.drop(df[df['Razor + unique peptides'] == 1].index, inplace = True)\n",
    "df.drop(columns=['Razor + unique peptides'], inplace=True)\n",
    "print('message! >>> '+str(len_tmp)+' [Razor + uniqe peptides = 1] (%.1f%%) entries were dropped' %(100*len_tmp/(len(df)+len_tmp)))\n",
    "\n",
    "\n",
    "# Monitor: # of remained entries\n",
    "print('message! >>> '+str(len(df))+' entries were remained')\n",
    "\n",
    "\n",
    "# reset index\n",
    "df.reset_index(drop=True, inplace=True)"
   ]
  },
  {
   "cell_type": "code",
   "execution_count": null,
   "metadata": {},
   "outputs": [],
   "source": [
    "# Below... To Do List\n",
    "\n",
    "# 4가지 항목 드랍하는 구문 funciton 정의하여 짧게 구현.\n",
    "\n",
    "# Generate ProteinGroups_base.xlsx\n",
    "# In this .xlsx file, few columns left.\n",
    "\n",
    "# Split [Protin IDs], [Best MS/MS] columns by semi-colon(;)\n",
    "\n",
    "# ID Mapping at Uniprot website export search result\n",
    "# then replace [Protein names], [Gene names], [sequence] values.\n",
    "# 여기서 bs4? API? 뭘 사용할까."
   ]
  }
 ],
 "metadata": {
  "kernelspec": {
   "display_name": "Python 3",
   "language": "python",
   "name": "python3"
  },
  "language_info": {
   "codemirror_mode": {
    "name": "ipython",
    "version": 3
   },
   "file_extension": ".py",
   "mimetype": "text/x-python",
   "name": "python",
   "nbconvert_exporter": "python",
   "pygments_lexer": "ipython3",
   "version": "3.9.10 (tags/v3.9.10:f2f3f53, Jan 17 2022, 15:14:21) [MSC v.1929 64 bit (AMD64)]"
  },
  "orig_nbformat": 4,
  "vscode": {
   "interpreter": {
    "hash": "4c37b9e9e27a0f58f1f76daeb0795aad7529a8acf1100c521e915f00a9c40e89"
   }
  }
 },
 "nbformat": 4,
 "nbformat_minor": 2
}
