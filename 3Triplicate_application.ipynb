{
 "cells": [
  {
   "cell_type": "code",
   "execution_count": 1,
   "id": "08e4d9f3-d382-455b-945a-64093380efa9",
   "metadata": {},
   "outputs": [
    {
     "name": "stdout",
     "output_type": "stream",
     "text": [
      "Set1 has 1245 elements\n",
      "Set2 has 1311 elements\n",
      "Set3 has 1289 elements\n"
     ]
    },
    {
     "data": {
      "image/png": "[encoded data removed]",
      "text/plain": [
       "<Figure size 432x288 with 1 Axes>"
      ]
     },
     "metadata": {},
     "output_type": "display_data"
    }
   ],
   "source": [
    "# conda install -c conda-forge matplotlib-venn\n",
    "import pandas as pd\n",
    "import matplotlib.pyplot as plt\n",
    "from matplotlib_venn import venn3\n",
    "from matplotlib_venn import venn3_unweighted\n",
    "from time import localtime, strftime\n",
    "\n",
    "\n",
    "# output 파일 위한 naming: 경로+현재시간\n",
    "tm = localtime()\n",
    "ntm = strftime('%Y%m%d_%H%M%S', tm)\n",
    "address = './outputs/venn3'\n",
    "\n",
    "\n",
    "# N = 3, Triplicate\n",
    "path1 = './outputs/20220616_DU145_Global_200ng_60min_7-28%_1_proteinGroups_v1.txt'\n",
    "path2 = './outputs/20220616_DU145_Global_200ng_60min_7-28%_2_proteinGroups_v1.txt'\n",
    "path3 = './outputs/20220616_DU145_Global_200ng_60min_7-28%_3_proteinGroups_v1.txt'\n",
    "\n",
    "\n",
    "# set: 집합 선언\n",
    "df1 = pd.read_table(filepath_or_buffer=path1)\n",
    "set1 = set(pd.Series(df1[\"Protein IDs\"]))\n",
    "print('Set1 has '+str(len(set1))+' elements')\n",
    "\n",
    "df2 = pd.read_table(filepath_or_buffer=path2)\n",
    "set2 = set(pd.Series(df2[\"Protein IDs\"]))\n",
    "print('Set2 has '+str(len(set2))+' elements')\n",
    "\n",
    "df3 = pd.read_table(filepath_or_buffer=path3)\n",
    "set3 = set(pd.Series(df3[\"Protein IDs\"]))\n",
    "print('Set3 has '+str(len(set3))+' elements')\n",
    "\n",
    "\n",
    "# Visualization 1\n",
    "'''\n",
    "venn3([set1, set2, set3], ('Set1', 'Set2', 'Set3'))\n",
    "title_font = {\n",
    "    'fontsize': 16,\n",
    "    'fontweight': 'bold'\n",
    "}\n",
    "plt.title('Venn3 diagram', fontdict=title_font, loc='center')\n",
    "plt.savefig(address+'_diagram'+ntm+'.png', dpi=200, facecolor='#ffffff', edgecolor='black')\n",
    "plt.show()\n",
    "'''\n",
    "\n",
    "\n",
    "# Visualization 2\n",
    "venn3_unweighted([set1, set2, set3], ('Set1', 'Set2', 'Set3'))\n",
    "title_font = {\n",
    "    'fontsize': 16,\n",
    "    'fontweight': 'bold'\n",
    "}\n",
    "plt.title('Venn3 unweighted diagram', fontdict=title_font, loc='center')\n",
    "plt.savefig(address+'_unweighted_diagram'+ntm+'.png', dpi=200, facecolor='#ffffff', edgecolor='black')\n",
    "plt.show()"
   ]
  },
  {
   "cell_type": "code",
   "execution_count": 2,
   "id": "f423adc2-31b6-4fb4-9c82-ee143c42ba3a",
   "metadata": {},
   "outputs": [
    {
     "name": "stdout",
     "output_type": "stream",
     "text": [
      "message! >>> All columns are merged\n",
      "message! >>> ./outputs_elements20220627_164631.txt added.\n"
     ]
    }
   ],
   "source": [
    "# 집합에 해당하는 요소들 불러오기!\n",
    "# i: intersection (교집합) / d: difference (차집합)\n",
    "# ex) i123: intersection 1and2and3, i12d3: intersection between 1 and 2 without 3, dif1: only 1\n",
    "\n",
    "# (1) 1, 2, 3 의 합집합\n",
    "i123 = set1 & set2 & set3\n",
    "#print('inter123: '+str(len(i123)))\n",
    "\n",
    "\n",
    "# (2-1) 1과 2의 합집합\n",
    "i12 = set1 & set2\n",
    "#print('inter12: '+str(len(i12)))\n",
    "\n",
    "# (2-2) 1과 3의 합집합\n",
    "i13 = set1 & set3\n",
    "#print('inter13: '+str(len(i13)))\n",
    "\n",
    "# (2-3) 2와 3의 합집합\n",
    "i23 = set2 & set3\n",
    "#print('inter23: '+str(len(i23)))\n",
    "\n",
    "\n",
    "# (3) 1, 2 에 속하지만 3에 속하지 않는 요소 (3의 여집합)\n",
    "i12d3 = (set1 & set2) - set3\n",
    "#print('int12dif3: '+str(len(i12d3)))\n",
    "\n",
    "# (4) 1, 3 에 속하지만 2에 속하지 않는 요소 (2의 여집합)\n",
    "i13d2 = (set1 & set3) - set2\n",
    "#print('int13dif2: '+str(len(i13d2)))\n",
    "\n",
    "# (5) 2, 3 에 속하지만 1에 속하지 않는 요소 (1의 여집합)\n",
    "i23d1 = (set2 & set3) - set1\n",
    "#print('int23dif1: '+str(len(i23d1)))\n",
    "\n",
    "\n",
    "# (6-1) 1에만 속한 요소 (2와 3에 대한 1의 차집합)\n",
    "dif1 = set1 - set2 - set3\n",
    "#print('differ1: '+str(len(dif1)))\n",
    "\n",
    "# (6-2) 2에만 속한 요소 (1과 3에 대한 2의 차집합)\n",
    "dif2 = set2 - set1 - set3\n",
    "#print('differ2: '+str(len(dif2)))\n",
    "      \n",
    "# (6-3) 3에만 속한 요소(1과 2에 대한 3의 차집합)\n",
    "dif3 = set3 - set1 - set2\n",
    "#print('differ3: '+str(len(dif3)))\n",
    "\n",
    "\n",
    "# 각 그룹의 요소들 데이터 프레임으로 만들고 csv로 내보내기.\n",
    "# Merge columns and assembling DataFrame\n",
    "column_name1 = ['(1AND2AND3)', '(1AND2)', '(1AND3)', '(2AND3)', '(1AND2)-3', '(1AND3)-2', '(2AND3)-1', '1-(2AND3)', '2-(1AND3)', '3-(1AND2)']\n",
    "column_name2 = [i123, i12, i13, i23, i12d3, i13d2, i23d1, dif1, dif2, dif3]\n",
    "df = pd.DataFrame({'1AND2AND3': list(i123)})\n",
    "\n",
    "# 0에서 8까지.\n",
    "for i in range (9):\n",
    "    add = pd.DataFrame({column_name1[i+1]: list(column_name2[i+1])})\n",
    "    df = pd.concat([df, add], axis=1)\n",
    "    \n",
    "print('message! >>> All columns are merged')\n",
    "\n",
    "# tab 으로 구분된 파일 내보내기\n",
    "df.to_csv(path_or_buf='./outputs/elements'+ntm+'.txt', sep='\\t', index=False, encoding='utf-8')\n",
    "print('message! >>> '+'./outputs/elements'+ntm+'.txt added.')"
   ]
  },
  {
   "cell_type": "code",
   "execution_count": null,
   "id": "85bd9c07-c004-4586-8b90-14443813ad8c",
   "metadata": {},
   "outputs": [],
   "source": []
  }
 ],
 "metadata": {
  "kernelspec": {
   "display_name": "Python 3 (ipykernel)",
   "language": "python",
   "name": "python3"
  },
  "language_info": {
   "codemirror_mode": {
    "name": "ipython",
    "version": 3
   },
   "file_extension": ".py",
   "mimetype": "text/x-python",
   "name": "python",
   "nbconvert_exporter": "python",
   "pygments_lexer": "ipython3",
   "version": "3.9.7"
  }
 },
 "nbformat": 4,
 "nbformat_minor": 5
}
