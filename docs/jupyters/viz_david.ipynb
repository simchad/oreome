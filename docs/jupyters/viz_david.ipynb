{
 "cells": [
  {
   "cell_type": "markdown",
   "metadata": {},
   "source": [
    "# DAVID visualization\n",
    "\n",
    "## Index\n",
    "A. Dot-plot\n",
    "- Visualize one annotational chart\n",
    "- Visualize two annotational charts\n",
    "\n",
    "B. Bar-plot"
   ]
  },
  {
   "cell_type": "markdown",
   "metadata": {},
   "source": [
    "### A. Dot-plot\n",
    "- __Visualize one annotational chart__\n",
    "- Visualize two annotational charts"
   ]
  },
  {
   "cell_type": "markdown",
   "metadata": {},
   "source": [
    "### Step 1. Call, define the modules and functions.\n"
   ]
  },
  {
   "cell_type": "code",
   "execution_count": 1,
   "metadata": {},
   "outputs": [],
   "source": [
    "import matplotlib as mpl\n",
    "import matplotlib.cm as cm\n",
    "import matplotlib.pyplot as plt\n",
    "import numpy as np\n",
    "import os\n",
    "import pandas as pd\n",
    "import seaborn as sns\n",
    "\n",
    "\n",
    "def preprocess_david(data):\n",
    "    # GeneRatio = Count / List Total\n",
    "    data.loc[:, 'GeneRatio'] = data.loc[:, 'Count'] / data.loc[:, 'List Total']\n",
    "\n",
    "    # BgRatio = Pop Hits / Pop Total\n",
    "    data.loc[:, 'BgRatio'] = data.loc[:, 'Pop Hits'] / data.loc[:, 'Pop Total']\n",
    "\n",
    "    # log2 transformed fold enrichment\n",
    "    data.loc[:, 'log2 Fold Enrichment'] = np.log2(data.loc[:, 'Fold Enrichment'])\n",
    "    #data[:, 'log2 Fold Enrichment'] = np.log2(data[:, 'Fold Enrichment'])\n",
    "    \n",
    "    # Replace 0 to min value from that column\n",
    "    pvals = ['PValue', 'Bonferroni', 'Benjamini']\n",
    "    for pval in pvals:\n",
    "        # Assuming your DataFrame is named 'df'\n",
    "        filtered_df = data[data[pval] != 0]\n",
    "        min_non_zero = filtered_df[pval].min()\n",
    "\n",
    "        #min_non_zero = data[pval][data[pval] != 0].min\n",
    "        data[pval] = data[pval].replace(0, min_non_zero)\n",
    "\n",
    "    # Fisher E\n",
    "    data['-log10(PValue)'] = np.log10(data['PValue'])\n",
    "    data.loc[:, '-log10(PValue)'] *= -1\n",
    "    return data\n",
    "\n",
    "\n",
    "def pick_go_term(data, type=\"bp\", x=\"fold_enrichment\", p=\"pvalue\", top=10):   \n",
    "    # axis_Y (Annotation Term)\n",
    "    global fig_title\n",
    "    global axis_X\n",
    "    global adj_p\n",
    "\n",
    "    if type == \"bp\":\n",
    "        data_tmp = data[data['Category'] == \"GOTERM_BP_DIRECT\"]\n",
    "        fig_title = \"GOBP\"\n",
    "    elif type == \"cc\":\n",
    "        data_tmp = data[data['Category'] == \"GOTERM_CC_DIRECT\"]\n",
    "        fig_title = \"GOCC\"\n",
    "    elif type == \"mf\":\n",
    "        data_tmp = data[data['Category'] == \"GOTERM_MF_DIRECT\"]\n",
    "        fig_title = \"GOMF\"\n",
    "    elif type == \"kegg\":\n",
    "        data_tmp = data[data['Category'] == \"KEGG_PATHWAY\"]\n",
    "        fig_title = \"KEGG\"\n",
    "    else:\n",
    "        raise ValueError\n",
    "\n",
    "    # axis_X ()\n",
    "    if x == \"fold_enrichment\":\n",
    "        axis_X = \"log2 Fold Enrichment\"\n",
    "    elif x == \"gene_ratio\":\n",
    "        axis_X = \"GeneRatio\"\n",
    "    elif x == \"fisherp\":\n",
    "        axis_X = \"-log10(PValue)\"\n",
    "    else:\n",
    "        raise ValueError\n",
    "\n",
    "    # p\n",
    "    if p == \"pvalue\":\n",
    "        adj_p = \"PValue\"\n",
    "        thres = 0.05\n",
    "    elif p == \"fdr\":\n",
    "        adj_p = p.upper()\n",
    "        thres = 0.01\n",
    "    else:\n",
    "        raise ValueError\n",
    "    \n",
    "    # Picking\n",
    "    data_p = data_tmp[data_tmp[adj_p] <= thres]\n",
    "    data_sort = data_p.sort_values(by=axis_X, ascending=False)\n",
    "    data = data_sort[:top]\n",
    "    return data\n",
    "\n",
    "\n",
    "def plot(data):\n",
    "    # GeneOntology Dot Plot Generator\n",
    "    font = {'family':'Arial',\n",
    "            'weight':'normal',\n",
    "            'size':6}\n",
    "    font_ticks = {'family':'Arial',\n",
    "                'weight':'normal',\n",
    "                'size':6}\n",
    "    spectrum_colors = sns.color_palette(\"coolwarm_r\", as_cmap=True)\n",
    "\n",
    "\n",
    "    fig = plt.figure(figsize=(1, 2), dpi=150, facecolor=\"white\")\n",
    "    scatterplot = sns.scatterplot(data, x=axis_X, y=\"Term\", size=\"Count\", hue=adj_p, palette='coolwarm_r', legend=\"brief\")\n",
    "\n",
    "    # Custom legends\n",
    "    h, l = scatterplot.get_legend_handles_labels()\n",
    "    #plt.legend(h[6:], l[6:], bbox_to_anchor=(1.0, 0.5), loc=\"upper left\", title=\"Counts\", frameon=False, borderaxespad=0., fontsize=6, title_fontsize=6)\n",
    "    plt.legend(h[6:], l[6:], bbox_to_anchor=(1.0, 0.5), loc=\"upper left\", frameon=False, borderaxespad=0., fontsize=6, title_fontsize=6)\n",
    "\n",
    "\n",
    "    # ColorBar\n",
    "    cmap = cm.bwr\n",
    "    vmin = data['PValue'].min()\n",
    "    vmax = data['PValue'].max()\n",
    "    vmm = vmin + vmax\n",
    "    norm = mpl.colors.Normalize(vmin=vmin, vmax=vmax)\n",
    "    sm = cm.ScalarMappable(cmap=cmap, norm=norm)\n",
    "    cbar = fig.colorbar(sm, ax=plt.gca(), fraction=0.04, pad=0.1, anchor=(1.0, 0.9), format='%.0e')\n",
    "    cbar.ax.spines['outline'].set_visible(False) # outline remove\n",
    "    cbar.ax.tick_params(size=0, labelsize=6) # remove ticks\n",
    "    #cbar.set_label('Adj.P', rotation=270, size=6)\n",
    "\n",
    "\n",
    "    # Details\n",
    "    plt.title(str(fig_title), font='Arial', size=8)\n",
    "    plt.xlabel(str(axis_X), fontdict=font)\n",
    "    plt.ylabel(None)\n",
    "    plt.xticks(fontproperties=font_ticks)\n",
    "    plt.yticks(fontproperties=font_ticks)\n",
    "\n",
    "    # Add grid lines to both x and y axes with gray color and a lower z-order\n",
    "    plt.grid(True, color='gray', linewidth=0.2, zorder=0)\n",
    "\n",
    "    plt.show()"
   ]
  },
  {
   "cell_type": "markdown",
   "metadata": {},
   "source": [
    "### Step 2. Import data and plot\n",
    "\n",
    "#### Example.\n",
    "X: Gene Ratio, Y: Annotation:GOCC, Hue: Adjusted p-value, Dot size: Counts"
   ]
  },
  {
   "cell_type": "code",
   "execution_count": 27,
   "metadata": {},
   "outputs": [
    {
     "data": {
      "image/png": "[encoded data removed]",
      "text/plain": [
       "<Figure size 150x300 with 2 Axes>"
      ]
     },
     "metadata": {},
     "output_type": "display_data"
    }
   ],
   "source": [
    "import os\n",
    "import pandas as pd\n",
    "\n",
    "# Import the DAVID annoational table.txt\n",
    "USER = os.getcwd()\n",
    "DPATH = 'C:/Users/simhc/Downloads/netosis-david.txt'\n",
    "DPATH1 = \"C:/Users/simhc/OneDrive/Documents/_ProteomicsLAB/_proj/PCa_HMGN1/_proteogenomic/david-kd-up-only.txt\"\n",
    "df = pd.read_csv(filepath_or_buffer=DPATH1, sep='\\t', encoding='utf-8')\n",
    "\n",
    "# Preprocessing, picking up what you want to visualize then plot them.\n",
    "df_ready = preprocess_david(df)\n",
    "df_plot = pick_go_term(df_ready, type=\"kegg\", x=\"gene_ratio\", p=\"pvalue\", top=10)\n",
    "plot(df_plot)"
   ]
  },
  {
   "cell_type": "markdown",
   "metadata": {},
   "source": [
    "#### Bug report\n",
    "Noted two replicated \"Count\" legend title."
   ]
  }
 ],
 "metadata": {
  "kernelspec": {
   "display_name": "Python 3",
   "language": "python",
   "name": "python3"
  },
  "language_info": {
   "codemirror_mode": {
    "name": "ipython",
    "version": 3
   },
   "file_extension": ".py",
   "mimetype": "text/x-python",
   "name": "python",
   "nbconvert_exporter": "python",
   "pygments_lexer": "ipython3",
   "version": "3.13.0"
  }
 },
 "nbformat": 4,
 "nbformat_minor": 2
}
