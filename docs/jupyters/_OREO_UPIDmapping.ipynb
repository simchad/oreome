{
 "cells": [
  {
   "cell_type": "markdown",
   "metadata": {},
   "source": [
    "# 배포판. 2025.3.28."
   ]
  },
  {
   "cell_type": "markdown",
   "metadata": {},
   "source": [
    "### 1. Maxquant 서치 결과 proteinGroups.txt\n",
    "작동확인: 2025.3.28."
   ]
  },
  {
   "cell_type": "code",
   "execution_count": null,
   "metadata": {},
   "outputs": [],
   "source": [
    "# Issue 확인 코드\n",
    "import os\n",
    "import pandas as pd\n",
    "from oreome.lib import preprocessing\n",
    "\n",
    "LOGGEDUSER = os.getlogin()\n",
    "\n",
    "# 파일의 위치를 입력, 파일 확장명까지.\n",
    "DPATH = \"C:/Users/simhc/Desktop/jia/proteinGroups.txt\"\n",
    "\n",
    "# 변경금지\n",
    "data = pd.read_csv(filepath_or_buffer=DPATH, sep=\"\\\\t\", encoding='utf-8')\n",
    "df_base = preprocessing.base_proteingroups(df=data, mapping=True)\n",
    "# 변경금지\n",
    "# 결과는 C:/Users/사용자/Documents/GitHub/oreome/output 에 생김."
   ]
  },
  {
   "cell_type": "markdown",
   "metadata": {},
   "source": [
    "### 2-1. DIA-NN 서치결과 pg_matrix.tsv 일 때.\n",
    "작동확인: 2025.3.28."
   ]
  },
  {
   "cell_type": "code",
   "execution_count": null,
   "metadata": {},
   "outputs": [],
   "source": [
    "from oreome.api_request import requests_uniprot\n",
    "from oreome.lib import preprocessing\n",
    "import pandas as pd\n",
    "\n",
    "# 파일의 위치를 입력, 파일 확장명까지.\n",
    "DPATH = \"C:/Users/simhc/Desktop/jia/report.pg_matrix.tsv\"\n",
    "\n",
    "\n",
    "# 변경금지\n",
    "data = pd.read_csv(filepath_or_buffer=DPATH, sep=\"\\\\t\", encoding='utf-8')\n",
    "df_base_diann = preprocessing.base_diann(df=data, mapping=True)\n",
    "# 변경금지\n",
    "# 결과는 C:/Users/사용자/Documents/GitHub/oreome/output 에 생김."
   ]
  },
  {
   "cell_type": "markdown",
   "metadata": {},
   "source": [
    "### 2-2. potential contaminant, reversed, only identified site, razor + unique peptides =1 필터를 이미한 데이터일 때.\n",
    "웬만하면 여기까지 오지말자.\n",
    "작동확인: 2025.3.28"
   ]
  },
  {
   "cell_type": "code",
   "execution_count": null,
   "metadata": {},
   "outputs": [],
   "source": [
    "from oreome.api_request import requests_uniprot\n",
    "from oreome.lib import preprocessing\n",
    "import pandas as pd\n",
    "\n",
    "# 파일의 위치를 입력, 파일 확장명까지.\n",
    "DPATH = \"C:/Users/simhc/OneDrive/Documents/_ProteomicsLAB/_proj/PCa_HMGN1/_IPMS/HMGN1-IPMS_proteinGroups_v1.tsv\"\n",
    "\n",
    "data = pd.read_csv(filepath_or_buffer=DPATH, sep=\"\\\\t\", encoding='utf-8')\n",
    "\n",
    "request_rst = requests_uniprot.mapping_to_xtract(data['Protein IDs'])\n",
    "df_respond = request_rst[0]\n",
    "data['Protein names'] = df_respond['Protein Name']\n",
    "data['Gene names'] = df_respond['Gene Name']\n",
    "\n",
    "preprocessing._create_csv(data, target='proteinGroups')\n",
    "# 결과는 C:/Users/사용자/Documents/GitHub/oreome/output 에 생김."
   ]
  }
 ],
 "metadata": {
  "kernelspec": {
   "display_name": "Python 3",
   "language": "python",
   "name": "python3"
  },
  "language_info": {
   "codemirror_mode": {
    "name": "ipython",
    "version": 3
   },
   "file_extension": ".py",
   "mimetype": "text/x-python",
   "name": "python",
   "nbconvert_exporter": "python",
   "pygments_lexer": "ipython3",
   "version": "3.13.0"
  }
 },
 "nbformat": 4,
 "nbformat_minor": 2
}
