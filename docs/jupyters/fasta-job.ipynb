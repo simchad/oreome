{
 "cells": [
  {
   "cell_type": "markdown",
   "metadata": {},
   "source": [
    "### read fasta, only sequence and counts every \"X\" amino acid on sequences"
   ]
  },
  {
   "cell_type": "code",
   "execution_count": 12,
   "metadata": {},
   "outputs": [],
   "source": [
    "import numpy as np\n",
    "import pandas as pd\n",
    "\n",
    "\n",
    "def read_fasta(file_path):\n",
    "    sequences = []\n",
    "    current_sequence = []\n",
    "\n",
    "    with open(file_path, 'r') as file:\n",
    "        for line in file:\n",
    "            line = line.strip()\n",
    "            if line.startswith('>'):\n",
    "                if current_sequence:\n",
    "                    sequences.append(''.join(current_sequence))\n",
    "                    current_sequence = []\n",
    "            else:\n",
    "                current_sequence.append(line)\n",
    "\n",
    "        if current_sequence:\n",
    "            sequences.append(''.join(current_sequence))\n",
    "\n",
    "    return sequences\n",
    "\n",
    "\n",
    "# Example usage\n",
    "file_path = 'C:\\\\Users\\\\simhc\\\\Downloads\\\\NCBITaxID_451515_20241018.fasta'\n",
    "sequences = read_fasta(file_path)\n",
    "\n",
    "# remove dups\n",
    "u_sequences = list(set(sequences))"
   ]
  },
  {
   "cell_type": "markdown",
   "metadata": {},
   "source": [
    "### PepZ targeted predicted fastas"
   ]
  },
  {
   "cell_type": "code",
   "execution_count": null,
   "metadata": {},
   "outputs": [
    {
     "name": "stdout",
     "output_type": "stream",
     "text": [
      "159\n"
     ]
    }
   ],
   "source": [
    "def count_aa(seq, char=\"A\"):\n",
    "    count = 0\n",
    "    for aas in seq:\n",
    "        if aas[1] == char:\n",
    "            count += 1\n",
    "    return count\n",
    "\n",
    "\n",
    "c = count_aa(u_sequences, char=\"L\")\n",
    "print(c)\n",
    "\n",
    "# Ala: 199\n",
    "# Arg: 106\n",
    "# Met: 30\n",
    "# Lys: 472\n",
    "# Leu: 159"
   ]
  },
  {
   "cell_type": "code",
   "execution_count": 27,
   "metadata": {},
   "outputs": [],
   "source": [
    "predseq = [u_sequences[i] for i in ind]"
   ]
  },
  {
   "cell_type": "code",
   "execution_count": null,
   "metadata": {},
   "outputs": [],
   "source": [
    "def read_fasta(file_path):\n",
    "    sequences = []\n",
    "    description = None\n",
    "    current_sequence = ''\n",
    "    with open(file_path, 'r') as file:\n",
    "        for line in file:\n",
    "            if line.startswith('>'):\n",
    "                if current_sequence:\n",
    "                    sequences.append((description, current_sequence))\n",
    "                    current_sequence = ''\n",
    "                description = line.strip()  # Save the description/header\n",
    "            else:\n",
    "                current_sequence += line.strip()\n",
    "        if current_sequence:\n",
    "            sequences.append((description, current_sequence))\n",
    "    return sequences\n",
    "\n",
    "# Specify the path to your FASTA file\n",
    "fasta_file_path = 'C:\\\\Users\\\\simhc\\\\Downloads\\\\NCBITaxID_451515_20241018.fasta'\n",
    "\n",
    "# Read the FASTA file and get the sequences with descriptions\n",
    "sequences_with_descriptions = read_fasta(fasta_file_path)"
   ]
  },
  {
   "cell_type": "code",
   "execution_count": 4,
   "metadata": {},
   "outputs": [
    {
     "data": {
      "text/plain": [
       "'V'"
      ]
     },
     "execution_count": 4,
     "metadata": {},
     "output_type": "execute_result"
    }
   ],
   "source": [
    "sequences_with_descriptions[0][1][1]"
   ]
  },
  {
   "cell_type": "code",
   "execution_count": null,
   "metadata": {},
   "outputs": [
    {
     "data": {
      "text/plain": [
       "1137"
      ]
     },
     "execution_count": 6,
     "metadata": {},
     "output_type": "execute_result"
    }
   ],
   "source": [
    "ind = []\n",
    "\n",
    "for seq in sequences_with_descriptions:\n",
    "    if seq[1][1] == \"A\":\n",
    "        ind.append(sequences_with_descriptions.index(seq))\n",
    "    elif seq[1][1] == \"R\":\n",
    "        ind.append(sequences_with_descriptions.index(seq))\n",
    "    elif seq[1][1] == \"M\":\n",
    "        ind.append(sequences_with_descriptions.index(seq))\n",
    "    elif seq[1][1] == \"K\":\n",
    "        ind.append(sequences_with_descriptions.index(seq))\n",
    "    elif seq[1][1] == \"L\":\n",
    "        ind.append(sequences_with_descriptions.index(seq))\n",
    "    else:\n",
    "        pass\n",
    "\n",
    "len(ind)\n",
    "# 1137"
   ]
  },
  {
   "cell_type": "code",
   "execution_count": 7,
   "metadata": {},
   "outputs": [],
   "source": [
    "pred_fasta = [sequences_with_descriptions[i] for i in ind]"
   ]
  },
  {
   "cell_type": "code",
   "execution_count": 8,
   "metadata": {},
   "outputs": [
    {
     "name": "stdout",
     "output_type": "stream",
     "text": [
      "Sequences have been written to C:\\Users\\simhc\\Downloads\\NCBITaxID_451515_20241018_filtered.fasta\n"
     ]
    }
   ],
   "source": [
    "def write_fasta(pred_fasta, output_file_path):\n",
    "    with open(output_file_path, 'w') as file:\n",
    "        for description, sequence in pred_fasta:\n",
    "            file.write(f\"{description}\\n\")\n",
    "            file.write(f\"{sequence}\\n\")\n",
    "\n",
    "# Specify the output FASTA file path\n",
    "output_file_path = 'C:\\\\Users\\\\simhc\\\\Downloads\\\\NCBITaxID_451515_20241018_filtered.fasta'\n",
    "\n",
    "# Write the sequences with descriptions back to a FASTA file\n",
    "write_fasta(pred_fasta, output_file_path)\n",
    "\n",
    "print(f\"Sequences have been written to {output_file_path}\")\n"
   ]
  },
  {
   "cell_type": "markdown",
   "metadata": {},
   "source": [
    "### Remove First amino acid 'M' for PepZ pred targeted proteins then make another fasta"
   ]
  },
  {
   "cell_type": "code",
   "execution_count": 12,
   "metadata": {},
   "outputs": [
    {
     "data": {
      "text/plain": [
       "'MRILITGTVAILIILGLVKTIQDYEMTNDTSRQLSDNKDDDKVIHLNNFKNLHAKEFNPSDFF'"
      ]
     },
     "execution_count": 12,
     "metadata": {},
     "output_type": "execute_result"
    }
   ],
   "source": [
    "pred_fasta[0][1]"
   ]
  },
  {
   "cell_type": "code",
   "execution_count": 10,
   "metadata": {},
   "outputs": [
    {
     "data": {
      "text/plain": [
       "'RILITGTVAILIILGLVKTIQDYEMTNDTSRQLSDNKDDDKVIHLNNFKNLHAKEFNPSDFF'"
      ]
     },
     "execution_count": 10,
     "metadata": {},
     "output_type": "execute_result"
    }
   ],
   "source": [
    "pred_fasta[0][1][1:]"
   ]
  },
  {
   "cell_type": "code",
   "execution_count": 15,
   "metadata": {},
   "outputs": [
    {
     "data": {
      "text/plain": [
       "'>ABD20374.1 conserved hypothetical protein [Staphylococcus aureus subsp. aureus USA300_FPR3757]'"
      ]
     },
     "execution_count": 15,
     "metadata": {},
     "output_type": "execute_result"
    }
   ],
   "source": [
    "pred = pred_fasta[0]\n",
    "des, seq = pred\n",
    "\n",
    "des"
   ]
  },
  {
   "cell_type": "code",
   "execution_count": null,
   "metadata": {},
   "outputs": [
    {
     "name": "stdout",
     "output_type": "stream",
     "text": [
      "Updated sequences have been written to C:\\Users\\simhc\\Downloads\\NCBITaxID_451515_20241018_filtered_WT.fasta\n"
     ]
    }
   ],
   "source": [
    "def remove_first_letter_of_sequences(pred_fasta):\n",
    "    updated_description = []\n",
    "    updated_sequences = []\n",
    "    for description, sequence in pred_fasta:\n",
    "        updated_description = description\n",
    "        updated_sequence = sequence[1:]  # Remove the first letter\n",
    "        updated_sequences.append((description, updated_sequence))\n",
    "    return updated_sequences\n",
    "\n",
    "def write_fasta(pred_fasta, output_file_path):\n",
    "    with open(output_file_path, 'w') as file:\n",
    "        for description, sequence in pred_fasta:\n",
    "            file.write(f\"{description}\\n\")\n",
    "            file.write(f\"{sequence}\\n\")\n",
    "\n",
    "# Remove the first letter of each sequence\n",
    "updated_sequences_with_descriptions = remove_first_letter_of_sequences(pred_fasta)\n",
    "\n",
    "# Specify the output FASTA file path\n",
    "output_file_path = 'C:\\\\Users\\\\simhc\\\\Downloads\\\\NCBITaxID_451515_20241018_filtered_WT.fasta'\n",
    "\n",
    "# Write the updated sequences with descriptions back to a FASTA file\n",
    "write_fasta(updated_sequences_with_descriptions, output_file_path)\n",
    "\n",
    "print(f\"Updated sequences have been written to {output_file_path}\")\n"
   ]
  }
 ],
 "metadata": {
  "kernelspec": {
   "display_name": "Python 3",
   "language": "python",
   "name": "python3"
  },
  "language_info": {
   "codemirror_mode": {
    "name": "ipython",
    "version": 3
   },
   "file_extension": ".py",
   "mimetype": "text/x-python",
   "name": "python",
   "nbconvert_exporter": "python",
   "pygments_lexer": "ipython3",
   "version": "3.13.0"
  }
 },
 "nbformat": 4,
 "nbformat_minor": 2
}
