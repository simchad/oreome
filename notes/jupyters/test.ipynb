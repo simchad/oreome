{
 "cells": [
  {
   "cell_type": "code",
   "execution_count": 5,
   "metadata": {},
   "outputs": [
    {
     "data": {
      "text/plain": [
       "{126, 127, 128, 'a', 'b'}"
      ]
     },
     "execution_count": 5,
     "metadata": {},
     "output_type": "execute_result"
    }
   ],
   "source": [
    "base_cols = ['a', 'b']\n",
    "rest_tmt = [126, 127, 128]\n",
    "\n",
    "# Case TMT\n",
    "\n",
    "rest_cols = set(base_cols) | set(rest_tmt)\n",
    "\n",
    "rest_cols"
   ]
  },
  {
   "cell_type": "code",
   "execution_count": 4,
   "metadata": {},
   "outputs": [
    {
     "ename": "ValueError",
     "evalue": "",
     "output_type": "error",
     "traceback": [
      "\u001b[1;31m---------------------------------------------------------------------------\u001b[0m",
      "\u001b[1;31mValueError\u001b[0m                                Traceback (most recent call last)",
      "Cell \u001b[1;32mIn[4], line 1\u001b[0m\n\u001b[1;32m----> 1\u001b[0m abc(\u001b[39m17\u001b[39;49m)\n",
      "Cell \u001b[1;32mIn[3], line 3\u001b[0m, in \u001b[0;36mabc\u001b[1;34m(target)\u001b[0m\n\u001b[0;32m      1\u001b[0m \u001b[39mdef\u001b[39;00m \u001b[39mabc\u001b[39m(target: \u001b[39mstr\u001b[39m\u001b[39m=\u001b[39m\u001b[39mNone\u001b[39;00m):\n\u001b[0;32m      2\u001b[0m     \u001b[39mif\u001b[39;00m target \u001b[39mnot\u001b[39;00m \u001b[39min\u001b[39;00m [\u001b[39m\"\u001b[39m\u001b[39mprot\u001b[39m\u001b[39m\"\u001b[39m,\u001b[39m\"\u001b[39m\u001b[39mpep\u001b[39m\u001b[39m\"\u001b[39m]:\n\u001b[1;32m----> 3\u001b[0m             \u001b[39mraise\u001b[39;00m \u001b[39mValueError\u001b[39;00m\n\u001b[0;32m      4\u001b[0m     \u001b[39melse\u001b[39;00m:\n\u001b[0;32m      5\u001b[0m           \u001b[39mprint\u001b[39m(target)\n",
      "\u001b[1;31mValueError\u001b[0m: "
     ]
    }
   ],
   "source": [
    "abc(17)"
   ]
  },
  {
   "cell_type": "code",
   "execution_count": 10,
   "metadata": {},
   "outputs": [
    {
     "data": {
      "text/plain": [
       "'Protein IDs'"
      ]
     },
     "execution_count": 10,
     "metadata": {},
     "output_type": "execute_result"
    }
   ],
   "source": [
    "col_name = df.columns.values.tolist()\n",
    "col_name[0]\n",
    "# 'Protein IDs'"
   ]
  },
  {
   "cell_type": "code",
   "execution_count": 14,
   "metadata": {},
   "outputs": [],
   "source": [
    "import re\n",
    "r = re.compile(\"Reporter\")\n",
    "reporters = list(filter(r.match, col_name))"
   ]
  },
  {
   "cell_type": "code",
   "execution_count": null,
   "metadata": {},
   "outputs": [],
   "source": [
    "# regex로 corrected, count 찾아도 됨.\n",
    "# corrected, normal, count 이렇게 세 개 타입이 세트로 나오기 때문에.\n",
    "# 세 셋트. 3으로 나눠서 앞 1/3은 corrected, 뒤 1/3은 count로 줘도 됨.\n",
    "# 순서 바뀌지 않는다는 가정하에...\n",
    "#\n",
    "# 만약에 순서 바뀔 거 생각하면 regex로 조져야."
   ]
  },
  {
   "cell_type": "code",
   "execution_count": 27,
   "metadata": {},
   "outputs": [
    {
     "name": "stdout",
     "output_type": "stream",
     "text": [
      "['Reporter intensity 0', 'Reporter intensity 1', 'Reporter intensity 2', 'Reporter intensity 3', 'Reporter intensity 4', 'Reporter intensity 5', 'Reporter intensity 6', 'Reporter intensity 7', 'Reporter intensity 8', 'Reporter intensity 9']\n"
     ]
    }
   ],
   "source": [
    "r_corrected = re.compile(\"corrected\")\n",
    "r_count = re.compile(\"count\")\n",
    "\n",
    "reporter_corrected = list(filter(r_corrected.search, reporters))\n",
    "reporter_count = list(filter(r_count.search, reporters))\n",
    "\n",
    "reporter = sorted(list((set(reporters)-set(reporter_corrected))-set(reporter_count)))\n",
    "print(reporter)"
   ]
  },
  {
   "cell_type": "code",
   "execution_count": 25,
   "metadata": {},
   "outputs": [
    {
     "data": {
      "text/plain": [
       "['Reporter intensity corrected 0',\n",
       " 'Reporter intensity corrected 1',\n",
       " 'Reporter intensity corrected 2',\n",
       " 'Reporter intensity corrected 3',\n",
       " 'Reporter intensity corrected 4',\n",
       " 'Reporter intensity corrected 5',\n",
       " 'Reporter intensity corrected 6',\n",
       " 'Reporter intensity corrected 7',\n",
       " 'Reporter intensity corrected 8',\n",
       " 'Reporter intensity corrected 9']"
      ]
     },
     "execution_count": 25,
     "metadata": {},
     "output_type": "execute_result"
    }
   ],
   "source": [
    "reporter_corrected"
   ]
  },
  {
   "cell_type": "code",
   "execution_count": 28,
   "metadata": {},
   "outputs": [
    {
     "data": {
      "text/plain": [
       "['Reporter intensity 0',\n",
       " 'Reporter intensity 1',\n",
       " 'Reporter intensity 2',\n",
       " 'Reporter intensity 3',\n",
       " 'Reporter intensity 4',\n",
       " 'Reporter intensity 5',\n",
       " 'Reporter intensity 6',\n",
       " 'Reporter intensity 7',\n",
       " 'Reporter intensity 8',\n",
       " 'Reporter intensity 9']"
      ]
     },
     "execution_count": 28,
     "metadata": {},
     "output_type": "execute_result"
    }
   ],
   "source": [
    "reporter\n",
    "# 여기서 재밌는 사실. regex.search는 순차로 찾는데\n",
    "# set으로 빼고 list 로 바꾸면 순서가 엉망진창.\n",
    "# 양방향으로 찾는다는 것. 나중에 정렬해주면 좋음."
   ]
  },
  {
   "cell_type": "code",
   "execution_count": 32,
   "metadata": {},
   "outputs": [
    {
     "ename": "ModuleNotFoundError",
     "evalue": "No module named 'pyFiles'",
     "output_type": "error",
     "traceback": [
      "\u001b[1;31m---------------------------------------------------------------------------\u001b[0m",
      "\u001b[1;31mModuleNotFoundError\u001b[0m                       Traceback (most recent call last)",
      "Cell \u001b[1;32mIn[32], line 1\u001b[0m\n\u001b[1;32m----> 1\u001b[0m \u001b[39mfrom\u001b[39;00m \u001b[39mpyFiles\u001b[39;00m\u001b[39m.\u001b[39;00m\u001b[39mmy_lib\u001b[39;00m \u001b[39mimport\u001b[39;00m preprocessing\n\u001b[0;32m      3\u001b[0m reporter \u001b[39m=\u001b[39m preprocessing\u001b[39m.\u001b[39mcolumn_tmt_reporter(df, \u001b[39mtype\u001b[39m\u001b[39m=\u001b[39m\u001b[39mNone\u001b[39;00m)\n\u001b[0;32m      4\u001b[0m \u001b[39mprint\u001b[39m(reporter)\n",
      "\u001b[1;31mModuleNotFoundError\u001b[0m: No module named 'pyFiles'"
     ]
    }
   ],
   "source": [
    "from pyFiles.my_lib import preprocessing\n",
    "\n",
    "reporter = preprocessing.column_tmt_reporter(df, type=None)\n",
    "print(reporter)"
   ]
  },
  {
   "cell_type": "code",
   "execution_count": 25,
   "metadata": {},
   "outputs": [],
   "source": [
    "class DavidInfo:\n",
    "    \"\"\"\n",
    "    DavidInfo\n",
    "    ---------\n",
    "    A class including fundamental info of DAVID system\n",
    "    \"\"\"\n",
    "    def __init__(self, term:str='go', term_ls='short'):\n",
    "        \"\"\"\n",
    "        Params.\n",
    "        -------\n",
    "        term(str) : 'dss', 'go', 'pth'. default: 'go'\n",
    "\n",
    "        term_ls(str) : 'short', 'long'. default: 'short'\n",
    "            Show short/long trees of DAVID annotation terms\n",
    "            Short list is red-colored annotation terms,\n",
    "            long list is every available annotation terms\n",
    "        \"\"\"\n",
    "        self.term = term\n",
    "        self.term_ls = term_ls\n",
    "        self.seps = {'go':'~', 'kegg':':', 'interpro':':'}\n",
    "        \n",
    "\n",
    "    def show_list(self):\n",
    "        if self.term_ls =='short':\n",
    "            short_list = \"\"\"Annotation Categorical Terms (Short-list)\n",
    "                            ├ Disease\n",
    "                            │ ├ OMIM_DISEASE\n",
    "                            │ └ UP_KW_DISEASE\n",
    "                            ├ Funtional_Annotations\n",
    "                            │ ├ UP_KW_BIOLOGICAL_PROCESS\n",
    "                            │ ├ UP_KW_CELLULAR_COMPONENT\n",
    "                            │ ├ UP_KW_MOLECULAR_FUNCTION\n",
    "                            │ ├ UP_KW_PTM\n",
    "                            │ └ UP_SEQ_FEATURE\n",
    "                            ├ Gene_Ontology\n",
    "                            │ ├ GOTERM_BP_DIRECT\n",
    "                            │ ├ GOTERM_CC_DIRECT\n",
    "                            │ └ GOTERM_MF_DIRECT\n",
    "                            ├ Interactions\n",
    "                            │ └ UP_KW_LIGAND\n",
    "                            ├ Pathways\n",
    "                            │ ├ BBID\n",
    "                            │ ├ BIOCARTA\n",
    "                            │ └ KEGG_PATHWAY\n",
    "                            └ Protein_Domains\n",
    "                              ├ INTERPRO\n",
    "                              ├ PIR_SUPERFAMILY\n",
    "                              ├ SMART\n",
    "                              └ UP_KW_DOMAIN\"\"\"\n",
    "            print(short_list)\n",
    "        elif self.term_ls == 'long':\n",
    "            long_list = \"\"\"Annotation Categorical Terms (Long-list)\n",
    "                            ├ Disease\n",
    "                            │ ├ OMIM_DISEASE\n",
    "                            │ └ UP_KW_DISEASE\n",
    "                            ├ Funtional_Annotations\n",
    "                            │ ├ UP_KW_BIOLOGICAL_PROCESS\n",
    "                            │ ├ UP_KW_CELLULAR_COMPONENT\n",
    "                            │ ├ UP_KW_MOLECULAR_FUNCTION\n",
    "                            │ ├ UP_KW_PTM\n",
    "                            │ └ UP_SEQ_FEATURE\n",
    "                            ├ Gene_Ontology\n",
    "                            │ ├ GOTERM_BP_DIRECT\n",
    "                            │ ├ GOTERM_CC_DIRECT\n",
    "                            │ └ GOTERM_MF_DIRECT\n",
    "                            ├ Interactions\n",
    "                            │ └ UP_KW_LIGAND\n",
    "                            ├ Pathways\n",
    "                            │   ├ BBID\n",
    "                            │   ├ BIOCARTA\n",
    "                            │   └ KEGG_PATHWAY\n",
    "                            └ Protein_Domains\n",
    "                                ├ GENE3D\n",
    "                                ├ INTERPRO\n",
    "                                ├ PIR_SUPERFAMILY\n",
    "                                ├ SMART\n",
    "                                └ UP_KW_DOMAIN\"\"\"\n",
    "            print(long_list)\n",
    "        else:\n",
    "            raise ValueError\n",
    "        return None\n",
    "\n",
    "\n",
    "    def call_term_delim(self):\n",
    "        \"\"\"\n",
    "        call_term_delim\n",
    "        ---------------\n",
    "        call delimiter chracter of term; i.e., ``go`` calls `~`, ``kegg`` calls `:`\n",
    "        \"\"\"\n",
    "\n",
    "        \n",
    "        return self.seps[self.term]"
   ]
  },
  {
   "cell_type": "code",
   "execution_count": 26,
   "metadata": {},
   "outputs": [
    {
     "ename": "KeyError",
     "evalue": "'gos'",
     "output_type": "error",
     "traceback": [
      "\u001b[1;31m---------------------------------------------------------------------------\u001b[0m",
      "\u001b[1;31mKeyError\u001b[0m                                  Traceback (most recent call last)",
      "Cell \u001b[1;32mIn[26], line 2\u001b[0m\n\u001b[0;32m      1\u001b[0m info \u001b[38;5;241m=\u001b[39m DavidInfo(term\u001b[38;5;241m=\u001b[39m\u001b[38;5;124m'\u001b[39m\u001b[38;5;124mgos\u001b[39m\u001b[38;5;124m'\u001b[39m)\n\u001b[1;32m----> 2\u001b[0m \u001b[43minfo\u001b[49m\u001b[38;5;241;43m.\u001b[39;49m\u001b[43mcall_term_delim\u001b[49m\u001b[43m(\u001b[49m\u001b[43m)\u001b[49m\n",
      "Cell \u001b[1;32mIn[25], line 92\u001b[0m, in \u001b[0;36mDavidInfo.call_term_delim\u001b[1;34m(self)\u001b[0m\n\u001b[0;32m     84\u001b[0m \u001b[38;5;28;01mdef\u001b[39;00m \u001b[38;5;21mcall_term_delim\u001b[39m(\u001b[38;5;28mself\u001b[39m):\n\u001b[0;32m     85\u001b[0m \u001b[38;5;250m    \u001b[39m\u001b[38;5;124;03m\"\"\"\u001b[39;00m\n\u001b[0;32m     86\u001b[0m \u001b[38;5;124;03m    call_term_delim\u001b[39;00m\n\u001b[0;32m     87\u001b[0m \u001b[38;5;124;03m    ---------------\u001b[39;00m\n\u001b[0;32m     88\u001b[0m \u001b[38;5;124;03m    call delimiter chracter of term; i.e., ``go`` calls `~`, ``kegg`` calls `:`\u001b[39;00m\n\u001b[0;32m     89\u001b[0m \u001b[38;5;124;03m    \"\"\"\u001b[39;00m\n\u001b[1;32m---> 92\u001b[0m     \u001b[38;5;28;01mreturn\u001b[39;00m \u001b[38;5;28;43mself\u001b[39;49m\u001b[38;5;241;43m.\u001b[39;49m\u001b[43mseps\u001b[49m\u001b[43m[\u001b[49m\u001b[38;5;28;43mself\u001b[39;49m\u001b[38;5;241;43m.\u001b[39;49m\u001b[43mterm\u001b[49m\u001b[43m]\u001b[49m\n",
      "\u001b[1;31mKeyError\u001b[0m: 'gos'"
     ]
    }
   ],
   "source": [
    "info = DavidInfo(term='gos')\n",
    "info.call_term_delim()"
   ]
  },
  {
   "cell_type": "code",
   "execution_count": 22,
   "metadata": {},
   "outputs": [
    {
     "ename": "ValueError",
     "evalue": "",
     "output_type": "error",
     "traceback": [
      "\u001b[1;31m---------------------------------------------------------------------------\u001b[0m",
      "\u001b[1;31mKeyError\u001b[0m                                  Traceback (most recent call last)",
      "Cell \u001b[1;32mIn[19], line 92\u001b[0m, in \u001b[0;36mDavidInfo.call_term_delim\u001b[1;34m(self)\u001b[0m\n\u001b[0;32m     91\u001b[0m \u001b[38;5;28;01mtry\u001b[39;00m:\n\u001b[1;32m---> 92\u001b[0m     tmp \u001b[38;5;241m=\u001b[39m \u001b[38;5;28;43mself\u001b[39;49m\u001b[38;5;241;43m.\u001b[39;49m\u001b[43mseps\u001b[49m\u001b[43m[\u001b[49m\u001b[38;5;28;43mself\u001b[39;49m\u001b[38;5;241;43m.\u001b[39;49m\u001b[43mterm\u001b[49m\u001b[43m]\u001b[49m\n\u001b[0;32m     93\u001b[0m \u001b[38;5;28;01mexcept\u001b[39;00m:\n",
      "\u001b[1;31mKeyError\u001b[0m: 'gos'",
      "\nDuring handling of the above exception, another exception occurred:\n",
      "\u001b[1;31mValueError\u001b[0m                                Traceback (most recent call last)",
      "Cell \u001b[1;32mIn[22], line 1\u001b[0m\n\u001b[1;32m----> 1\u001b[0m \u001b[43minfo\u001b[49m\u001b[38;5;241;43m.\u001b[39;49m\u001b[43mcall_term_delim\u001b[49m\u001b[43m(\u001b[49m\u001b[43m)\u001b[49m\n",
      "Cell \u001b[1;32mIn[19], line 94\u001b[0m, in \u001b[0;36mDavidInfo.call_term_delim\u001b[1;34m(self)\u001b[0m\n\u001b[0;32m     92\u001b[0m     tmp \u001b[38;5;241m=\u001b[39m \u001b[38;5;28mself\u001b[39m\u001b[38;5;241m.\u001b[39mseps[\u001b[38;5;28mself\u001b[39m\u001b[38;5;241m.\u001b[39mterm]\n\u001b[0;32m     93\u001b[0m \u001b[38;5;28;01mexcept\u001b[39;00m:\n\u001b[1;32m---> 94\u001b[0m     \u001b[38;5;28;01mraise\u001b[39;00m \u001b[38;5;167;01mValueError\u001b[39;00m\n\u001b[0;32m     95\u001b[0m \u001b[38;5;28;01mreturn\u001b[39;00m tmp\n",
      "\u001b[1;31mValueError\u001b[0m: "
     ]
    }
   ],
   "source": []
  },
  {
   "cell_type": "code",
   "execution_count": 7,
   "metadata": {},
   "outputs": [
    {
     "data": {
      "text/plain": [
       "':'"
      ]
     },
     "execution_count": 7,
     "metadata": {},
     "output_type": "execute_result"
    }
   ],
   "source": [
    "info = DavidInfo(term='kegg')\n",
    "info.call_term_delim()"
   ]
  },
  {
   "cell_type": "code",
   "execution_count": null,
   "metadata": {},
   "outputs": [],
   "source": []
  }
 ],
 "metadata": {
  "kernelspec": {
   "display_name": "Python 3",
   "language": "python",
   "name": "python3"
  },
  "language_info": {
   "codemirror_mode": {
    "name": "ipython",
    "version": 3
   },
   "file_extension": ".py",
   "mimetype": "text/x-python",
   "name": "python",
   "nbconvert_exporter": "python",
   "pygments_lexer": "ipython3",
   "version": "3.10.9"
  },
  "orig_nbformat": 4
 },
 "nbformat": 4,
 "nbformat_minor": 2
}
