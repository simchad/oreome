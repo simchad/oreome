{
 "cells": [
  {
   "cell_type": "code",
   "execution_count": 1,
   "metadata": {},
   "outputs": [],
   "source": [
    "# 2023.07.20. THR\n",
    "\n",
    "import json\n",
    "\n",
    "with open('../../example/idmapping_2023_07_20.json', 'r') as f:\n",
    "    json_data = json.load(f)"
   ]
  },
  {
   "cell_type": "code",
   "execution_count": 3,
   "metadata": {},
   "outputs": [
    {
     "name": "stdout",
     "output_type": "stream",
     "text": [
      "{'from': 'A0A075B5P9', 'to': {'entryType': 'UniProtKB unreviewed (TrEMBL)', 'primaryAccession': 'A0A075B5P9', 'uniProtkbId': 'A0A075B5P9_MOUSE', 'entryAudit': {'firstPublicDate': '2014-10-01', 'lastAnnotationUpdateDate': '2023-06-28', 'lastSequenceUpdateDate': '2014-10-01', 'entryVersion': 46, 'sequenceVersion': 1}, 'annotationScore': 1.0, 'organism': {'scientificName': 'Mus musculus', 'commonName': 'Mouse', 'taxonId': 10090, 'evidences': [{'evidenceCode': 'ECO:0000313', 'source': 'Ensembl', 'id': 'ENSMUSP00000100225.2'}, {'evidenceCode': 'ECO:0000313', 'source': 'Proteomes', 'id': 'UP000000589'}], 'lineage': ['Eukaryota', 'Metazoa', 'Chordata', 'Craniata', 'Vertebrata', 'Euteleostomi', 'Mammalia', 'Eutheria', 'Euarchontoglires', 'Glires', 'Rodentia', 'Myomorpha', 'Muroidea', 'Muridae', 'Murinae', 'Mus', 'Mus']}, 'proteinExistence': '4: Predicted', 'proteinDescription': {'submissionNames': [{'fullName': {'evidences': [{'evidenceCode': 'ECO:0000313', 'source': 'Ensembl', 'id': 'ENSMUSP00000100225.2'}], 'value': 'Immunoglobulin heavy variable 5-4'}}], 'flag': 'Fragment'}, 'genes': [{'geneName': {'evidences': [{'evidenceCode': 'ECO:0000313', 'source': 'Ensembl', 'id': 'ENSMUSP00000100225.2'}, {'evidenceCode': 'ECO:0000313', 'source': 'MGI', 'id': 'MGI:4439895'}], 'value': 'Ighv5-4'}}], 'features': [{'type': 'Signal', 'location': {'start': {'value': 1, 'modifier': 'EXACT'}, 'end': {'value': 19, 'modifier': 'EXACT'}}, 'description': '', 'evidences': [{'evidenceCode': 'ECO:0000256', 'source': 'SAM', 'id': 'SignalP'}]}, {'type': 'Chain', 'location': {'start': {'value': 20, 'modifier': 'EXACT'}, 'end': {'value': 117, 'modifier': 'EXACT'}}, 'description': '', 'evidences': [{'evidenceCode': 'ECO:0000256', 'source': 'SAM', 'id': 'SignalP'}], 'featureId': 'PRO_5001705873'}, {'type': 'Domain', 'location': {'start': {'value': 31, 'modifier': 'EXACT'}, 'end': {'value': 117, 'modifier': 'EXACT'}}, 'description': 'Ig-like', 'evidences': [{'evidenceCode': 'ECO:0000259', 'source': 'PROSITE', 'id': 'PS50835'}]}, {'type': 'Non-terminal residue', 'location': {'start': {'value': 117, 'modifier': 'EXACT'}, 'end': {'value': 117, 'modifier': 'EXACT'}}, 'description': '', 'evidences': [{'evidenceCode': 'ECO:0000313', 'source': 'Ensembl', 'id': 'ENSMUSP00000100225.2'}]}], 'keywords': [{'evidences': [{'evidenceCode': 'ECO:0000313', 'source': 'Proteomes', 'id': 'UP000000589'}], 'id': 'KW-1185', 'category': 'Technical term', 'name': 'Reference proteome'}, {'evidences': [{'evidenceCode': 'ECO:0000256', 'source': 'SAM', 'id': 'SignalP'}], 'id': 'KW-0732', 'category': 'Domain', 'name': 'Signal'}], 'references': [{'citation': {'id': '19468303', 'citationType': 'journal article', 'authors': ['Church D.M.', 'Goodstadt L.', 'Hillier L.W.', 'Zody M.C.', 'Goldstein S.', 'She X.', 'Bult C.J.', 'Agarwala R.', 'Cherry J.L.', 'DiCuccio M.', 'Hlavina W.', 'Kapustin Y.', 'Meric P.', 'Maglott D.', 'Birtle Z.', 'Marques A.C.', 'Graves T.', 'Zhou S.', 'Teague B.', 'Potamousis K.', 'Churas C.', 'Place M.', 'Herschleb J.', 'Runnheim R.', 'Forrest D.', 'Amos-Landgraf J.', 'Schwartz D.C.', 'Cheng Z.', 'Lindblad-Toh K.', 'Eichler E.E.', 'Ponting C.P.'], 'citationCrossReferences': [{'database': 'PubMed', 'id': '19468303'}, {'database': 'DOI', 'id': '10.1371/journal.pbio.1000112'}], 'title': 'Lineage-specific biology revealed by a finished genome assembly of the mouse.', 'publicationDate': '2009', 'journal': 'PLoS Biol.', 'firstPage': 'E1000112', 'lastPage': 'E1000112', 'volume': '7'}, 'referencePositions': ['NUCLEOTIDE SEQUENCE [LARGE SCALE GENOMIC DNA]'], 'referenceComments': [{'evidences': [{'evidenceCode': 'ECO:0000313', 'source': 'Ensembl', 'id': 'ENSMUSP00000100225.2'}, {'evidenceCode': 'ECO:0000313', 'source': 'Proteomes', 'id': 'UP000000589'}], 'value': 'C57BL/6J', 'type': 'STRAIN'}], 'evidences': [{'evidenceCode': 'ECO:0000313', 'source': 'Ensembl', 'id': 'ENSMUSP00000100225.2'}, {'evidenceCode': 'ECO:0000313', 'source': 'Proteomes', 'id': 'UP000000589'}]}, {'citation': {'id': 'CI-20IMGCHMHIQ52', 'citationType': 'submission', 'authoringGroup': ['Ensembl'], 'publicationDate': 'MAR-2023', 'submissionDatabase': 'UniProtKB'}, 'referencePositions': ['IDENTIFICATION'], 'referenceComments': [{'evidences': [{'evidenceCode': 'ECO:0000313', 'source': 'Ensembl', 'id': 'ENSMUSP00000100225.2'}], 'value': 'C57BL/6J', 'type': 'STRAIN'}], 'evidences': [{'evidenceCode': 'ECO:0000313', 'source': 'Ensembl', 'id': 'ENSMUSP00000100225.2'}]}], 'uniProtKBCrossReferences': [{'database': 'AlphaFoldDB', 'id': 'A0A075B5P9', 'properties': [{'key': 'Description', 'value': '-'}]}, {'database': 'SMR', 'id': 'A0A075B5P9', 'properties': [{'key': 'Description', 'value': '-'}]}, {'database': 'ProteomicsDB', 'id': '351518', 'properties': [{'key': 'Description', 'value': '-'}]}, {'database': 'Ensembl', 'id': 'ENSMUST00000103444.3', 'properties': [{'key': 'ProteinId', 'value': 'ENSMUSP00000100225.2'}, {'key': 'GeneId', 'value': 'ENSMUSG00000095612.3'}]}, {'database': 'AGR', 'id': 'MGI:4439895', 'properties': [{'key': 'Description', 'value': '-'}]}, {'database': 'MGI', 'id': 'MGI:4439895', 'properties': [{'key': 'GeneName', 'value': 'Ighv5-4'}]}, {'database': 'VEuPathDB', 'id': 'HostDB:ENSMUSG00000095612', 'properties': [{'key': 'Description', 'value': '-'}]}, {'database': 'GeneTree', 'id': 'ENSGT01050000244871', 'properties': [{'key': 'Description', 'value': '-'}]}, {'database': 'HOGENOM', 'id': 'CLU_077975_5_1_1', 'properties': [{'key': 'Description', 'value': '-'}]}, {'database': 'InParanoid', 'id': 'A0A075B5P9', 'properties': [{'key': 'Description', 'value': '-'}]}, {'database': 'OMA', 'id': 'EDMALCY', 'properties': [{'key': 'Fingerprint', 'value': '-'}]}, {'database': 'PhylomeDB', 'id': 'A0A075B5P9', 'properties': [{'key': 'Description', 'value': '-'}]}, {'database': 'Reactome', 'id': 'R-MMU-166663', 'properties': [{'key': 'PathwayName', 'value': 'Initial triggering of complement'}]}, {'database': 'Reactome', 'id': 'R-MMU-173623', 'properties': [{'key': 'PathwayName', 'value': 'Classical antibody-mediated complement activation'}]}, {'database': 'Reactome', 'id': 'R-MMU-198933', 'properties': [{'key': 'PathwayName', 'value': 'Immunoregulatory interactions between a Lymphoid and a non-Lymphoid cell'}]}, {'database': 'Reactome', 'id': 'R-MMU-202733', 'properties': [{'key': 'PathwayName', 'value': 'Cell surface interactions at the vascular wall'}]}, {'database': 'Reactome', 'id': 'R-MMU-2029481', 'properties': [{'key': 'PathwayName', 'value': 'FCGR activation'}]}, {'database': 'Reactome', 'id': 'R-MMU-2029482', 'properties': [{'key': 'PathwayName', 'value': 'Regulation of actin dynamics for phagocytic cup formation'}]}, {'database': 'Reactome', 'id': 'R-MMU-2029485', 'properties': [{'key': 'PathwayName', 'value': 'Role of phospholipids in phagocytosis'}]}, {'database': 'Reactome', 'id': 'R-MMU-2168880', 'properties': [{'key': 'PathwayName', 'value': 'Scavenging of heme from plasma'}]}, {'database': 'Reactome', 'id': 'R-MMU-2454202', 'properties': [{'key': 'PathwayName', 'value': 'Fc epsilon receptor (FCERI) signaling'}]}, {'database': 'Reactome', 'id': 'R-MMU-2730905', 'properties': [{'key': 'PathwayName', 'value': 'Role of LAT2/NTAL/LAB on calcium mobilization'}]}, {'database': 'Reactome', 'id': 'R-MMU-2871796', 'properties': [{'key': 'PathwayName', 'value': 'FCERI mediated MAPK activation'}]}, {'database': 'Reactome', 'id': 'R-MMU-2871809', 'properties': [{'key': 'PathwayName', 'value': 'FCERI mediated Ca+2 mobilization'}]}, {'database': 'Reactome', 'id': 'R-MMU-2871837', 'properties': [{'key': 'PathwayName', 'value': 'FCERI mediated NF-kB activation'}]}, {'database': 'Reactome', 'id': 'R-MMU-5690714', 'properties': [{'key': 'PathwayName', 'value': 'CD22 mediated BCR regulation'}]}, {'database': 'Reactome', 'id': 'R-MMU-977606', 'properties': [{'key': 'PathwayName', 'value': 'Regulation of Complement cascade'}]}, {'database': 'Reactome', 'id': 'R-MMU-983695', 'properties': [{'key': 'PathwayName', 'value': 'Antigen activates B Cell Receptor (BCR) leading to generation of second messengers'}]}, {'database': 'ChiTaRS', 'id': 'Ighv5-4', 'properties': [{'key': 'OrganismName', 'value': 'mouse'}]}, {'database': 'Proteomes', 'id': 'UP000000589', 'properties': [{'key': 'Component', 'value': 'Chromosome 12'}]}, {'database': 'RNAct', 'id': 'A0A075B5P9', 'properties': [{'key': 'moleculeType', 'value': 'protein'}]}, {'database': 'Bgee', 'id': 'ENSMUSG00000095612', 'properties': [{'key': 'ExpressionPatterns', 'value': 'Expressed in spleen and 17 other tissues'}]}, {'database': 'GO', 'id': 'GO:0009897', 'properties': [{'key': 'GoTerm', 'value': 'C:external side of plasma membrane'}, {'key': 'GoEvidenceType', 'value': 'IBA:GO_Central'}], 'evidences': [{'evidenceCode': 'ECO:0000318', 'source': 'PubMed', 'id': '21873635'}]}, {'database': 'CDD', 'id': 'cd04981', 'properties': [{'key': 'EntryName', 'value': 'IgV_H'}, {'key': 'MatchStatus', 'value': '1'}]}, {'database': 'Gene3D', 'id': '2.60.40.10', 'properties': [{'key': 'EntryName', 'value': 'Immunoglobulins'}, {'key': 'MatchStatus', 'value': '1'}]}, {'database': 'InterPro', 'id': 'IPR007110', 'properties': [{'key': 'EntryName', 'value': 'Ig-like_dom'}]}, {'database': 'InterPro', 'id': 'IPR036179', 'properties': [{'key': 'EntryName', 'value': 'Ig-like_dom_sf'}]}, {'database': 'InterPro', 'id': 'IPR013783', 'properties': [{'key': 'EntryName', 'value': 'Ig-like_fold'}]}, {'database': 'InterPro', 'id': 'IPR013106', 'properties': [{'key': 'EntryName', 'value': 'Ig_V-set'}]}, {'database': 'PANTHER', 'id': 'PTHR23266:SF269', 'properties': [{'key': 'EntryName', 'value': 'IG HEAVY CHAIN V REGION 345-RELATED'}, {'key': 'MatchStatus', 'value': '1'}]}, {'database': 'PANTHER', 'id': 'PTHR23266', 'properties': [{'key': 'EntryName', 'value': 'IMMUNOGLOBULIN HEAVY CHAIN'}, {'key': 'MatchStatus', 'value': '1'}]}, {'database': 'Pfam', 'id': 'PF07686', 'properties': [{'key': 'EntryName', 'value': 'V-set'}, {'key': 'MatchStatus', 'value': '1'}]}, {'database': 'SMART', 'id': 'SM00406', 'properties': [{'key': 'EntryName', 'value': 'IGv'}, {'key': 'MatchStatus', 'value': '1'}]}, {'database': 'SUPFAM', 'id': 'SSF48726', 'properties': [{'key': 'EntryName', 'value': 'Immunoglobulin'}, {'key': 'MatchStatus', 'value': '1'}]}, {'database': 'PROSITE', 'id': 'PS50835', 'properties': [{'key': 'EntryName', 'value': 'IG_LIKE'}, {'key': 'MatchStatus', 'value': '1'}]}], 'sequence': {'value': 'MNFGLSLIFLVLVLKGVQCEVQLVESGGGLVKPGGSLKLSCAASGFTFSSYAMSWVRQTPEKRLEWVATISDGGSYTYYPDNVKGRFTISRDNAKNNLYLQMSHLKSEDTAMYYCAR', 'length': 117, 'molWeight': 12965, 'crc64': 'C8007103342B536C', 'md5': '4E817EB81D6F508BB4A594B795F5D98E'}, 'extraAttributes': {'countByFeatureType': {'Signal': 1, 'Chain': 1, 'Domain': 1, 'Non-terminal residue': 1}, 'uniParcId': 'UPI00000269C2'}}}\n"
     ]
    }
   ],
   "source": [
    "# Access\n",
    "print(json_data['results'][0])"
   ]
  },
  {
   "cell_type": "code",
   "execution_count": 18,
   "metadata": {},
   "outputs": [
    {
     "name": "stdout",
     "output_type": "stream",
     "text": [
      "Complex I intermediate-associated protein 30, mitochondrial\n"
     ]
    }
   ],
   "source": [
    "# Recommended Name (5, )\n",
    "pr_name = json_data['results'][4]['to']['proteinDescription']['recommendedName']['fullName']['value']\n",
    "print(pr_name)"
   ]
  },
  {
   "cell_type": "code",
   "execution_count": 17,
   "metadata": {},
   "outputs": [
    {
     "name": "stdout",
     "output_type": "stream",
     "text": [
      "NADH dehydrogenase [ubiquinone] 1 alpha subcomplex assembly factor 1\n"
     ]
    }
   ],
   "source": [
    "# Alternative Name (4, )\n",
    "pr_name = json_data['results'][4]['to']['proteinDescription']['alternativeNames'][0]['fullName']['value']\n",
    "print(pr_name)"
   ]
  },
  {
   "cell_type": "code",
   "execution_count": 19,
   "metadata": {},
   "outputs": [
    {
     "ename": "KeyError",
     "evalue": "'submissionNames'",
     "output_type": "error",
     "traceback": [
      "\u001b[1;31m---------------------------------------------------------------------------\u001b[0m",
      "\u001b[1;31mKeyError\u001b[0m                                  Traceback (most recent call last)",
      "Cell \u001b[1;32mIn[19], line 2\u001b[0m\n\u001b[0;32m      1\u001b[0m \u001b[39m# Submission Name (0, )\u001b[39;00m\n\u001b[1;32m----> 2\u001b[0m \u001b[39mprint\u001b[39m(json_data[\u001b[39m'\u001b[39;49m\u001b[39mresults\u001b[39;49m\u001b[39m'\u001b[39;49m][\u001b[39m4\u001b[39;49m][\u001b[39m'\u001b[39;49m\u001b[39mto\u001b[39;49m\u001b[39m'\u001b[39;49m][\u001b[39m'\u001b[39;49m\u001b[39mproteinDescription\u001b[39;49m\u001b[39m'\u001b[39;49m][\u001b[39m'\u001b[39;49m\u001b[39msubmissionNames\u001b[39;49m\u001b[39m'\u001b[39;49m][\u001b[39m0\u001b[39m][\u001b[39m'\u001b[39m\u001b[39mfullName\u001b[39m\u001b[39m'\u001b[39m][\u001b[39m'\u001b[39m\u001b[39mvalue\u001b[39m\u001b[39m'\u001b[39m])\n",
      "\u001b[1;31mKeyError\u001b[0m: 'submissionNames'"
     ]
    }
   ],
   "source": [
    "# Submission Name (0, )\n",
    "print(json_data['results'][4]['to']['proteinDescription']['submissionNames'][0]['fullName']['value'])"
   ]
  },
  {
   "cell_type": "code",
   "execution_count": 13,
   "metadata": {},
   "outputs": [
    {
     "ename": "KeyError",
     "evalue": "'alternativeNames'",
     "output_type": "error",
     "traceback": [
      "\u001b[1;31m---------------------------------------------------------------------------\u001b[0m",
      "\u001b[1;31mKeyError\u001b[0m                                  Traceback (most recent call last)",
      "Cell \u001b[1;32mIn[13], line 4\u001b[0m\n\u001b[0;32m      2\u001b[0m row_num \u001b[39m=\u001b[39m \u001b[39m7\u001b[39m\n\u001b[0;32m      3\u001b[0m \u001b[39m#rec_name = json_data['results'][row_num]['to']['proteinDescription']['recommendedName']['fullName']['value']\u001b[39;00m\n\u001b[1;32m----> 4\u001b[0m alt_name \u001b[39m=\u001b[39m json_data[\u001b[39m'\u001b[39;49m\u001b[39mresults\u001b[39;49m\u001b[39m'\u001b[39;49m][row_num][\u001b[39m'\u001b[39;49m\u001b[39mto\u001b[39;49m\u001b[39m'\u001b[39;49m][\u001b[39m'\u001b[39;49m\u001b[39mproteinDescription\u001b[39;49m\u001b[39m'\u001b[39;49m][\u001b[39m'\u001b[39;49m\u001b[39malternativeNames\u001b[39;49m\u001b[39m'\u001b[39;49m][\u001b[39m0\u001b[39m][\u001b[39m'\u001b[39m\u001b[39mfullName\u001b[39m\u001b[39m'\u001b[39m][\u001b[39m'\u001b[39m\u001b[39mvalue\u001b[39m\u001b[39m'\u001b[39m]\n\u001b[0;32m      5\u001b[0m sub_name \u001b[39m=\u001b[39m json_data[\u001b[39m'\u001b[39m\u001b[39mresults\u001b[39m\u001b[39m'\u001b[39m][row_num][\u001b[39m'\u001b[39m\u001b[39mto\u001b[39m\u001b[39m'\u001b[39m][\u001b[39m'\u001b[39m\u001b[39mproteinDescription\u001b[39m\u001b[39m'\u001b[39m][\u001b[39m'\u001b[39m\u001b[39msubmissionNames\u001b[39m\u001b[39m'\u001b[39m][\u001b[39m0\u001b[39m][\u001b[39m'\u001b[39m\u001b[39mfullName\u001b[39m\u001b[39m'\u001b[39m][\u001b[39m'\u001b[39m\u001b[39mvalue\u001b[39m\u001b[39m'\u001b[39m]\n\u001b[0;32m      7\u001b[0m \u001b[39m#print(rec_name)\u001b[39;00m\n",
      "\u001b[1;31mKeyError\u001b[0m: 'alternativeNames'"
     ]
    }
   ],
   "source": [
    "# Protein Names\n",
    "row_num = 7\n",
    "rec_name = json_data['results'][row_num]['to']['proteinDescription']['recommendedName']['fullName']['value']\n",
    "#alt_name = json_data['results'][row_num]['to']['proteinDescription']['alternativeNames'][0]['fullName']['value']\n",
    "sub_name = json_data['results'][row_num]['to']['proteinDescription']['submissionNames'][0]['fullName']['value']\n",
    "\n",
    "print(rec_name)\n",
    "#print(alt_name)\n",
    "print(sub_name)"
   ]
  },
  {
   "cell_type": "code",
   "execution_count": 3,
   "metadata": {},
   "outputs": [
    {
     "name": "stdout",
     "output_type": "stream",
     "text": [
      "R4GML4\n"
     ]
    }
   ],
   "source": [
    "pr_from = json_data['results'][99]['from']\n",
    "print(pr_from)"
   ]
  },
  {
   "cell_type": "code",
   "execution_count": 190,
   "metadata": {},
   "outputs": [
    {
     "name": "stdout",
     "output_type": "stream",
     "text": [
      "17242355\n",
      "18630941\n",
      "19144319\n",
      "19468303\n",
      "21183079\n",
      "CI-20IMGCHMHIQ52\n"
     ]
    }
   ],
   "source": [
    "\"\"\"\n",
    "# json_data['results'][int]['from']\n",
    "# json_data['results'][int]['to']['proteinDescription']['recommendedName']['fullName']['value']\n",
    "# json_data['results'][int]['to']['proteinDescription']['alternativeNames'][0]['fullName']['value']\n",
    "# json_data['results'][int]['to']['proteinDescription']['submissionNames'][0]['fullName']['value']\n",
    "\n",
    "Uniprot .json file structure by keys\n",
    "\n",
    "results\n",
    "    from\n",
    "        Uniprot Accession ID\n",
    "    to\n",
    "        'entryType' : 'UniProtKB reviewed (Swiss-Prot)' OR 'UniProtKB unreviewed (TrEMBL)'\n",
    "        'primaryAccession' : (Primary Accession ID)\n",
    "        'uniProtkbId' : UniprotKB_MOUSE\n",
    "        'entryAudit'\n",
    "        'annotationScore'\n",
    "        'organism'\n",
    "            'scientificName'\n",
    "            'commonName'\n",
    "            'taxonId'\n",
    "            'evidences'\n",
    "                ['evidenceCode', 'source', 'id']\n",
    "            'lineage'\n",
    "        'proteinExistence'\n",
    "        'proteinDescription'\n",
    "            'recommendedName'\n",
    "                'fullName'\n",
    "                    'evidences'\n",
    "                    ['evidenceCode', 'source', 'id'],\n",
    "                    'value' <-- ***\n",
    "            'alternativeNames'\n",
    "            [\n",
    "            'fullName'\n",
    "                'evidences'\n",
    "                ['evidenceCode', 'source', 'id'],\n",
    "                'value' <-- ***\n",
    "            ]\n",
    "            'submissionNames'\n",
    "            [\n",
    "            'fullName'\n",
    "                'evidences'\n",
    "                ['evidenceCode', 'source', 'id']\n",
    "                'value' <-- ***\n",
    "            ]\n",
    "        'genes'\n",
    "        [\n",
    "        'geneName'\n",
    "            'evidences'\n",
    "            ['evidenceCode', 'source', 'id'],\n",
    "            'value'\n",
    "        ]\n",
    "        'features'\n",
    "        'keywords'\n",
    "        'references' <-- # of N from ['references'].__len__() \n",
    "        [\n",
    "        'citation'\n",
    "            'id'\n",
    "            'citationType'\n",
    "            'authors'\n",
    "            'citationCrossReferences'\n",
    "            'title'\n",
    "            'publicationDate'\n",
    "            'journal'\n",
    "            'firstPage'\n",
    "            'lastPage'\n",
    "            'volume'\n",
    "        'referencePositions'\n",
    "        'referencecomments'\n",
    "        'evidences'\n",
    "        ]\n",
    "        'uniProtKBCrossReferences'\n",
    "        'sequence'\n",
    "            'value' <-- ***\n",
    "            'length'\n",
    "            'molWeight'\n",
    "            'crc64'\n",
    "            'md5'\n",
    "        'extraAttributes'\n",
    "\"\"\""
   ]
  },
  {
   "cell_type": "code",
   "execution_count": 4,
   "metadata": {},
   "outputs": [
    {
     "name": "stdout",
     "output_type": "stream",
     "text": [
      "17242355\n",
      "18630941\n",
      "19144319\n",
      "19468303\n",
      "21183079\n",
      "CI-20IMGCHMHIQ52\n"
     ]
    }
   ],
   "source": [
    "num_sublist = json_data['results'][1]['to']['references'].__len__()\n",
    "\n",
    "for i in range(num_sublist):\n",
    "    keynames = json_data['results'][1]['to']['references'][i]['citation']\n",
    "    PMID = keynames['id']\n",
    "    print(PMID)\n",
    "\n",
    "pr_names = json_data['results'][1]['to']['references'][0]['citation']\n",
    "#print(pr_names)"
   ]
  }
 ],
 "metadata": {
  "kernelspec": {
   "display_name": "Python 3",
   "language": "python",
   "name": "python3"
  },
  "language_info": {
   "codemirror_mode": {
    "name": "ipython",
    "version": 3
   },
   "file_extension": ".py",
   "mimetype": "text/x-python",
   "name": "python",
   "nbconvert_exporter": "python",
   "pygments_lexer": "ipython3",
   "version": "3.10.9"
  },
  "orig_nbformat": 4
 },
 "nbformat": 4,
 "nbformat_minor": 2
}
