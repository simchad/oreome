{
 "cells": [
  {
   "cell_type": "code",
   "execution_count": 40,
   "id": "a05a6bd6-f6df-44aa-aff0-a5b6fcffbed4",
   "metadata": {},
   "outputs": [
    {
     "name": "stdout",
     "output_type": "stream",
     "text": [
      "message! >>> 10 Potential contaminant elements are dropped\n",
      "message! >>> 12 reverse elements are dropped\n",
      "message! >>> 0 reverse elements are dropped\n",
      "message! >>> 3 columns are dropped: [Only identified by site], [Reverse], [Potential contaminant]\n",
      "message! >>> ./outputs/20220616_DU145_Global_100ng_60min_7-28%_1_proteinGroups_v0.txt added.\n",
      "message! >>> Dropped 18 columns\n",
      "\n",
      "message! >>> Protein IDs splited\n",
      "message! >>> Best Ms/MS splited\n",
      "message! >>> ./outputs/20220616_DU145_Global_100ng_60min_7-28%_1_proteinGroups_v1.txt added.\n",
      "<class 'pandas.core.frame.DataFrame'>\n",
      "RangeIndex: 1245 entries, 0 to 1244\n",
      "Data columns (total 13 columns):\n",
      " #   Column                         Non-Null Count  Dtype  \n",
      "---  ------                         --------------  -----  \n",
      " 0   Protein IDs                    1245 non-null   object \n",
      " 1   Peptide counts (razor+unique)  1245 non-null   object \n",
      " 2   Protein names                  1242 non-null   object \n",
      " 3   Gene names                     1242 non-null   object \n",
      " 4   Number of proteins             1245 non-null   int64  \n",
      " 5   Razor + unique peptides        1245 non-null   int64  \n",
      " 6   Unique sequence coverage [%]   1245 non-null   float64\n",
      " 7   Sequence lengths               1245 non-null   object \n",
      " 8   Score                          1245 non-null   float64\n",
      " 9   Intensity                      1245 non-null   int64  \n",
      " 10  MS/MS count                    1245 non-null   int64  \n",
      " 11  id                             1245 non-null   int64  \n",
      " 12  Best MS/MS                     1245 non-null   object \n",
      "dtypes: float64(2), int64(5), object(6)\n",
      "memory usage: 126.6+ KB\n"
     ]
    }
   ],
   "source": [
    "# proteinGroups.txt 전처리 구문\n",
    "# v0: proteinGroups.txt 로드 후, contam, reverse, only ident 필터링\n",
    "# v1.0: 선택 column제외 필터링 + ';'으로 구분된 데이터 요소 split\n",
    "\n",
    "# 패키지 불러오기\n",
    "import pandas as pd\n",
    "from time import localtime, strftime\n",
    "\n",
    "global txtpath\n",
    "txtpath = 'E:/HFX-DATA/Searched/20220616_DU145_Global_100ng_60min_7-28%_1/combined/txt/proteinGroups.txt'\n",
    "\n",
    "class op_address:\n",
    "    def __init__(self, vers):\n",
    "        self.vers = vers\n",
    "        \n",
    "    def pg_address(self):\n",
    "        address = '/outputs/'+txtpath[21:62]+'_proteinGroups_v'+str(self.vers)+'.txt'\n",
    "        return address\n",
    "\n",
    "    def pep_address(self):\n",
    "        address = '/outputs/'+txtpath[21:62]+'_peptides_v'+str(self.vers)+'.txt'\n",
    "        return address\n",
    "\n",
    "\n",
    "# proteinGroups.txt 로드.\n",
    "# ./RawData/TextFiles 경로에 proteinGroups.txt 위치해야.\n",
    "df = pd.read_table(filepath_or_buffer=txtpath)\n",
    "len0 = len(df)\n",
    "\n",
    "\n",
    "# version 0 : Filtered [Potential contaminants], [Reverse], [Only identified by site]\n",
    "df.drop(df[df['Potential contaminant'] == '+'].index, inplace = True)\n",
    "len_contam = len0 - len(df)\n",
    "print('message! >>> '+str(len_contam)+' Potential contaminant elements are dropped')\n",
    "\n",
    "df.drop(df[df['Reverse'] == '+'].index, inplace = True)\n",
    "len_rev = len0-len_contam-len(df)\n",
    "print('message! >>> '+str(len_rev)+' reverse elements are dropped')\n",
    "\n",
    "df.drop(df[df['Only identified by site'] == '+'].index, inplace = True)\n",
    "len_osite = len0-len_contam-len_rev-len(df)\n",
    "print('message! >>> '+str(len_osite)+' reverse elements are dropped')\n",
    "\n",
    "df.drop(columns=['Only identified by site', 'Reverse', 'Potential contaminant'], inplace=True)\n",
    "print('message! >>> 3 columns are dropped: [Only identified by site], [Reverse], [Potential contaminant]')\n",
    "\n",
    "# Generate file: version 0\n",
    "v = op_address(0)\n",
    "df.to_csv(path_or_buf='.'+v.pg_address(), sep='\\t', index=False, encoding='utf-8')\n",
    "print('message! >>> '+'.'+v.pg_address()+' added.')\n",
    "\n",
    "\n",
    "# 남겨놓을 column label 제외 필터링.\n",
    "column_names = list(df)\n",
    "rest = {'Protein IDs', 'Peptide counts (razor+unique)', 'Protein names', 'Gene names', 'Number of proteins',\n",
    "        'Razor + unique peptides', 'Unique sequence coverage [%]', 'Sequence lengths' ,'Score', 'Intensity',\n",
    "        'MS/MS count', 'id', 'Best MS/MS'}\n",
    "filt = [ele for ele in column_names if ele not in rest]\n",
    "df.drop(columns=filt, inplace=True)\n",
    "\n",
    "print('message! >>> Dropped '+str(len(filt))+' columns\\n')\n",
    "\n",
    "\n",
    "# version 1.0 : ';'으로 구분된 데이터 요소 split후 첫 요소로 값 교체.\n",
    "# (1) Protein IDs\n",
    "prot = pd.Series(df[\"Protein IDs\"])\n",
    "for ele in prot:\n",
    "    tmp = ele.split(';')[0]\n",
    "    prot.replace(ele, tmp, inplace=True)\n",
    "print('message! >>> Protein IDs splited')\n",
    "\n",
    "# (2) Best MS/MS\n",
    "bmsms = pd.Series(df[\"Best MS/MS\"])\n",
    "for ele in bmsms:\n",
    "    tmp = ele.split(';')[0]\n",
    "    bmsms.replace(ele, tmp, inplace=True)\n",
    "print('message! >>> Best Ms/MS splited')\n",
    "\n",
    "# index 넘버링 초기화\n",
    "df.reset_index(drop=True, inplace=True)\n",
    "\n",
    "# Generate file: version 1\n",
    "v = op_address(1)\n",
    "df.to_csv(path_or_buf='.'+v.pg_address(), sep='\\t', index=False, encoding='utf-8')\n",
    "print('message! >>> '+'.'+v.pg_address()+' added.')\n",
    "\n",
    "df.info()"
   ]
  },
  {
   "cell_type": "code",
   "execution_count": 41,
   "id": "6d053eaf-3dd8-4dfe-bb9c-6d642918c8d3",
   "metadata": {},
   "outputs": [
    {
     "data": {
      "image/png": "[encoded data removed]",
      "text/plain": [
       "<Figure size 432x288 with 1 Axes>"
      ]
     },
     "metadata": {},
     "output_type": "display_data"
    }
   ],
   "source": [
    "import matplotlib.pyplot as plt\n",
    "from matplotlib_venn import venn3\n",
    "\n",
    "# Example\n",
    "set1 = set(['A', 'B', 'C', 'D'])\n",
    "set2 = set(['B', 'C', 'D', 'E'])\n",
    "set3 = set(['C', 'D',' E', 'F', 'G'])\n",
    "\n",
    "venn3([set1, set2, set3], ('Set1', 'Set2', 'Set3'))\n",
    "plt.show()"
   ]
  },
  {
   "cell_type": "code",
   "execution_count": 45,
   "id": "484eabea-71b3-4e67-8834-a20094c5dfd7",
   "metadata": {},
   "outputs": [
    {
     "data": {
      "text/plain": [
       "1245"
      ]
     },
     "execution_count": 45,
     "metadata": {},
     "output_type": "execute_result"
    }
   ],
   "source": [
    "len(prot)"
   ]
  },
  {
   "cell_type": "code",
   "execution_count": 51,
   "id": "08e4d9f3-d382-455b-945a-64093380efa9",
   "metadata": {},
   "outputs": [
    {
     "name": "stdout",
     "output_type": "stream",
     "text": [
      "Set1 has 1245 elements\n",
      "Set2 has 1311 elements\n",
      "Set3 has 1289 elements\n"
     ]
    }
   ],
   "source": [
    "# conda install -c conda-forge matplotlib-venn\n",
    "\n",
    "import pandas as pd\n",
    "import matplotlib.pyplot as plt\n",
    "from matplotlib_venn import venn3\n",
    "\n",
    "\n",
    "# N = 3\n",
    "path1 = './outputs/20220616_DU145_Global_100ng_60min_7-28%_1_proteinGroups_v1.txt'\n",
    "path2 = './outputs/20220616_DU145_Global_100ng_60min_7-28%_2_proteinGroups_v1.txt'\n",
    "path3 = './outputs/20220616_DU145_Global_100ng_60min_7-28%_3_proteinGroups_v1.txt'\n",
    "\n",
    "\n",
    "# set: 집합 선언\n",
    "df1 = pd.read_table(filepath_or_buffer=path1)\n",
    "set1 = set(pd.Series(df1[\"Protein IDs\"]))\n",
    "print('Set1 has '+str(len(set1))+' elements')\n",
    "\n",
    "df2 = pd.read_table(filepath_or_buffer=path2)\n",
    "set2 = set(pd.Series(df2[\"Protein IDs\"]))\n",
    "print('Set2 has '+str(len(set2))+' elements')\n",
    "\n",
    "df3 = pd.read_table(filepath_or_buffer=path3)\n",
    "set3 = set(pd.Series(df3[\"Protein IDs\"]))\n",
    "print('Set3 has '+str(len(set3))+' elements')"
   ]
  },
  {
   "cell_type": "code",
   "execution_count": 52,
   "id": "96b1d15a-5ead-4f80-9c7d-b9a42af3ce08",
   "metadata": {},
   "outputs": [
    {
     "data": {
      "image/png": "[encoded data removed]",
      "text/plain": [
       "<Figure size 432x288 with 1 Axes>"
      ]
     },
     "metadata": {},
     "output_type": "display_data"
    }
   ],
   "source": [
    "# Visualization\n",
    "venn3([set1, set2, set3], ('Set1', 'Set2', 'Set3'))\n",
    "plt.show()"
   ]
  },
  {
   "cell_type": "code",
   "execution_count": 53,
   "id": "193c470a-2179-4121-8b97-c4dea44364b9",
   "metadata": {},
   "outputs": [
    {
     "data": {
      "image/png": "[encoded data removed]",
      "text/plain": [
       "<Figure size 432x288 with 1 Axes>"
      ]
     },
     "metadata": {},
     "output_type": "display_data"
    }
   ],
   "source": [
    "from matplotlib_venn import venn3_unweighted\n",
    "venn3_unweighted([set1, set2, set3], ('Set1', 'Set2', 'Set3'))\n",
    "plt.show()"
   ]
  },
  {
   "cell_type": "code",
   "execution_count": null,
   "id": "10861503-763d-4303-8d5d-6f0e49773b7b",
   "metadata": {},
   "outputs": [],
   "source": []
  }
 ],
 "metadata": {
  "kernelspec": {
   "display_name": "Python 3 (ipykernel)",
   "language": "python",
   "name": "python3"
  },
  "language_info": {
   "codemirror_mode": {
    "name": "ipython",
    "version": 3
   },
   "file_extension": ".py",
   "mimetype": "text/x-python",
   "name": "python",
   "nbconvert_exporter": "python",
   "pygments_lexer": "ipython3",
   "version": "3.9.7"
  }
 },
 "nbformat": 4,
 "nbformat_minor": 5
}
